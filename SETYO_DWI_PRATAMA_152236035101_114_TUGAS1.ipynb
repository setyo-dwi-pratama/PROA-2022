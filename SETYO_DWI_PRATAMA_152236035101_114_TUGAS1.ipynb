{
  "nbformat": 4,
  "nbformat_minor": 0,
  "metadata": {
    "colab": {
      "name": "SETYO DWI PRATAMA_152236035101-114_TUGAS1.ipynb",
      "provenance": [],
      "authorship_tag": "ABX9TyOrABjEFFFIYy/gv5r2Q9C7",
      "include_colab_link": true
    },
    "kernelspec": {
      "name": "python3",
      "display_name": "Python 3"
    },
    "language_info": {
      "name": "python"
    },
    "accelerator": "GPU"
  },
  "cells": [
    {
      "cell_type": "markdown",
      "metadata": {
        "id": "view-in-github",
        "colab_type": "text"
      },
      "source": [
        "<a href=\"https://colab.research.google.com/github/setyo-dwi-pratama/PROA-2022/blob/main/SETYO_DWI_PRATAMA_152236035101_114_TUGAS1.ipynb\" target=\"_parent\"><img src=\"https://colab.research.google.com/assets/colab-badge.svg\" alt=\"Open In Colab\"/></a>"
      ]
    },
    {
      "cell_type": "markdown",
      "source": [
        "# **TUGAS 1**\n",
        "## Nama : Setyo Dwi Pratama\n",
        "## No Regiter : 152236035101-114\n",
        "## Kelas / Tema Pelatihan : MLT2D-Machine Learning with TensorFlow\n"
      ],
      "metadata": {
        "id": "MOOpojkqbXja"
      }
    },
    {
      "cell_type": "code",
      "source": [
        "# Nomor 1\n",
        "# Buatlah sebuah Fungsi untuk menghitung volume balok\n",
        "\n",
        "def volumeBalok(panjang, lebar, tinggi):\n",
        "  Volume = (panjang * lebar * tinggi)\n",
        "  print(\"Volume balok =\", Volume)\n",
        "\n",
        "volumeBalok(4,2,2)\n",
        "  "
      ],
      "metadata": {
        "colab": {
          "base_uri": "https://localhost:8080/"
        },
        "id": "DYWyfF41dSID",
        "outputId": "9786d96f-525f-4eae-b67f-0a0985603220"
      },
      "execution_count": 43,
      "outputs": [
        {
          "output_type": "stream",
          "name": "stdout",
          "text": [
            "Volume balok = 16\n"
          ]
        }
      ]
    },
    {
      "cell_type": "code",
      "source": [
        "# Nomor 2\n",
        "# Buat Program untuk menghitung jumlah seluruh angka ganjil dalam suatu list\n",
        "# Input : list berisi angka-angka\n",
        "# Output : Jumlah seluruh angka ganjil\n",
        "\n",
        "awal = int(input(\"Masukkan angka awal = \"))\n",
        "akhir = int(input(\"Masukkan angka akhir = \"))\n",
        "x = []\n",
        "y = []\n",
        "z = []\n",
        "for i in range(awal, akhir+1):\n",
        "  if i:\n",
        "    z.append(i)\n",
        "  if i%2 == 0:\n",
        "    x.append(i)\n",
        "  else:\n",
        "    y.append(i)\n",
        "print(\"semua angka : \", z)\n",
        "print(\"angka genap : \", x)\n",
        "print(\"angka ganjil : \", y)\n",
        "print(\"banyaknya angka ganjil : \", len(y))\n",
        "print(\"jadi jumlah seluruh angka ganjil adalah : \", sum(y))\n"
      ],
      "metadata": {
        "colab": {
          "base_uri": "https://localhost:8080/"
        },
        "id": "EE0q-soFeXTP",
        "outputId": "8471437f-e0f8-4d88-df79-b5ca11317b2b"
      },
      "execution_count": 44,
      "outputs": [
        {
          "output_type": "stream",
          "name": "stdout",
          "text": [
            "Masukkan angka awal = 1\n",
            "Masukkan angka akhir = 10\n",
            "semua angka :  [1, 2, 3, 4, 5, 6, 7, 8, 9, 10]\n",
            "angka genap :  [2, 4, 6, 8, 10]\n",
            "angka ganjil :  [1, 3, 5, 7, 9]\n",
            "banyaknya angka ganjil :  5\n",
            "jadi jumlah seluruh angka ganjil adalah :  25\n"
          ]
        }
      ]
    },
    {
      "cell_type": "code",
      "source": [
        "# Nomor 3\n",
        "# Diberikan input suatu angka, tampilkan formasi piramida bintang dengan tinggi sesuai dengan angka yang diinputkan\n",
        "# Input: suatu angka (n)\n",
        "# Output: piramida dengan tinggi n\n",
        "\n",
        "#    *\n",
        "#   ***\n",
        "#  *****  contoh output untuk n = 5\n",
        "# *******\n",
        "#*********\n",
        "\n",
        "n = int(input(\"masukkan piramida dengan tinggi n : \"))\n",
        "for i in range(1, n+1):\n",
        "  print((n-i) * \" \" + (2*i-1) * \"*\")"
      ],
      "metadata": {
        "colab": {
          "base_uri": "https://localhost:8080/"
        },
        "id": "4WEfw1HLfOVV",
        "outputId": "796584c6-fdd1-4064-c5d9-d712eb23ebe6"
      },
      "execution_count": 45,
      "outputs": [
        {
          "output_type": "stream",
          "name": "stdout",
          "text": [
            "masukkan piramida dengan tinggi n : 5\n",
            "    *\n",
            "   ***\n",
            "  *****\n",
            " *******\n",
            "*********\n"
          ]
        }
      ]
    },
    {
      "cell_type": "code",
      "source": [
        ""
      ],
      "metadata": {
        "id": "fC-ls-Nnt_qN"
      },
      "execution_count": null,
      "outputs": []
    }
  ]
}