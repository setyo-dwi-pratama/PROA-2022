{
  "nbformat": 4,
  "nbformat_minor": 0,
  "metadata": {
    "colab": {
      "name": "Pyhton2.ipynb",
      "provenance": [],
      "collapsed_sections": [
        "taGA6VXjVg1K"
      ]
    },
    "kernelspec": {
      "name": "python3",
      "display_name": "Python 3"
    },
    "language_info": {
      "name": "python"
    }
  },
  "cells": [
    {
      "cell_type": "code",
      "source": [
        "class apel(): \n",
        "\tdef __init__(self):\n",
        "\t\tsuper().__init__()\n",
        "\t\tprint(\"apel adalah buah\")\n",
        "\tdef apaIni(self):\n",
        "\t\tprint(\"apel\")\n",
        "\tdef warna(self):\n",
        "\t\tprint(\"warna merah\")\n",
        "\n",
        "A = apel()\n",
        "A.apaIni()\n",
        "A.warna()\n",
        "A.__init__()\n"
      ],
      "metadata": {
        "colab": {
          "base_uri": "https://localhost:8080/"
        },
        "id": "AdQ-XtT_lEsX",
        "outputId": "ca62bbb7-16da-4b2d-cc6e-b5e38abe4c00"
      },
      "execution_count": null,
      "outputs": [
        {
          "output_type": "stream",
          "name": "stdout",
          "text": [
            "apel adalah buah\n",
            "apel\n",
            "warna merah\n",
            "apel adalah buah\n"
          ]
        }
      ]
    },
    {
      "cell_type": "code",
      "source": [
        "class komputer() :\n",
        "  def __init__(self):\n",
        "    self.__maxprice = 900\n",
        "    print(self.__maxprice)\n",
        "  def sell(self,price):\n",
        "    self.__maxprice = price\n",
        "    print(self.__maxprice)\n",
        "    \n",
        "c = komputer()\n",
        "c.sell(1000)\n",
        "print(c)\n",
        "\n"
      ],
      "metadata": {
        "colab": {
          "base_uri": "https://localhost:8080/"
        },
        "id": "c5s-eCMyqK8J",
        "outputId": "885da231-9f37-4518-aaa6-f6bca198643f"
      },
      "execution_count": null,
      "outputs": [
        {
          "output_type": "stream",
          "name": "stdout",
          "text": [
            "900\n",
            "1000\n",
            "<__main__.komputer object at 0x7f921117b6d0>\n"
          ]
        }
      ]
    },
    {
      "cell_type": "code",
      "source": [
        "class beo :\n",
        "\tdef terbang(self):\n",
        "\t\tprint(\"beo terbang\")\n",
        "\tdef warna (self):\n",
        "\t\tprint(\"beo merah\")\n",
        "class merpati :\n",
        "\tdef terbang(self):\n",
        "\t\tprint(\"merpati terbang\")\n",
        "\tdef warna (self):\n",
        "\t\tprint(\"merpati putih\")\n",
        "def terbang(burung):\n",
        "  burung.terbang()\n",
        "  burung.warna()\n",
        "\n",
        "\n",
        "Beo=beo()\n",
        "Merpati = merpati()\n",
        "\n",
        "terbang(Beo)\n",
        "terbang(Merpati)\n",
        "\n"
      ],
      "metadata": {
        "colab": {
          "base_uri": "https://localhost:8080/"
        },
        "id": "-ggJ6WCDtnth",
        "outputId": "6700efb1-7649-4f8a-89f8-4fbd6f5ab978"
      },
      "execution_count": null,
      "outputs": [
        {
          "output_type": "stream",
          "name": "stdout",
          "text": [
            "beo terbang\n",
            "beo merah\n",
            "merpati terbang\n",
            "merpati putih\n"
          ]
        }
      ]
    },
    {
      "cell_type": "code",
      "source": [
        "class Point():\n",
        "  def __init__(self, x= 0,y=0):\n",
        "    self.x = x\n",
        "    self.y = y\n",
        "    hasil  = x+y\n",
        "    print(hasil)\n",
        "\n",
        "\n",
        "\n",
        "p1 = Point(1,2)\n",
        "p2 = Point(2, 3)\n",
        "\n"
      ],
      "metadata": {
        "colab": {
          "base_uri": "https://localhost:8080/"
        },
        "id": "W3QlCR_Qxku_",
        "outputId": "27e6858e-15ae-44da-b607-4e8f03e7c097"
      },
      "execution_count": null,
      "outputs": [
        {
          "output_type": "stream",
          "name": "stdout",
          "text": [
            "3\n",
            "5\n"
          ]
        }
      ]
    },
    {
      "cell_type": "code",
      "source": [
        "listku = [1,2,3,4,5]\n",
        "myIter = iter(listku)\n",
        "next(myIter)\n",
        "next(myIter)\n"
      ],
      "metadata": {
        "id": "lYbGnJbrow3r",
        "colab": {
          "base_uri": "https://localhost:8080/"
        },
        "outputId": "76cee842-491c-4513-8551-971afaf79438"
      },
      "execution_count": null,
      "outputs": [
        {
          "output_type": "execute_result",
          "data": {
            "text/plain": [
              "2"
            ]
          },
          "metadata": {},
          "execution_count": 85
        }
      ]
    },
    {
      "cell_type": "code",
      "source": [
        "class lemari() :\n",
        "  def __init__(self, barang=\"baju\"):\n",
        "   self.set_barang(barang)\n",
        "  def get_barang(self):\n",
        "   return self._barang\n",
        "  def set_barang(self, barang):\n",
        "   self._barang = barang\n",
        "   print(barang) \n",
        "    \n",
        "d = lemari()\n",
        "d.get_barang()\n",
        "d.set_barang(\"pita\")"
      ],
      "metadata": {
        "colab": {
          "base_uri": "https://localhost:8080/"
        },
        "id": "b5oZ9Dao0yCB",
        "outputId": "dd21bf93-13c9-46f8-8bb9-05b8d0b88394"
      },
      "execution_count": null,
      "outputs": [
        {
          "output_type": "stream",
          "name": "stdout",
          "text": [
            "baju\n",
            "pita\n"
          ]
        }
      ]
    },
    {
      "cell_type": "markdown",
      "source": [
        "##Regex\n",
        "Regex adalah singkatan dari Regular Expresion.\n",
        "\n",
        "Regex merupakan sebuah teks (string) yang mendefinisikan sebuah pola pencarian sehingga dapat membantu kita untuk melakukan matching (pencocokan), locate (pencarian), dan manipulasi teks.\n"
      ],
      "metadata": {
        "id": "rHuWG6SFZPhB"
      }
    },
    {
      "cell_type": "code",
      "source": [
        "import re\n",
        "\n",
        "string = 'haii 15. Nomor kamu 34. NOmor dia 12544162'\n",
        "pattern = '\\d+'\n",
        "\n",
        "result = re.findall(pattern, string) \n",
        "print(result)\n"
      ],
      "metadata": {
        "colab": {
          "base_uri": "https://localhost:8080/"
        },
        "id": "4qcsngpk6GDW",
        "outputId": "17332447-4651-47d0-b300-209717f1f9b8"
      },
      "execution_count": null,
      "outputs": [
        {
          "output_type": "stream",
          "name": "stdout",
          "text": [
            "['15', '34', '12544162']\n"
          ]
        }
      ]
    },
    {
      "cell_type": "code",
      "source": [
        "string = 'haii 15. Nomor kamu 34'\n",
        "pattern = '\\d+'\n",
        "\n",
        "result = re.split(pattern, string) \n",
        "print(result)\n"
      ],
      "metadata": {
        "colab": {
          "base_uri": "https://localhost:8080/"
        },
        "id": "HEADNbor6KH2",
        "outputId": "13a0733c-696b-4480-cc2f-e8e6b17c61d9"
      },
      "execution_count": null,
      "outputs": [
        {
          "output_type": "stream",
          "name": "stdout",
          "text": [
            "['haii ', '. Nomor kamu ', '']\n"
          ]
        }
      ]
    },
    {
      "cell_type": "code",
      "source": [
        "def coba(n):\n",
        "  print(n)\n",
        "  return lambda a : a * n\n",
        "test1= coba(2)\n",
        "print(test1(3))\n",
        "\n",
        "test2 = coba(3)\n",
        "print(test2(6))\n"
      ],
      "metadata": {
        "colab": {
          "base_uri": "https://localhost:8080/"
        },
        "id": "UiJVBd0L7son",
        "outputId": "96807885-40ce-43e5-b333-9a321c015646"
      },
      "execution_count": null,
      "outputs": [
        {
          "output_type": "stream",
          "name": "stdout",
          "text": [
            "2\n",
            "6\n",
            "3\n",
            "18\n"
          ]
        }
      ]
    },
    {
      "cell_type": "code",
      "source": [
        "#Mencari Teks tanpa regex\n",
        "def is_phone_number(text):\n",
        "    if len(text) != 11:\n",
        "        return False\n",
        "    for i in range(0, 3):\n",
        "      if not text[i].isdecimal():\n",
        "        return False\n",
        "      if text[3] != ' ':\n",
        "        return False\n",
        "    for i in range(4, 11):\n",
        "        if not text[i].isdecimal():\n",
        "            return False\n",
        "    return True\n",
        "print('021 8229311 adalah nomor telepon:')\n",
        "print(is_phone_number('021 8229311'))\n",
        "print('Hello Hello adalah nomor telepon:')\n",
        "print(is_phone_number('Hello Hello'))"
      ],
      "metadata": {
        "colab": {
          "base_uri": "https://localhost:8080/"
        },
        "id": "otfTnXCgVff8",
        "outputId": "29d0a1e9-62fa-470e-cf13-5185b7720587"
      },
      "execution_count": null,
      "outputs": [
        {
          "output_type": "stream",
          "name": "stdout",
          "text": [
            "021 8229311 adalah nomor telepon:\n",
            "False\n",
            "Hello Hello adalah nomor telepon:\n",
            "False\n"
          ]
        }
      ]
    },
    {
      "cell_type": "code",
      "source": [
        "#Mencari Teks dengan regex\n",
        "pesan = 'Panggil saya di nomor 061 7981011 besok. Kalau sore bisa hubungi kantor saya di 061 7939999.'\n",
        "for i in range(len(pesan)):\n",
        "    text = pesan[i:i+11]\n",
        "    if is_phone_number(text):\n",
        "        print(\"Nomor telepon ditemukan:\", text)\n",
        "    "
      ],
      "metadata": {
        "colab": {
          "base_uri": "https://localhost:8080/"
        },
        "id": "_BgcXjqjVfje",
        "outputId": "139e2443-0c62-47cc-ef0b-adf7aa5ab71a"
      },
      "execution_count": null,
      "outputs": [
        {
          "output_type": "stream",
          "name": "stdout",
          "text": [
            "Nomor telepon ditemukan: 061 7981011\n",
            "Nomor telepon ditemukan: 061 7939999\n"
          ]
        }
      ]
    },
    {
      "cell_type": "code",
      "source": [
        "#Membuat Objek Regex\n",
        "import re\n",
        "no_telp_regex = re.compile(r'(\\d\\d\\d) (\\d\\d\\d\\d\\d\\d\\d)')\n",
        "mo = no_telp_regex.search('Nomor telepon saya 021 8273467.')\n",
        "mo.group()"
      ],
      "metadata": {
        "colab": {
          "base_uri": "https://localhost:8080/",
          "height": 36
        },
        "id": "x9c-k_83VgLZ",
        "outputId": "765e925f-369f-4ba2-9679-aa44278328ca"
      },
      "execution_count": null,
      "outputs": [
        {
          "output_type": "execute_result",
          "data": {
            "text/plain": [
              "'021 8273467'"
            ],
            "application/vnd.google.colaboratory.intrinsic+json": {
              "type": "string"
            }
          },
          "metadata": {},
          "execution_count": 4
        }
      ]
    },
    {
      "cell_type": "code",
      "source": [
        "mo.group(1)"
      ],
      "metadata": {
        "colab": {
          "base_uri": "https://localhost:8080/",
          "height": 36
        },
        "id": "TnAYoXZPZWHQ",
        "outputId": "9553bccd-fea3-4b6c-f3b6-bbdd42e709cf"
      },
      "execution_count": null,
      "outputs": [
        {
          "output_type": "execute_result",
          "data": {
            "text/plain": [
              "'021'"
            ],
            "application/vnd.google.colaboratory.intrinsic+json": {
              "type": "string"
            }
          },
          "metadata": {},
          "execution_count": 5
        }
      ]
    },
    {
      "cell_type": "code",
      "source": [
        "mo.group(2)"
      ],
      "metadata": {
        "colab": {
          "base_uri": "https://localhost:8080/",
          "height": 36
        },
        "id": "benH__RcZX54",
        "outputId": "1fe7e282-72a6-4d28-fcbe-729fef1942ee"
      },
      "execution_count": null,
      "outputs": [
        {
          "output_type": "execute_result",
          "data": {
            "text/plain": [
              "'8273467'"
            ],
            "application/vnd.google.colaboratory.intrinsic+json": {
              "type": "string"
            }
          },
          "metadata": {},
          "execution_count": 6
        }
      ]
    },
    {
      "cell_type": "code",
      "source": [
        "mo.groups()\n",
        "kode_area, no_telp = mo.groups()\n",
        "print(kode_area)"
      ],
      "metadata": {
        "colab": {
          "base_uri": "https://localhost:8080/"
        },
        "id": "kzfjpiZHZZ5j",
        "outputId": "b804c83b-cea7-4cfe-d3a6-104c496e0ee3"
      },
      "execution_count": null,
      "outputs": [
        {
          "output_type": "stream",
          "name": "stdout",
          "text": [
            "021\n"
          ]
        }
      ]
    },
    {
      "cell_type": "code",
      "source": [
        "print(no_telp)"
      ],
      "metadata": {
        "colab": {
          "base_uri": "https://localhost:8080/"
        },
        "id": "FKEDzEcxZbkR",
        "outputId": "ad3704e5-a629-45d2-b5c7-9132756ca169"
      },
      "execution_count": null,
      "outputs": [
        {
          "output_type": "stream",
          "name": "stdout",
          "text": [
            "8273467\n"
          ]
        }
      ]
    },
    {
      "cell_type": "markdown",
      "source": [
        "#Exercise\n"
      ],
      "metadata": {
        "id": "taGA6VXjVg1K"
      }
    },
    {
      "cell_type": "code",
      "execution_count": null,
      "metadata": {
        "id": "EbYhJdqNnSLF",
        "colab": {
          "base_uri": "https://localhost:8080/"
        },
        "outputId": "df69c421-d98a-4d2a-f1bc-cfc26885830c"
      },
      "outputs": [
        {
          "name": "stdout",
          "output_type": "stream",
          "text": [
            "Pilihlah nomer dibawah ini.\n",
            "1.Tambah\n",
            "2.Kurang\n",
            "3.Kali\n",
            "4.Pembagian\n",
            "Masukkan pilihan anda(1/2/3/4): 2\n",
            "Masukkan angka petama : 8\n",
            "Masukkan angka kedua : 9\n",
            "8.0 - 9.0 = -1.0\n",
            "Masih ingin melanjutkan? (yes/no): yes\n",
            "Masukkan pilihan anda(1/2/3/4): 1\n",
            "Masukkan angka petama : 8\n",
            "Masukkan angka kedua : 9\n",
            "8.0 + 9.0 = 17.0\n",
            "Masih ingin melanjutkan? (yes/no): no\n"
          ]
        }
      ],
      "source": [
        "def tambah(x, y):\n",
        "    return x + y\n",
        "\n",
        "def pengurangan(x, y):\n",
        "    return x - y\n",
        "\n",
        "def perkalian(x, y):\n",
        "    return x * y\n",
        "\n",
        "def bagi(x, y):\n",
        "    return x / y\n",
        "\n",
        "\n",
        "print(\"Pilihlah nomer dibawah ini.\")\n",
        "print(\"1.Tambah\")\n",
        "print(\"2.Kurang\")\n",
        "print(\"3.Kali\")\n",
        "print(\"4.Pembagian\")\n",
        "\n",
        "while True:\n",
        "    # take input from the user\n",
        "    choice = input(\"Masukkan pilihan anda(1/2/3/4): \")\n",
        "\n",
        "    # check if choice is one of the four options\n",
        "    if choice in ('1', '2', '3', '4'):\n",
        "        num1 = float(input(\"Masukkan angka petama : \"))\n",
        "        num2 = float(input(\"Masukkan angka kedua : \"))\n",
        "\n",
        "        if choice == '1':\n",
        "            print(num1, \"+\", num2, \"=\", tambah(num1, num2))\n",
        "\n",
        "        elif choice == '2':\n",
        "            print(num1, \"-\", num2, \"=\", pengurangan(num1, num2))\n",
        "\n",
        "        elif choice == '3':\n",
        "            print(num1, \"*\", num2, \"=\", perkalian(num1, num2))\n",
        "\n",
        "        elif choice == '4':\n",
        "            print(num1, \"/\", num2, \"=\", bagi(num1, num2))\n",
        "        \n",
        "        # check if user wants another calculation\n",
        "        # break the while loop if answer is no\n",
        "        next_calculation = input(\"Masih ingin melanjutkan? (yes/no): \")\n",
        "        if next_calculation == \"no\":\n",
        "          break\n",
        "    \n",
        "    else:\n",
        "        print(\"Invalid Input\")\n"
      ]
    },
    {
      "cell_type": "code",
      "source": [
        ""
      ],
      "metadata": {
        "id": "M_epL23494vk"
      },
      "execution_count": null,
      "outputs": []
    }
  ]
}