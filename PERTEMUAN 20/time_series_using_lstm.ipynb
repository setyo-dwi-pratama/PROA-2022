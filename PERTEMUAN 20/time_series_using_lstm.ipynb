{
  "metadata": {
    "kernelspec": {
      "display_name": "Python 3",
      "language": "python",
      "name": "python3"
    },
    "language_info": {
      "name": "python",
      "version": "3.6.4",
      "mimetype": "text/x-python",
      "codemirror_mode": {
        "name": "ipython",
        "version": 3
      },
      "pygments_lexer": "ipython3",
      "nbconvert_exporter": "python",
      "file_extension": ".py"
    },
    "colab": {
      "name": "time_series_using_lstm.ipynb",
      "provenance": [],
      "include_colab_link": true
    }
  },
  "nbformat_minor": 0,
  "nbformat": 4,
  "cells": [
    {
      "cell_type": "markdown",
      "metadata": {
        "id": "view-in-github",
        "colab_type": "text"
      },
      "source": [
        "<a href=\"https://colab.research.google.com/github/setyo-dwi-pratama/PROA-2022/blob/main/time_series_using_lstm.ipynb\" target=\"_parent\"><img src=\"https://colab.research.google.com/assets/colab-badge.svg\" alt=\"Open In Colab\"/></a>"
      ]
    },
    {
      "cell_type": "markdown",
      "source": [
        "\n",
        "## This Notebook is a sort of tutorial for the beginners in Deep Learning and time-series data analysis. \n",
        "\n",
        "##  * The aim is just to show how to build the simplest Long Short-Term Memory (LSTM) recurrent neural network for the data.  \n"
      ],
      "metadata": {
        "_uuid": "0d427513cb460f95316070050ee4f5d3ada49e62",
        "_cell_guid": "ea89cc79-a0a2-42f7-853f-fd3031abf396",
        "id": "p4I-8vhGfhZT"
      }
    },
    {
      "cell_type": "markdown",
      "source": [
        "The description of data can be found here:\n",
        "http://archive.ics.uci.edu/ml/datasets/Individual+household+electric+power+consumption\n",
        "\n",
        "Attribute Information:\n",
        "1.date: Date in format dd/mm/yyyy\n",
        "\n",
        "2.time: time in format hh:mm:ss\n",
        "\n",
        "3.global_active_power: household global minute-averaged active power (in kilowatt)\n",
        "\n",
        "4.global_reactive_power: household global minute-averaged reactive power (in kilowatt)\n",
        "\n",
        "5.voltage: minute-averaged voltage (in volt)\n",
        "\n",
        "6.global_intensity: household global minute-averaged current intensity (in ampere)\n",
        "\n",
        "7.sub_metering_1: energy sub-metering No. 1 (in watt-hour of active energy). It corresponds to the kitchen, containing mainly a dishwasher, an oven and a microwave (hot plates are not electric but gas powered).\n",
        "\n",
        "8.sub_metering_2: energy sub-metering No. 2 (in watt-hour of active energy). It corresponds to the laundry room, containing a washing-machine, a tumble-drier, a refrigerator and a light.\n",
        "\n",
        "9.sub_metering_3: energy sub-metering No. 3 (in watt-hour of active energy). It corresponds to an electric water-heater and an air-conditioner."
      ],
      "metadata": {
        "_uuid": "38fa35735ca2a9f07e4b56e58ae935c09ca697fa",
        "_cell_guid": "ead3c9d9-d48c-46c1-9d6f-817edcf3fe6d",
        "id": "MVEZb3iffhZc"
      }
    },
    {
      "cell_type": "code",
      "source": [
        "# Let`s import all packages that we may need:\n",
        "\n",
        "import sys \n",
        "import numpy as np # linear algebra\n",
        "from scipy.stats import randint\n",
        "import pandas as pd # data processing, CSV file I/O (e.g. pd.read_csv), data manipulation as in SQL\n",
        "import matplotlib.pyplot as plt # this is used for the plot the graph \n",
        "import seaborn as sns # used for plot interactive graph. \n",
        "from sklearn.model_selection import train_test_split # to split the data into two parts\n",
        "\n",
        "from sklearn.preprocessing import StandardScaler # for normalization\n",
        "from sklearn.preprocessing import MinMaxScaler\n",
        "from sklearn.pipeline import Pipeline # pipeline making\n",
        "from sklearn.model_selection import cross_val_score\n",
        "from sklearn.feature_selection import SelectFromModel\n",
        "from sklearn import metrics # for the check the error and accuracy of the model\n",
        "from sklearn.metrics import mean_squared_error,r2_score\n",
        "\n",
        "## for Deep-learing:\n",
        "import keras\n",
        "from keras.layers import Dense\n",
        "from keras.models import Sequential\n",
        "from tensorflow.keras.utils import to_categorical\n",
        "from tensorflow.keras.optimizers import SGD \n",
        "from keras.callbacks import EarlyStopping\n",
        "from keras.utils import np_utils\n",
        "import itertools\n",
        "from keras.layers import LSTM\n",
        "from keras.layers.convolutional import Conv1D\n",
        "from keras.layers.convolutional import MaxPooling1D\n",
        "from keras.layers import Dropout"
      ],
      "metadata": {
        "_uuid": "4e690c4a961b9475a93164720c7aeaab99fe7061",
        "_cell_guid": "7b27c994-a143-422a-a8cc-51e6a1a688d3",
        "trusted": true,
        "id": "irdIQw4_fhZg"
      },
      "execution_count": null,
      "outputs": []
    },
    {
      "cell_type": "code",
      "source": [
        "from google.colab import drive\n",
        "\n",
        "drive.mount('/content/drive/')"
      ],
      "metadata": {
        "id": "dh8iBfhXRlN-"
      },
      "execution_count": null,
      "outputs": []
    },
    {
      "cell_type": "code",
      "source": [
        "## Just open the zip file and grab the file 'household_power_consumption.txt' put it in the directory \n",
        "## that you would like to run the code. \n",
        "\n",
        "\n",
        "df = pd.read_csv('/content/drive/MyDrive/DTS/household_power_consumption.txt', sep=';', \n",
        "                 parse_dates={'dt' : ['Date', 'Time']}, infer_datetime_format=True, \n",
        "                 low_memory=False, na_values=['nan','?'], index_col='dt')"
      ],
      "metadata": {
        "_uuid": "7ef91d05da654a56aaccb166dfa30d50cae2fb86",
        "_cell_guid": "3b7223da-4278-4fa5-add9-8e238facc74a",
        "collapsed": true,
        "jupyter": {
          "outputs_hidden": true
        },
        "trusted": true,
        "id": "pOtn19WTfhaB"
      },
      "execution_count": null,
      "outputs": []
    },
    {
      "cell_type": "markdown",
      "source": [
        "##Exploratory Data"
      ],
      "metadata": {
        "_uuid": "a5dcfefaffe77d27ce026772cdf5a7ba3eeffa83",
        "_cell_guid": "08ccaec3-7c36-453b-b1f2-29e9421114c5",
        "id": "5UDlW8TQfhaF"
      }
    },
    {
      "cell_type": "code",
      "source": [
        "df.head() "
      ],
      "metadata": {
        "_uuid": "bbcddeb8ff813f822725d7c73ceeee9e497a4f06",
        "_cell_guid": "e4be7beb-bed9-45ae-8f7b-5fed896f26e6",
        "trusted": true,
        "id": "ef6py35ofhaJ"
      },
      "execution_count": null,
      "outputs": []
    },
    {
      "cell_type": "code",
      "source": [
        "df.info()"
      ],
      "metadata": {
        "_uuid": "11872f6f01ded0e63e9a32e82acc280860c5a15d",
        "_cell_guid": "76a8cf19-7cfd-4b46-b508-200ead2cafc3",
        "trusted": true,
        "id": "dY38MfwTfhaN"
      },
      "execution_count": null,
      "outputs": []
    },
    {
      "cell_type": "code",
      "source": [
        "df.dtypes"
      ],
      "metadata": {
        "_uuid": "cfbb517b90839c772001575bb5636053db10159f",
        "_cell_guid": "a26765e3-2ac8-441a-a3d8-ff32ef5c80a0",
        "trusted": true,
        "id": "DnE8AgTvfhaQ"
      },
      "execution_count": null,
      "outputs": []
    },
    {
      "cell_type": "code",
      "source": [
        "df.shape"
      ],
      "metadata": {
        "_uuid": "a0e9aa33b5f6231b67cfce24445fbd795190fd42",
        "_cell_guid": "5eddbf54-4dd0-49d1-af1f-4d6a97275247",
        "trusted": true,
        "id": "hAqiQ11Zfhal"
      },
      "execution_count": null,
      "outputs": []
    },
    {
      "cell_type": "code",
      "source": [
        "df.describe()"
      ],
      "metadata": {
        "_uuid": "e4c89c0f6b3e00baa511d2b611079d6a00648c83",
        "_cell_guid": "234d0be9-5117-40f6-93d8-8c4f425f1926",
        "trusted": true,
        "id": "9Mr89z3dfhar"
      },
      "execution_count": null,
      "outputs": []
    },
    {
      "cell_type": "code",
      "source": [
        "df.columns"
      ],
      "metadata": {
        "_uuid": "1d8ddd56738f436c1713c451328693edafe1c3b4",
        "_cell_guid": "25d6f9c5-fd15-4ba7-b938-a3e927c50f1c",
        "trusted": true,
        "id": "8MQEG3Nifhau"
      },
      "execution_count": null,
      "outputs": []
    },
    {
      "cell_type": "markdown",
      "source": [
        "## Dealing with missing values  'nan' with a test statistic"
      ],
      "metadata": {
        "_uuid": "2e248c3bc354cb0d672d173577e81d815d1b9a3c",
        "_cell_guid": "938ffef5-1d60-45ab-9e20-1377c25ef3ec",
        "id": "JvzzXefbfhax"
      }
    },
    {
      "cell_type": "code",
      "source": [
        "## finding all columns that have nan:\n",
        "\n",
        "droping_list_all=[]\n",
        "for j in range(0,7):\n",
        "    if not df.iloc[:, j].notnull().all():\n",
        "        droping_list_all.append(j)        \n",
        "        #print(df.iloc[:,j].unique())\n",
        "droping_list_all"
      ],
      "metadata": {
        "_uuid": "efb409f0ea173f8d4589cc8c8f6aed97e771e873",
        "_cell_guid": "81cdc1e5-ca60-4239-ace7-2f814ac871f5",
        "trusted": true,
        "id": "z1Spf-Uvfhaz"
      },
      "execution_count": null,
      "outputs": []
    },
    {
      "cell_type": "code",
      "source": [
        "# filling nan with mean in any columns\n",
        "\n",
        "for j in range(0,7):        \n",
        "        df.iloc[:,j]=df.iloc[:,j].fillna(df.iloc[:,j].mean())"
      ],
      "metadata": {
        "_uuid": "cd3966b66a5b8682efffa059632536ae7e5820e4",
        "_cell_guid": "77b8bc3e-c837-4976-ab9f-bc441d251d8b",
        "collapsed": true,
        "jupyter": {
          "outputs_hidden": true
        },
        "trusted": true,
        "id": "cDJM0kajfha4"
      },
      "execution_count": null,
      "outputs": []
    },
    {
      "cell_type": "code",
      "source": [
        "# another sanity check to make sure that there are not more any nan\n",
        "df.isnull().sum()"
      ],
      "metadata": {
        "_uuid": "39f6858342a7496f73fb1d5bc1d184ddbb75b773",
        "_cell_guid": "03367835-8a7b-48d7-becb-4f1e10f18b28",
        "trusted": true,
        "id": "I5cuare4fha7"
      },
      "execution_count": null,
      "outputs": []
    },
    {
      "cell_type": "markdown",
      "source": [
        "# Data visualization"
      ],
      "metadata": {
        "_uuid": "64b0092f2b4702dcbebb56f868f87252ea6b87eb",
        "_cell_guid": "2cc83d0f-626b-4048-8ffd-51010e800810",
        "id": "_vDOrBL9fha-"
      }
    },
    {
      "cell_type": "markdown",
      "source": [
        "## * Below I resample over day, and show the sum and mean of Global_active_power. It is seen that mean and sum of resampled data set, have similar structure."
      ],
      "metadata": {
        "_uuid": "bd87eb8a3ada3f854b7bcef0617f5050b417a1a9",
        "_cell_guid": "50cd1457-7a91-4000-a4d6-6614324b6fa7",
        "id": "uPnoWhMhfhbB"
      }
    },
    {
      "cell_type": "code",
      "source": [
        "df.Global_active_power.resample('D').sum().plot(title='Global_active_power resampled over day for sum') \n",
        "#df.Global_active_power.resample('D').mean().plot(title='Global_active_power resampled over day', color='red') \n",
        "plt.tight_layout()\n",
        "plt.show()   \n",
        "\n",
        "df.Global_active_power.resample('D').mean().plot(title='Global_active_power resampled over day for mean', color='red') \n",
        "plt.tight_layout()\n",
        "plt.show()"
      ],
      "metadata": {
        "_uuid": "ab6c5bdbe295c16d37f45be52b72446a1cb35806",
        "_cell_guid": "dd48cb9c-3970-4614-95d5-0eb668b00994",
        "trusted": true,
        "id": "h1bIkqk5fhbE"
      },
      "execution_count": null,
      "outputs": []
    },
    {
      "cell_type": "code",
      "source": [
        "### Below I show mean and std of 'Global_intensity' resampled over day \n",
        "r = df.Global_intensity.resample('D').agg(['mean', 'std'])\n",
        "r.plot(subplots = True, title='Global_intensity resampled over day')\n",
        "plt.show()"
      ],
      "metadata": {
        "_uuid": "cc12aa0f8fcf294c1323bb1851ff11d8a60f42e1",
        "_cell_guid": "f52ae0f7-61e6-41e8-89b5-ccf04ad9961c",
        "trusted": true,
        "id": "2hQfhg11fhbF"
      },
      "execution_count": null,
      "outputs": []
    },
    {
      "cell_type": "code",
      "source": [
        "### Below I show mean and std of 'Global_reactive_power' resampled over day\n",
        "r2 = df.Global_reactive_power.resample('D').agg(['mean', 'std'])\n",
        "r2.plot(subplots = True, title='Global_reactive_power resampled over day', color='red')\n",
        "plt.show()"
      ],
      "metadata": {
        "_uuid": "d4ecbce5841536070bcfc84662359425511f2029",
        "_cell_guid": "25d02bfc-d098-4595-8347-5ad71c872804",
        "trusted": true,
        "id": "skdP_rd_fhbG"
      },
      "execution_count": null,
      "outputs": []
    },
    {
      "cell_type": "code",
      "source": [
        "### Sum of 'Global_active_power' resampled over month\n",
        "# Sum of 'Global_active_power' resampled over month\n",
        "df['Global_active_power'].resample('M').mean().plot(kind='bar')\n",
        "plt.xticks(rotation=60)\n",
        "plt.ylabel('Global_active_power')\n",
        "plt.title('Global_active_power per month (averaged over month)')\n",
        "plt.show()"
      ],
      "metadata": {
        "_uuid": "e454ba869090bbc7e27969e18a3d1d5ed17f2005",
        "_cell_guid": "3d8bff5c-041e-42c2-a991-8d2f5b283c40",
        "trusted": true,
        "id": "bK8xzZ0mfhbH"
      },
      "execution_count": null,
      "outputs": []
    },
    {
      "cell_type": "code",
      "source": [
        "## Mean of 'Global_active_power' resampled over quarter\n",
        "df['Global_active_power'].resample('Q').mean().plot(kind='bar')\n",
        "plt.xticks(rotation=60)\n",
        "plt.ylabel('Global_active_power')\n",
        "plt.title('Global_active_power per quarter (averaged over quarter)')\n",
        "plt.show()"
      ],
      "metadata": {
        "_uuid": "6bde1385e10e11f374a6e7a0e75fca1bb631c97b",
        "_cell_guid": "695df25d-2086-4495-b5f5-73838908df39",
        "trusted": true,
        "id": "AF-pxozafhbI"
      },
      "execution_count": null,
      "outputs": []
    },
    {
      "cell_type": "markdown",
      "source": [
        "### It is very important to note from above two plots that resampling over larger time inteval, will diminish the periodicity of system as we expect. This is important for machine learning feature engineering. "
      ],
      "metadata": {
        "_uuid": "d8dfaf23bffc84c35998940fecd6323d2e58ae3b",
        "_cell_guid": "ba0cf5da-e899-46fb-aa14-b827f363035b",
        "id": "tq7zyC-QfhbJ"
      }
    },
    {
      "cell_type": "code",
      "source": [
        "## mean of 'Voltage' resampled over month\n",
        "df['Voltage'].resample('M').mean().plot(kind='bar', color='red')\n",
        "plt.xticks(rotation=60)\n",
        "plt.ylabel('Voltage')\n",
        "plt.title('Voltage per quarter (summed over quarter)')\n",
        "plt.show()"
      ],
      "metadata": {
        "_uuid": "ba182d11e69e4c1984d8c6f8ff41cd04a57ba98d",
        "_cell_guid": "140ce779-2a35-4518-b08e-33b39dbbe6c5",
        "trusted": true,
        "id": "iYY-DqgvfhbK"
      },
      "execution_count": null,
      "outputs": []
    },
    {
      "cell_type": "code",
      "source": [
        "df['Sub_metering_1'].resample('M').mean().plot(kind='bar', color='brown')\n",
        "plt.xticks(rotation=60)\n",
        "plt.ylabel('Sub_metering_1')\n",
        "plt.title('Sub_metering_1 per quarter (summed over quarter)')\n",
        "plt.show()"
      ],
      "metadata": {
        "_uuid": "4afd451f92abbbaa4814e122c42cbbeb039eae05",
        "_cell_guid": "e5cb3db1-3bde-4cec-8833-d12a9976b505",
        "trusted": true,
        "id": "wKfYlVSqfhbL"
      },
      "execution_count": null,
      "outputs": []
    },
    {
      "cell_type": "markdown",
      "source": [
        " ## * It is seen from the above plots that the mean of 'Volage' over month is pretty much constant compared to other features. This is important again in feature selection."
      ],
      "metadata": {
        "_uuid": "8fdbb401e316cf1cdc62cb11c95b19b6ea96fc89",
        "_cell_guid": "d8abca6a-1281-4739-bd56-15c441f96307",
        "id": "S8Ll5q54fhbM"
      }
    },
    {
      "cell_type": "code",
      "source": [
        "# Below I compare the mean of different featuresresampled over day. \n",
        "# specify columns to plot\n",
        "cols = [0, 1, 2, 3, 5, 6]\n",
        "i = 1\n",
        "groups=cols\n",
        "values = df.resample('D').mean().values\n",
        "# plot each column\n",
        "plt.figure(figsize=(15, 10))\n",
        "for group in groups:\n",
        "\tplt.subplot(len(cols), 1, i)\n",
        "\tplt.plot(values[:, group])\n",
        "\tplt.title(df.columns[group], y=0.75, loc='right')\n",
        "\ti += 1\n",
        "plt.show()"
      ],
      "metadata": {
        "_uuid": "8980b9afc86c6fc58cf001da66d4dea679a769b3",
        "_cell_guid": "c5d6c77e-6dae-4fb3-9c22-7cde479beee4",
        "trusted": true,
        "id": "YNtbGZ9KfhbN"
      },
      "execution_count": null,
      "outputs": []
    },
    {
      "cell_type": "code",
      "source": [
        "## resampling over week and computing mean\n",
        "df.Global_reactive_power.resample('W').mean().plot(color='y', legend=True)\n",
        "df.Global_active_power.resample('W').mean().plot(color='r', legend=True)\n",
        "df.Sub_metering_1.resample('W').mean().plot(color='b', legend=True)\n",
        "df.Global_intensity.resample('W').mean().plot(color='g', legend=True)\n",
        "plt.show()"
      ],
      "metadata": {
        "_uuid": "6c867744634ff913c9d092807c9fd3a31cf8adc4",
        "_cell_guid": "3a812f49-a56b-4fd6-b097-f696b9c1e161",
        "trusted": true,
        "id": "GYFHgANQfhbO"
      },
      "execution_count": null,
      "outputs": []
    },
    {
      "cell_type": "code",
      "source": [
        "# Below I show hist plot of the mean of different feature resampled over month \n",
        "df.Global_active_power.resample('M').mean().plot(kind='hist', color='r', legend=True )\n",
        "df.Global_reactive_power.resample('M').mean().plot(kind='hist',color='b', legend=True)\n",
        "#df.Voltage.resample('M').sum().plot(kind='hist',color='g', legend=True)\n",
        "df.Global_intensity.resample('M').mean().plot(kind='hist', color='g', legend=True)\n",
        "df.Sub_metering_1.resample('M').mean().plot(kind='hist', color='y', legend=True)\n",
        "plt.show()"
      ],
      "metadata": {
        "_uuid": "ad845bb25b3a0689fa2e7c35f9d94d2540888253",
        "_cell_guid": "eb14350e-9d75-4e4b-ab6e-ad54b184715c",
        "trusted": true,
        "id": "UlvL8K1lfhbO"
      },
      "execution_count": null,
      "outputs": []
    },
    {
      "cell_type": "code",
      "source": [
        "## The correlations between 'Global_intensity', 'Global_active_power'\n",
        "data_returns = df.pct_change()\n",
        "sns.jointplot(x='Global_intensity', y='Global_active_power', data=data_returns)  \n",
        "\n",
        "plt.show()"
      ],
      "metadata": {
        "_uuid": "47d9d0f37799e70fbb22a907a23b9e1c6240f518",
        "_cell_guid": "2678acd8-2a3a-4e2b-ae8c-b5195aef9b90",
        "trusted": true,
        "id": "y-70LmN1fhbP"
      },
      "execution_count": null,
      "outputs": []
    },
    {
      "cell_type": "markdown",
      "source": [
        "### * From above two plots it is seen that 'Global_intensity' and 'Global_active_power' correlated. But 'Voltage', 'Global_active_power' are less correlated. This is important observation for machine learning purpose. "
      ],
      "metadata": {
        "_uuid": "713a4b41e2ea26902b45fe5f77b09686d71bac01",
        "_cell_guid": "70ca2f48-758a-4b62-9b63-d9cf5b5df0ba",
        "id": "30IbL96ofhbQ"
      }
    },
    {
      "cell_type": "code",
      "source": [
        "## The correlations between 'Voltage' and  'Global_active_power'\n",
        "sns.jointplot(x='Voltage', y='Global_active_power', data=data_returns)  \n",
        "plt.show()"
      ],
      "metadata": {
        "_uuid": "e5be6a103c192025217ced2ee1b56c5ee7b13fb6",
        "_cell_guid": "3a7cf61d-b18a-4905-bc61-5ca824057dfb",
        "trusted": true,
        "id": "iTXZCrU3fhbR"
      },
      "execution_count": null,
      "outputs": []
    },
    {
      "cell_type": "markdown",
      "source": [
        "# Correlations among features"
      ],
      "metadata": {
        "_uuid": "3a7444ba40d3d84cda517a6e572a13716b52067f",
        "_cell_guid": "c028eac6-bdfc-432e-ad50-e0844fd0bfeb",
        "id": "7vL1VtIZfhbS"
      }
    },
    {
      "cell_type": "code",
      "source": [
        "# Correlations among columns\n",
        "plt.matshow(df.corr(method='spearman'),vmax=1,vmin=-1,cmap='PRGn')\n",
        "plt.title('without resampling', size=15)\n",
        "plt.colorbar()\n",
        "plt.show()"
      ],
      "metadata": {
        "_uuid": "6a04293e530a9bf55ce72cc986bad9b3cfadb158",
        "_cell_guid": "734168b8-74fd-42ae-938b-c57270f202b5",
        "trusted": true,
        "id": "DXOoBxBHfhbS"
      },
      "execution_count": null,
      "outputs": []
    },
    {
      "cell_type": "code",
      "source": [
        "# Correlations of mean of features resampled over months\n",
        "plt.matshow(df.resample('M').mean().corr(method='spearman'),vmax=1,vmin=-1,cmap='PRGn')\n",
        "plt.title('resampled over month', size=15)\n",
        "plt.colorbar()\n",
        "plt.margins(0.02)\n",
        "plt.matshow(df.resample('A').mean().corr(method='spearman'),vmax=1,vmin=-1,cmap='PRGn')\n",
        "plt.title('resampled over year', size=15)\n",
        "plt.colorbar()\n",
        "plt.show()"
      ],
      "metadata": {
        "_uuid": "b84733df572d0ce0b45c065a18a1f625cb0cf2b4",
        "_cell_guid": "068e0463-8976-4c21-9ec8-da518712413a",
        "trusted": true,
        "id": "KELsyRL3fhbk"
      },
      "execution_count": null,
      "outputs": []
    },
    {
      "cell_type": "markdown",
      "source": [
        "## * It is seen from above that with resampling techniques one can change the correlations among features. This is important for feature  engineering."
      ],
      "metadata": {
        "_uuid": "e91a1f7bd7cd1fc7cd353c814e0245977b00b286",
        "_cell_guid": "62c92871-2e35-4d0e-a207-883f51c93011",
        "id": "PFxsdsQffhbn"
      }
    },
    {
      "cell_type": "markdown",
      "source": [
        "# Machine-Leaning: LSTM Data Preparation and feature engineering"
      ],
      "metadata": {
        "_uuid": "96eea7805695f35a1a5175c4f0ff1455a1cdf8ec",
        "_cell_guid": "9228b5ee-3442-4f81-be6d-814625bd9dcf",
        "id": "f99xxyoWfhbn"
      }
    },
    {
      "cell_type": "markdown",
      "source": [
        "### * I will apply recurrent nueral network (LSTM) which is best suited for time-seriers and sequential problem. This approach is the best if we have large data.  \n",
        "\n",
        "### * I will frame the supervised learning problem as predicting the Global_active_power at the current time (t) given the Global_active_power measurement and other features at the prior time step."
      ],
      "metadata": {
        "_uuid": "c97563723f9719858787bb9492597d78a36b9689",
        "_cell_guid": "785e6236-003c-4563-86bb-4d65ede164db",
        "id": "DOk7_Q9Pfhbp"
      }
    },
    {
      "cell_type": "code",
      "source": [
        "def series_to_supervised(data, n_in=1, n_out=1, dropnan=True):\n",
        "\tn_vars = 1 if type(data) is list else data.shape[1]\n",
        "\tdff = pd.DataFrame(data)\n",
        "\tcols, names = list(), list()\n",
        "\t# input sequence (t-n, ... t-1)\n",
        "\tfor i in range(n_in, 0, -1):\n",
        "\t\tcols.append(dff.shift(i))\n",
        "\t\tnames += [('var%d(t-%d)' % (j+1, i)) for j in range(n_vars)]\n",
        "\t# forecast sequence (t, t+1, ... t+n)\n",
        "\tfor i in range(0, n_out):\n",
        "\t\tcols.append(dff.shift(-i))\n",
        "\t\tif i == 0:\n",
        "\t\t\tnames += [('var%d(t)' % (j+1)) for j in range(n_vars)]\n",
        "\t\telse:\n",
        "\t\t\tnames += [('var%d(t+%d)' % (j+1, i)) for j in range(n_vars)]\n",
        "\t# put it all together\n",
        "\tagg = pd.concat(cols, axis=1)\n",
        "\tagg.columns = names\n",
        "\t# drop rows with NaN values\n",
        "\tif dropnan:\n",
        "\t\tagg.dropna(inplace=True)\n",
        "\treturn agg\n",
        " "
      ],
      "metadata": {
        "_uuid": "357627b3b61c052602cc767150e85611349723c9",
        "_cell_guid": "bbe47808-9a49-4d95-bdcd-4318e52afd3b",
        "collapsed": true,
        "jupyter": {
          "outputs_hidden": true
        },
        "trusted": true,
        "id": "IVv2qCXpfhbq"
      },
      "execution_count": null,
      "outputs": []
    },
    {
      "cell_type": "markdown",
      "source": [
        "### * In order to reduce the computation time, and also get a quick result to test the model.  One can resmaple the data over hour (the original data are given in minutes). This will reduce the size of data from 2075259 to 34589 but keep the overall strucure of data as shown in the above.   "
      ],
      "metadata": {
        "_uuid": "aae2b3dce1d5deede311162f4f87fe177f8658c3",
        "_cell_guid": "54cdd84c-fa72-488f-8ad6-138cd3c75b19",
        "id": "kA-0WYJ3fhbr"
      }
    },
    {
      "cell_type": "code",
      "source": [
        "## resampling of data over hour\n",
        "df_resample = df.resample('h').mean() \n",
        "df_resample.shape"
      ],
      "metadata": {
        "_uuid": "c7788fe3aa3b735c17ba173428c24656a88687b8",
        "_cell_guid": "c058e5d7-0a80-47fc-b521-b138ddf35df2",
        "trusted": true,
        "id": "_rCWXg_Wfhbv"
      },
      "execution_count": null,
      "outputs": []
    },
    {
      "cell_type": "code",
      "source": [
        "## * Note: I scale all features in range of [0,1].\n",
        "\n",
        "## If you would like to train based on the resampled data (over hour), then used below\n",
        "values = df_resample.values \n",
        "\n",
        "\n",
        "## full data without resampling\n",
        "#values = df.values\n",
        "\n",
        "# integer encode direction\n",
        "# ensure all data is float\n",
        "#values = values.astype('float32')\n",
        "# normalize features\n",
        "scaler = MinMaxScaler(feature_range=(0, 1))\n",
        "scaled = scaler.fit_transform(values)\n",
        "# frame as supervised learning\n",
        "reframed = series_to_supervised(scaled, 1, 1)\n",
        "\n",
        "# drop columns we don't want to predict\n",
        "reframed.drop(reframed.columns[[8,9,10,11,12,13]], axis=1, inplace=True)\n",
        "print(reframed.head())"
      ],
      "metadata": {
        "_uuid": "e52b3318d182b1af08c5b01f7861107b7e502332",
        "_cell_guid": "92446008-96b2-41eb-8443-0891da4f0661",
        "trusted": true,
        "id": "NMXEaUY2fhbw"
      },
      "execution_count": null,
      "outputs": []
    },
    {
      "cell_type": "markdown",
      "source": [
        "### * Above I showed 7 input variables (input series) and the 1 output variable for 'Global_active_power' at the current  time in hour (depending on resampling). "
      ],
      "metadata": {
        "_uuid": "56e2075321b9bb71a68c95d89cd456c0d7e06a0c",
        "_cell_guid": "1da3f82c-4d6c-4e61-8d15-9e0d10bbf439",
        "id": "CsNN5_B7fhbx"
      }
    },
    {
      "cell_type": "markdown",
      "source": [
        "# Splitting the rest of data to train and validation sets"
      ],
      "metadata": {
        "_uuid": "88f25976896ce216e7fdb6d4c794ae34afac929e",
        "_cell_guid": "9e68b32c-ffd6-4cf8-80a2-af3a4ceb2475",
        "id": "mpumczUFfhby"
      }
    },
    {
      "cell_type": "markdown",
      "source": [
        "### * First, I split the prepared dataset into train and test sets. To speed up the training of the model (for the sake of the demonstration), we will only train the model on the first year of data, then evaluate it on the next 3 years of data."
      ],
      "metadata": {
        "_uuid": "04669c30c70976db4c2d1680f3b25954a828d70f",
        "_cell_guid": "9420cfc7-1dfa-4e41-83b0-5e8584141efe",
        "id": "PBFeTFrcfhby"
      }
    },
    {
      "cell_type": "code",
      "source": [
        "# split into train and test sets\n",
        "values = reframed.values\n",
        "\n",
        "n_train_time = 365*24\n",
        "train = values[:n_train_time, :]\n",
        "test = values[n_train_time:, :]\n",
        "##test = values[n_train_time:n_test_time, :]\n",
        "# split into input and outputs\n",
        "train_X, train_y = train[:, :-1], train[:, -1]\n",
        "test_X, test_y = test[:, :-1], test[:, -1]\n",
        "# reshape input to be 3D [samples, timesteps, features]\n",
        "train_X = train_X.reshape((train_X.shape[0], 1, train_X.shape[1]))\n",
        "test_X = test_X.reshape((test_X.shape[0], 1, test_X.shape[1]))\n",
        "print(train_X.shape, train_y.shape, test_X.shape, test_y.shape) \n",
        "# We reshaped the input into the 3D format as expected by LSTMs, namely [samples, timesteps, features]."
      ],
      "metadata": {
        "_uuid": "e34334eecbc31120132753c7d0f156e448e7499e",
        "_cell_guid": "09d42264-a006-4b74-b15f-335c9eec1ca3",
        "trusted": true,
        "id": "JDiD_OIWfhbz"
      },
      "execution_count": null,
      "outputs": []
    },
    {
      "cell_type": "markdown",
      "source": [
        "# Model architecture\n",
        "\n",
        "### 1)  LSTM with 100 neurons in the first visible layer \n",
        "### 3) dropout 20%\n",
        "### 4) 1 neuron in the output layer for predicting Global_active_power. \n",
        "### 5) The input shape will be 1 time step with 7 features.\n",
        "\n",
        "### 6) I use the Mean Absolute Error (MAE) loss function and the efficient Adam version of stochastic gradient descent.\n",
        "### 7) The model will be fit for 20 training epochs with a batch size of 70.\n"
      ],
      "metadata": {
        "_uuid": "afb164028f72fc78aa0bca82055f23dd69fe9473",
        "_cell_guid": "58d20cc6-4a51-4c66-9e79-d978de83f873",
        "id": "rklQR_B-fhbz"
      }
    },
    {
      "cell_type": "code",
      "source": [
        "model = Sequential()\n",
        "model.add(LSTM(100, input_shape=(train_X.shape[1], train_X.shape[2])))\n",
        "model.add(Dropout(0.2))\n",
        "model.add(Dense(1))\n",
        "model.compile(loss='mean_squared_error', optimizer='adam')\n",
        "\n",
        "# fit network\n",
        "history = model.fit(train_X, train_y, epochs=20, batch_size=70, validation_data=(test_X, test_y), verbose=2, shuffle=False)\n",
        "\n",
        "# summarize history for loss\n",
        "plt.plot(history.history['loss'])\n",
        "plt.plot(history.history['val_loss'])\n",
        "plt.title('model loss')\n",
        "plt.ylabel('loss')\n",
        "plt.xlabel('epoch')\n",
        "plt.legend(['train', 'test'], loc='upper right')\n",
        "plt.show()\n",
        "\n",
        "# make a prediction\n",
        "yhat = model.predict(test_X)\n",
        "test_X = test_X.reshape((test_X.shape[0], 7))\n",
        "# invert scaling for forecast\n",
        "inv_yhat = np.concatenate((yhat, test_X[:, -6:]), axis=1)\n",
        "inv_yhat = scaler.inverse_transform(inv_yhat)\n",
        "inv_yhat = inv_yhat[:,0]\n",
        "# invert scaling for actual\n",
        "test_y = test_y.reshape((len(test_y), 1))\n",
        "inv_y = np.concatenate((test_y, test_X[:, -6:]), axis=1)\n",
        "inv_y = scaler.inverse_transform(inv_y)\n",
        "inv_y = inv_y[:,0]\n",
        "# calculate RMSE\n",
        "rmse = np.sqrt(mean_squared_error(inv_y, inv_yhat))\n",
        "print('Test RMSE: %.3f' % rmse)"
      ],
      "metadata": {
        "_uuid": "03946922a11d6b62e0990eb4ffa8d52feac9b297",
        "_cell_guid": "444f010e-3459-48b5-89ca-5f33fd8273ea",
        "trusted": true,
        "id": "-xi-T5Tmfhb0"
      },
      "execution_count": null,
      "outputs": []
    },
    {
      "cell_type": "markdown",
      "source": [
        "### Note that in order to improve the model, one has to adjust epochs and batch_size."
      ],
      "metadata": {
        "_uuid": "57a7d528a6f621368582f2440bd3b30b0675dd88",
        "_cell_guid": "82163b05-3842-4108-aee9-ca3e4b88d924",
        "id": "08WtArn_fhb1"
      }
    },
    {
      "cell_type": "code",
      "source": [
        "## time steps, every step is one hour (you can easily convert the time step to the actual time index)\n",
        "## for a demonstration purpose, I only compare the predictions in 200 hours. \n",
        "\n",
        "aa=[x for x in range(200)]\n",
        "plt.plot(aa, inv_y[:200], marker='.', label=\"actual\")\n",
        "plt.plot(aa, inv_yhat[:200], 'r', label=\"prediction\")\n",
        "plt.ylabel('Global_active_power', size=15)\n",
        "plt.xlabel('Time step', size=15)\n",
        "plt.legend(fontsize=15)\n",
        "plt.show()"
      ],
      "metadata": {
        "_uuid": "78449473770f61669fa5bd8acedb0b662f48ebac",
        "trusted": true,
        "id": "OzCOQvPifhb1"
      },
      "execution_count": null,
      "outputs": []
    },
    {
      "cell_type": "markdown",
      "source": [
        "# Final remarks"
      ],
      "metadata": {
        "_uuid": "34c78f198d644279c82a8bf1cdeca53d41621ef9",
        "_cell_guid": "bfd3c945-8a04-4602-b214-71fae8a0fb51",
        "id": "Plo_lF16fhb3"
      }
    },
    {
      "cell_type": "markdown",
      "source": [
        "### * Here I have used the LSTM neural network which is now the state-of-the-art for sequencial problems. \n",
        "\n",
        "### * In order to reduce the computation time, and get some results quickly, I took the first year of data (resampled over hour) to train the model and the rest of data to test the model.  \n",
        "\n",
        "### * I put together a very simple LSTM neural-network to show that one can obtain reasonable predictions. However numbers of rows is too high and as a result the computation is very time-consuming (even for the simple model in the above it took few mins to be run on  2.8 GHz Intel Core i7).  The Best is to write the last part of code using Spark (MLlib) running on GPU.  \n",
        "\n",
        "### * Moreover, the neural-network architecture that I have designed is a toy model. It can be easily improved by adding CNN  and dropout layers.  The CNN is useful here since there are correlations in data (CNN layer is a good way to probe the local structure of data).   "
      ],
      "metadata": {
        "_uuid": "a60be7137757c76c9dd6fc6d3b5c69fbbf707c7b",
        "_cell_guid": "82ade3ad-188b-4ca8-afb2-ab355a7ed6fe",
        "id": "txxrivF1fhb4"
      }
    },
    {
      "cell_type": "code",
      "source": [
        ""
      ],
      "metadata": {
        "_uuid": "07a28ca8f9c4964fb7a63d49baabdafc29aaf760",
        "_cell_guid": "9e12fbc0-d0ba-4cce-a202-a2656cb2b1e0",
        "collapsed": true,
        "jupyter": {
          "outputs_hidden": true
        },
        "trusted": true,
        "id": "x4T0mQM6fhb5"
      },
      "execution_count": null,
      "outputs": []
    }
  ]
}
