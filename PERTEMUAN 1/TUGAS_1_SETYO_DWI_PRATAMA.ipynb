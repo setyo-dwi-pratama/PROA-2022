{
  "nbformat": 4,
  "nbformat_minor": 0,
  "metadata": {
    "colab": {
      "name": "TUGAS-1-SETYO DWI PRATAMA.ipynb",
      "provenance": [],
      "authorship_tag": "ABX9TyOrABjEFFFIYy/gv5r2Q9C7",
      "include_colab_link": true
    },
    "kernelspec": {
      "name": "python3",
      "display_name": "Python 3"
    },
    "language_info": {
      "name": "python"
    },
    "accelerator": "GPU"
  },
  "cells": [
    {
      "cell_type": "markdown",
      "metadata": {
        "id": "view-in-github",
        "colab_type": "text"
      },
      "source": [
        "<a href=\"https://colab.research.google.com/github/setyo-dwi-pratama/PROA-2022/blob/main/TUGAS_1_SETYO_DWI_PRATAMA.ipynb\" target=\"_parent\"><img src=\"https://colab.research.google.com/assets/colab-badge.svg\" alt=\"Open In Colab\"/></a>"
      ]
    },
    {
      "cell_type": "markdown",
      "source": [
        "# **TUGAS 1**\n",
        "## Nama : Setyo Dwi Pratama\n",
        "## No Regiter : 152236035101-114\n",
        "## Kelas / Tema Pelatihan : MLT2D-Machine Learning with TensorFlow\n"
      ],
      "metadata": {
        "id": "MOOpojkqbXja"
      }
    },
    {
      "cell_type": "code",
      "source": [
        "# Nomor 1\n",
        "# Buatlah sebuah Fungsi untuk menghitung volume balok\n",
        "\n",
        "def volumeBalok(panjang, lebar, tinggi):\n",
        "  Volume = (panjang * lebar * tinggi)\n",
        "  print(\"Volume balok =\", Volume)\n",
        "\n",
        "volumeBalok(4,2,2)\n",
        "  "
      ],
      "metadata": {
        "colab": {
          "base_uri": "https://localhost:8080/"
        },
        "id": "DYWyfF41dSID",
        "outputId": "8dbbd469-9c31-4859-d179-5c84912e59a8"
      },
      "execution_count": 1,
      "outputs": [
        {
          "output_type": "stream",
          "name": "stdout",
          "text": [
            "Volume balok = 16\n"
          ]
        }
      ]
    },
    {
      "cell_type": "code",
      "source": [
        "# Nomor 2\n",
        "# Buat Program untuk menghitung jumlah seluruh angka ganjil dalam suatu list\n",
        "# Input : list berisi angka-angka\n",
        "# Output : Jumlah seluruh angka ganjil\n",
        "\n",
        "awal = int(input(\"Masukkan angka awal = \"))\n",
        "akhir = int(input(\"Masukkan angka akhir = \"))\n",
        "x = []\n",
        "y = []\n",
        "z = []\n",
        "for i in range(awal, akhir+1):\n",
        "  if i:\n",
        "    z.append(i)\n",
        "  if i%2 == 0:\n",
        "    x.append(i)\n",
        "  else:\n",
        "    y.append(i)\n",
        "print(\"semua angka : \", z)\n",
        "print(\"angka genap : \", x)\n",
        "print(\"angka ganjil : \", y)\n",
        "print(\"banyaknya angka ganjil : \", len(y))\n",
        "print(\"jadi jumlah seluruh angka ganjil adalah : \", sum(y))\n"
      ],
      "metadata": {
        "colab": {
          "base_uri": "https://localhost:8080/"
        },
        "id": "EE0q-soFeXTP",
        "outputId": "3b8b9801-f1ae-4e42-c401-4cdec77aec43"
      },
      "execution_count": 37,
      "outputs": [
        {
          "output_type": "stream",
          "name": "stdout",
          "text": [
            "Masukkan angka awal = 1\n",
            "Masukkan angka akhir = 6\n",
            "semua angka :  [1, 2, 3, 4, 5, 6]\n",
            "angka genap :  [2, 4, 6]\n",
            "angka ganjil :  [1, 3, 5]\n",
            "banyaknya angka ganjil :  3\n",
            "jadi jumlah seluruh angka ganjil adalah :  9\n"
          ]
        }
      ]
    },
    {
      "cell_type": "code",
      "source": [
        "# Nomor 3\n",
        "# Diberikan input suatu angka, tampilkan formasi piramida bintang dengan tinggi sesuai dengan angka yang diinputkan\n",
        "# Input: suatu angka (n)\n",
        "# Output: piramida dengan tinggi n\n",
        "\n",
        "#    *\n",
        "#   ***\n",
        "#  *****  contoh output untuk n = 5\n",
        "# *******\n",
        "#*********\n",
        "\n",
        "n = int(input(\"masukkan piramida dengan tinggi n : \"))\n",
        "for i in range(1, n+1):\n",
        "  print((n-i) * \" \" + (2*i-1) * \"*\")"
      ],
      "metadata": {
        "colab": {
          "base_uri": "https://localhost:8080/"
        },
        "id": "4WEfw1HLfOVV",
        "outputId": "225724e0-c553-4b08-a505-79e8d79acbdb"
      },
      "execution_count": 42,
      "outputs": [
        {
          "output_type": "stream",
          "name": "stdout",
          "text": [
            "masukkan piramida dengan tinggi n : 5\n",
            "    *\n",
            "   ***\n",
            "  *****\n",
            " *******\n",
            "*********\n"
          ]
        }
      ]
    },
    {
      "cell_type": "code",
      "source": [
        ""
      ],
      "metadata": {
        "id": "fC-ls-Nnt_qN"
      },
      "execution_count": null,
      "outputs": []
    }
  ]
}
