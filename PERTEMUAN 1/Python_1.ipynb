{
  "nbformat": 4,
  "nbformat_minor": 0,
  "metadata": {
    "colab": {
      "name": "Python 1.ipynb",
      "provenance": [],
      "collapsed_sections": []
    },
    "kernelspec": {
      "name": "python3",
      "display_name": "Python 3"
    },
    "language_info": {
      "name": "python"
    }
  },
  "cells": [
    {
      "cell_type": "markdown",
      "source": [
        "#Python 1\n",
        "Nama :\n"
      ],
      "metadata": {
        "id": "YPdbMP0dnqKT"
      }
    },
    {
      "cell_type": "markdown",
      "source": [
        "###Tipe Data"
      ],
      "metadata": {
        "id": "BD6q9OkHnVdA"
      }
    },
    {
      "cell_type": "code",
      "source": [
        "a = 10\n",
        "print(a, \"bertipe\", type(a))"
      ],
      "metadata": {
        "id": "kx7Ht9FwnVLK"
      },
      "execution_count": null,
      "outputs": []
    },
    {
      "cell_type": "code",
      "source": [
        "nama = 'Toni'\n",
        "print(nama, \"bertipe\", type(nama))"
      ],
      "metadata": {
        "id": "pWoCAOpMFD7B"
      },
      "execution_count": null,
      "outputs": []
    },
    {
      "cell_type": "code",
      "source": [
        "hasil = False\n",
        "print(hasil, \"bertipe\", type(hasil))"
      ],
      "metadata": {
        "id": "IDbD0YLjnv3x"
      },
      "execution_count": null,
      "outputs": []
    },
    {
      "cell_type": "code",
      "source": [
        "b = 25.987\n",
        "print(b , \"bertipe\", type(b))"
      ],
      "metadata": {
        "id": "nWOJLEjzVlsq"
      },
      "execution_count": null,
      "outputs": []
    },
    {
      "cell_type": "code",
      "source": [
        "c = complex(2+3j)\n",
        "print(c , \"bertipe\", type(c))"
      ],
      "metadata": {
        "id": "Xm8ZnxieVvnV"
      },
      "execution_count": null,
      "outputs": []
    },
    {
      "cell_type": "code",
      "source": [
        "a = 9\n",
        "a = 'Tono'\n",
        "print(a, \"bertipe\", type(a))"
      ],
      "metadata": {
        "id": "jri8C9J5WVBW"
      },
      "execution_count": null,
      "outputs": []
    },
    {
      "cell_type": "code",
      "source": [
        ""
      ],
      "metadata": {
        "id": "iMRSMxn7W_2R"
      },
      "execution_count": null,
      "outputs": []
    },
    {
      "cell_type": "markdown",
      "source": [
        "###Operation"
      ],
      "metadata": {
        "id": "K19Q2tbapp8a"
      }
    },
    {
      "cell_type": "code",
      "source": [
        "print(3+3)"
      ],
      "metadata": {
        "id": "cIByZ1eJDBoo"
      },
      "execution_count": null,
      "outputs": []
    },
    {
      "cell_type": "code",
      "source": [
        "print(3*3)"
      ],
      "metadata": {
        "id": "VKDjXy8gp4QZ"
      },
      "execution_count": null,
      "outputs": []
    },
    {
      "cell_type": "code",
      "source": [
        "print(3**3)"
      ],
      "metadata": {
        "id": "F4DCY-zPp7Ae"
      },
      "execution_count": null,
      "outputs": []
    },
    {
      "cell_type": "code",
      "source": [
        "print(9/3)"
      ],
      "metadata": {
        "id": "6DdZ8diSqR_T"
      },
      "execution_count": null,
      "outputs": []
    },
    {
      "cell_type": "code",
      "source": [
        "print(25%7)\n",
        "#%, mod, sisa pembagian"
      ],
      "metadata": {
        "id": "2Z9T-9jupu8B"
      },
      "execution_count": null,
      "outputs": []
    },
    {
      "cell_type": "code",
      "source": [
        "print(max(2,3,4))\n",
        "print(min(2,3,4))\n",
        "print(round(5.49))"
      ],
      "metadata": {
        "id": "-i72yrdIpxMO"
      },
      "execution_count": null,
      "outputs": []
    },
    {
      "cell_type": "code",
      "source": [
        "print(9**(1/2))"
      ],
      "metadata": {
        "id": "ewuQ425IYxAc"
      },
      "execution_count": null,
      "outputs": []
    },
    {
      "cell_type": "markdown",
      "source": [
        "###String"
      ],
      "metadata": {
        "id": "7Lnw02WBn4s8"
      }
    },
    {
      "cell_type": "code",
      "source": [
        "print(\"Hello World\")\n",
        "print(\"Welcome to Python\")"
      ],
      "metadata": {
        "id": "TgoecRXpCr22"
      },
      "execution_count": null,
      "outputs": []
    },
    {
      "cell_type": "code",
      "source": [
        "kutipantiga = \"\"\"this is a long string that is made up of several lines and non-printable characters such as TAB ( \\t ) and they will show up that way when displayed. NEWLINEs within the string, whether explicitly given like this within the brackets [ \\n ], or just a NEWLINE within the variable assignment will also show up.\n",
        "\"\"\"\n",
        "print(kutipantiga)"
      ],
      "metadata": {
        "id": "JSj1z6ULyY5a"
      },
      "execution_count": null,
      "outputs": []
    },
    {
      "cell_type": "code",
      "source": [
        "nama = \"Toni\"\n",
        "umur = 120\n",
        "print(\"Nama aku \" + nama)\n",
        "print(\"Umur saya \" + str(umur))\n",
        "print(nama + \" adalah namaku.\")\n",
        "print(str(umur) + \" adalah umurku.\")\n",
        "print('nama ', nama, 'umur ', umur)"
      ],
      "metadata": {
        "id": "n2MBffo4Crre"
      },
      "execution_count": null,
      "outputs": []
    },
    {
      "cell_type": "code",
      "source": [
        "a =20\n",
        "b = 90\n",
        "print (str(a) + str(b))"
      ],
      "metadata": {
        "id": "bdAj5ocma9cY"
      },
      "execution_count": null,
      "outputs": []
    },
    {
      "cell_type": "code",
      "source": [
        "nama = \"Toni\"\n",
        "umur = 120\n",
        "print(\"Nama aku \" + nama)\n",
        "print(\"Umur saya \" + str(umur))\n",
        "nama = \"Bella\"\n",
        "print(nama + \" adalah namaku.\")\n",
        "print(nama + \" namaku.\")"
      ],
      "metadata": {
        "id": "JI1mZRL1Crah"
      },
      "execution_count": null,
      "outputs": []
    },
    {
      "cell_type": "code",
      "source": [
        "name = \"Bella\"\n",
        "#       12345\n",
        "#       01234\n",
        "print(name.upper())\n",
        "print(name.lower())\n",
        "print(name.capitalize())\n",
        "print(name.isupper())\n",
        "print(name.islower())\n",
        "print(len(name))\n",
        "print(name[1:4])\n",
        "#index selalu mulai dari 0\n",
        "print(name.index(\"l\"))"
      ],
      "metadata": {
        "id": "jqWkLzmqCrPU"
      },
      "execution_count": null,
      "outputs": []
    },
    {
      "cell_type": "code",
      "source": [
        "\"Hello {} umur saya {}\". format(nama, umur)"
      ],
      "metadata": {
        "id": "k_g5LusqhBVh"
      },
      "execution_count": null,
      "outputs": []
    },
    {
      "cell_type": "markdown",
      "source": [
        "###Functions"
      ],
      "metadata": {
        "id": "AgHcH2jbqdlN"
      }
    },
    {
      "cell_type": "code",
      "execution_count": null,
      "metadata": {
        "id": "PO2ws_BC2Ltb"
      },
      "outputs": [],
      "source": [
        "def perkenalan (nama, asal):\n",
        "  print(f\"Perkenalkan saya {nama} dari {asal}\")\n",
        "\n",
        "perkenalan(\"Alvin\", \"Jawa Timur\")\n"
      ]
    },
    {
      "cell_type": "code",
      "source": [
        "def luasSegitiga (alas, tinggi):\n",
        "    luas = (alas * tinggi)/2\n",
        "    print(\"Luas segitiga =\",luas)\n",
        "\n",
        "luasSegitiga(3,6)\n"
      ],
      "metadata": {
        "id": "8-SR9RbFqpD6"
      },
      "execution_count": null,
      "outputs": []
    },
    {
      "cell_type": "code",
      "source": [
        "#Excercise\n",
        "#Buatlah sebuah fungsi untuk menghitung volume balok \n",
        "def volumeBalok():\n",
        "  #rumus\n",
        "  Volume = \n",
        "  #cetak hasil\n",
        "  print()\n",
        "\n",
        "#panggil fungsi volume balok\n",
        "volumeBalok()\n"
      ],
      "metadata": {
        "id": "0PEVRiCHs736"
      },
      "execution_count": null,
      "outputs": []
    },
    {
      "cell_type": "markdown",
      "source": [
        "####Percabangan"
      ],
      "metadata": {
        "id": "63phBgpWsk-X"
      }
    },
    {
      "cell_type": "code",
      "source": [
        "i = 4\n",
        "if i == 1:\n",
        "    print(1)\n",
        "elif i == 2:\n",
        "    print(2)\n",
        "else :\n",
        "    print(\"Not 1 and 2\")\n"
      ],
      "metadata": {
        "id": "1cdOURBPyh8I"
      },
      "execution_count": null,
      "outputs": []
    },
    {
      "cell_type": "markdown",
      "source": [
        "###List"
      ],
      "metadata": {
        "id": "qgXwWDcCutnT"
      }
    },
    {
      "cell_type": "code",
      "source": [
        "friends = [\"A\", \"B\", \"C\"]\n",
        "print(friends)            #[\"A\", \"B\", \"C\"]\n",
        "print(friends[0])         #A\n",
        "print(friends[-1])        #C\n",
        "print(friends[1:])        #[\"B\", \"C\"]\n",
        "print(friends[0:2])       #[\"A\", \"B\"]\n"
      ],
      "metadata": {
        "id": "j5g2b5WHzSz0"
      },
      "execution_count": null,
      "outputs": []
    },
    {
      "cell_type": "code",
      "source": [
        "X = [\"A\", \"B\", \"C\"]\n",
        "Y = [1, 2, 3]\n",
        "X.extend(Y)\n",
        "print(X)            "
      ],
      "metadata": {
        "id": "45GA_L7l0UXU"
      },
      "execution_count": null,
      "outputs": []
    },
    {
      "cell_type": "code",
      "source": [
        "X.append(\"D\")    \n",
        "print(X)         "
      ],
      "metadata": {
        "id": "bwOiCDg9F2V3"
      },
      "execution_count": null,
      "outputs": []
    },
    {
      "cell_type": "code",
      "source": [
        "X.insert(1, \"D\")\n",
        "print(X)    "
      ],
      "metadata": {
        "id": "ycpwLObPF5Af"
      },
      "execution_count": null,
      "outputs": []
    },
    {
      "cell_type": "code",
      "source": [
        "X.clear()\n",
        "print(X)            \n"
      ],
      "metadata": {
        "id": "5ieYSVGHF5rW"
      },
      "execution_count": null,
      "outputs": []
    },
    {
      "cell_type": "code",
      "source": [
        "X = [\"A\", \"B\", \"C\"]\n",
        "Y = [1, 2, 3]\n",
        "X.pop()\n",
        "print(X)              "
      ],
      "metadata": {
        "id": "THmNqun_0Q1N"
      },
      "execution_count": null,
      "outputs": []
    },
    {
      "cell_type": "code",
      "source": [
        "X.index(\"B\")           \n",
        "print(X)"
      ],
      "metadata": {
        "id": "FHyK3Qs9GrfB"
      },
      "execution_count": null,
      "outputs": []
    },
    {
      "cell_type": "code",
      "source": [
        "X.count(\"B\")           \n",
        "print(X)"
      ],
      "metadata": {
        "id": "4hL5ncxBGyXX"
      },
      "execution_count": null,
      "outputs": []
    },
    {
      "cell_type": "code",
      "source": [
        "X.sort()\n",
        "print(X)"
      ],
      "metadata": {
        "id": "79LpVrMfG2Cw"
      },
      "execution_count": null,
      "outputs": []
    },
    {
      "cell_type": "code",
      "source": [
        "X.reverse()     \n",
        "print(X)       "
      ],
      "metadata": {
        "id": "34dKYNiiG31m"
      },
      "execution_count": null,
      "outputs": []
    },
    {
      "cell_type": "code",
      "source": [
        "X2 = X.copy()\n",
        "print(X2)\n"
      ],
      "metadata": {
        "id": "RvSJ4BFPG5ub"
      },
      "execution_count": null,
      "outputs": []
    },
    {
      "cell_type": "markdown",
      "source": [
        "###Dictionary"
      ],
      "metadata": {
        "id": "SQ5jwvE3u7hx"
      }
    },
    {
      "cell_type": "code",
      "source": [
        "# mendefinisikan dictionary\n",
        "id_divisi = {\n",
        "    71 : 'IT',\n",
        "    82 : 'Finance',\n",
        "    91 : 'Data'\n",
        "}\n",
        "\n",
        "# mengakses data menggunakan key\n",
        "print(\"Divisi dengan kode 71:\", id_divisi[71])"
      ],
      "metadata": {
        "id": "eT_nymHUt0NI"
      },
      "execution_count": null,
      "outputs": []
    },
    {
      "cell_type": "code",
      "source": [
        "days_in_a_week = {\n",
        "        \"Mon\": \"Monday\",\n",
        "        \"Tue\": \"Tuesday\",\n",
        "        \"Wed\": \"Wednesday\",\n",
        "        \"Thu\": \"Thursday\",\n",
        "        \"Fri\": \"Friday\",\n",
        "        \"Sat\": \"Saturday\",\n",
        "        \"Sun\": \"Sunday\"\n",
        "    }\n",
        "days_in_a_week[\"Mon\"]            \n",
        "\n"
      ],
      "metadata": {
        "id": "J8hdLRWjyMw7"
      },
      "execution_count": null,
      "outputs": []
    },
    {
      "cell_type": "markdown",
      "source": [
        "###Pengulangan "
      ],
      "metadata": {
        "id": "O37RTRQSt6W3"
      }
    },
    {
      "cell_type": "code",
      "source": [
        "#for loops\n",
        "angka = [1,2,3,4,5]\n",
        "for x in angka:\n",
        "    print(x)\n"
      ],
      "metadata": {
        "id": "U_h6hJCtxbwG"
      },
      "execution_count": null,
      "outputs": []
    },
    {
      "cell_type": "code",
      "source": [
        "#for loops\n",
        "buah = [\"nanas\", \"apel\", \"jeruk\"]\n",
        "for makanan in buah:\n",
        "    print (\"Saya suka makan\", makanan)\n"
      ],
      "metadata": {
        "id": "mOTWr4k_xz7-"
      },
      "execution_count": null,
      "outputs": []
    },
    {
      "cell_type": "code",
      "source": [
        "#while loops\n",
        "count = 0\n",
        "while (count < 9):\n",
        "    print (\"The count is: \", count)\n",
        "    count = count + 1\n",
        "\n",
        "print (\"Good bye!\")\n"
      ],
      "metadata": {
        "id": "qRcrfQGDx-2x"
      },
      "execution_count": null,
      "outputs": []
    },
    {
      "cell_type": "code",
      "source": [
        "#Nested Loops\n",
        "i = 2\n",
        "while(i < 100):\n",
        "    j = 2\n",
        "    while(j <= (i/j)):\n",
        "        if not(i%j): break\n",
        "        j = j + 1\n",
        "    if (j > i/j) : print(i, \" is prime\")\n",
        "    i = i + 1\n",
        "\n",
        "print(\"Good bye!\")\n"
      ],
      "metadata": {
        "id": "0qX-KKMpyFXo"
      },
      "execution_count": null,
      "outputs": []
    },
    {
      "cell_type": "markdown",
      "source": [
        "###Excercise"
      ],
      "metadata": {
        "id": "sxhpzjurYY6R"
      }
    },
    {
      "cell_type": "code",
      "source": [
        "#Buat program untuk menghitung jumlah seluruh angka ganjil dalam suatu list\n",
        "# Input: list berisi angka-angka\n",
        "# Output: jumlah seluruh angka ganjil "
      ],
      "metadata": {
        "id": "Rs9dYKL11Io6"
      },
      "execution_count": null,
      "outputs": []
    },
    {
      "cell_type": "code",
      "source": [
        "#Diberikan input suatu angka, tampilkan formasi piramida bintang dengan tinggi sesuai dengan angka yang diinputkan\n",
        "# Input: suatu angka (n)\n",
        "# Output: piramida dengan tinggi n\n",
        "\n",
        "#    *\n",
        "#   ***\n",
        "#  *****  contoh output untuk n = 5\n",
        "# *******\n",
        "#*********"
      ],
      "metadata": {
        "id": "kS974OYN1vfN"
      },
      "execution_count": null,
      "outputs": []
    }
  ]
}
