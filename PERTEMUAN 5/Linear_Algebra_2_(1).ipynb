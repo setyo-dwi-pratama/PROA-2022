{
  "cells": [
    {
      "cell_type": "markdown",
      "metadata": {
        "id": "view-in-github",
        "colab_type": "text"
      },
      "source": [
        "<a href=\"https://colab.research.google.com/github/setyo-dwi-pratama/PROA-2022/blob/main/Linear_Algebra_2_(1).ipynb\" target=\"_parent\"><img src=\"https://colab.research.google.com/assets/colab-badge.svg\" alt=\"Open In Colab\"/></a>"
      ]
    },
    {
      "cell_type": "markdown",
      "source": [
        "#Linear Algebra 2"
      ],
      "metadata": {
        "id": "MDdu_2T0gc9K"
      }
    },
    {
      "cell_type": "markdown",
      "source": [
        "###Inverse"
      ],
      "metadata": {
        "id": "HGV1G8k7x_Sw"
      }
    },
    {
      "cell_type": "code",
      "source": [
        "import numpy as np\n",
        "  \n",
        "# Taking a 4 * 4 matrix\n",
        "A = np.array([[6, 1, 1, 3],\n",
        "              [4, -2, 5, 1],\n",
        "              [2, 8, 7, 6],\n",
        "              [3, 1, 9, 7]])\n",
        "  \n",
        "# Calculating the inverse of the matrix\n",
        "print(np.linalg.inv(A))"
      ],
      "metadata": {
        "colab": {
          "base_uri": "https://localhost:8080/"
        },
        "id": "-l4sNKaMxoYK",
        "outputId": "9445e7b2-4d55-4413-91af-c1da851453e8"
      },
      "execution_count": null,
      "outputs": [
        {
          "output_type": "stream",
          "name": "stdout",
          "text": [
            "[[ 0.13368984  0.10695187  0.02139037 -0.09090909]\n",
            " [-0.00229183  0.02673797  0.14820474 -0.12987013]\n",
            " [-0.12987013  0.18181818  0.06493506 -0.02597403]\n",
            " [ 0.11000764 -0.28342246 -0.11382735  0.23376623]]\n"
          ]
        }
      ]
    },
    {
      "cell_type": "code",
      "source": [
        "#https://www.geeksforgeeks.org/how-to-inverse-a-matrix-using-numpy/\n",
        "\n",
        "import numpy as np\n",
        "  \n",
        "# Inverses of several matrices can\n",
        "# be computed at once\n",
        "A = np.array([[[1., 2.], [3., 4.]],\n",
        "              [[1, 3], [3, 5]]])\n",
        "  \n",
        "# Calculating the inverse of the matrix\n",
        "print(np.linalg.inv(A))"
      ],
      "metadata": {
        "id": "qpn7c0bmgcyA",
        "colab": {
          "base_uri": "https://localhost:8080/"
        },
        "outputId": "3ad6842e-5652-48a3-9822-13dd923d1410"
      },
      "execution_count": null,
      "outputs": [
        {
          "output_type": "stream",
          "name": "stdout",
          "text": [
            "[[[-2.    1.  ]\n",
            "  [ 1.5  -0.5 ]]\n",
            "\n",
            " [[-1.25  0.75]\n",
            "  [ 0.75 -0.25]]]\n"
          ]
        }
      ]
    },
    {
      "cell_type": "code",
      "source": [
        "import numpy as np\n",
        "  \n",
        "# Taking a 3 * 3 matrix\n",
        "A = np.array([[6, 1, 1],\n",
        "              [4, -2, 5],\n",
        "              [2, 8, 7]])\n",
        "  \n",
        "# Calculating the inverse of the matrix\n",
        "print(np.linalg.inv(A))"
      ],
      "metadata": {
        "colab": {
          "base_uri": "https://localhost:8080/"
        },
        "id": "MvTZBo8Wx5xL",
        "outputId": "b3803ec2-49aa-40ac-f40b-22b74734e507"
      },
      "execution_count": null,
      "outputs": [
        {
          "output_type": "stream",
          "name": "stdout",
          "text": [
            "[[ 0.17647059 -0.00326797 -0.02287582]\n",
            " [ 0.05882353 -0.13071895  0.08496732]\n",
            " [-0.11764706  0.1503268   0.05228758]]\n"
          ]
        }
      ]
    },
    {
      "cell_type": "markdown",
      "source": [
        "###Determinan"
      ],
      "metadata": {
        "id": "xgZphpyWySSR"
      }
    },
    {
      "cell_type": "code",
      "source": [
        "import numpy as np \n",
        "  \n",
        "# creating a 2X2 Numpy matrix\n",
        "n_array = np.array([[50, 29], [30, 44]])\n",
        "  \n",
        "# Displaying the Matrix\n",
        "print(\"Numpy Matrix is:\")\n",
        "print(n_array)\n",
        "  \n",
        "# calculating the determinant of matrix\n",
        "det = np.linalg.det(n_array)\n",
        "  \n",
        "print(\"\\nDeterminant of given 2X2 matrix:\")\n",
        "print(int(det))"
      ],
      "metadata": {
        "colab": {
          "base_uri": "https://localhost:8080/"
        },
        "id": "6NkGE6F-zxEf",
        "outputId": "9b96752c-b4db-4f6a-a593-318954efbbfa"
      },
      "execution_count": null,
      "outputs": [
        {
          "output_type": "stream",
          "name": "stdout",
          "text": [
            "Numpy Matrix is:\n",
            "[[50 29]\n",
            " [30 44]]\n",
            "\n",
            "Determinant of given 2X2 matrix:\n",
            "1330\n"
          ]
        }
      ]
    },
    {
      "cell_type": "code",
      "source": [
        "# creating a 3X3 Numpy matrix\n",
        "n_array = np.array([[55, 25, 15],\n",
        "                    [30, 44, 2],\n",
        "                    [11, 45, 77]])\n",
        "  \n",
        "# Displaying the Matrix\n",
        "print(\"Numpy Matrix is:\")\n",
        "print(n_array)\n",
        "  \n",
        "# calculating the determinant of matrix\n",
        "det = np.linalg.det(n_array)\n",
        "  \n",
        "print(\"\\nDeterminant of given 3X3 square matrix:\")\n",
        "print(int(det))"
      ],
      "metadata": {
        "colab": {
          "base_uri": "https://localhost:8080/"
        },
        "id": "_fYNd5Wb0Ygu",
        "outputId": "d9f43ca6-7059-465a-94da-ec58413e6e5f"
      },
      "execution_count": null,
      "outputs": [
        {
          "output_type": "stream",
          "name": "stdout",
          "text": [
            "Numpy Matrix is:\n",
            "[[55 25 15]\n",
            " [30 44  2]\n",
            " [11 45 77]]\n",
            "\n",
            "Determinant of given 3X3 square matrix:\n",
            "137180\n"
          ]
        }
      ]
    },
    {
      "cell_type": "code",
      "source": [
        "# creating a 5X5 Numpy matrix\n",
        "n_array = np.array([[5, 2, 1, 4, 6],\n",
        "                    [9, 4, 2, 5, 2],\n",
        "                    [11, 5, 7, 3, 9],\n",
        "                    [5, 6, 6, 7, 2],\n",
        "                    [7, 5, 9, 3, 3]])\n",
        "  \n",
        "# Displaying the Matrix\n",
        "print(\"Numpy Matrix is:\")\n",
        "print(n_array)\n",
        "  \n",
        "# calculating the determinant of matrix\n",
        "det = np.linalg.det(n_array)\n",
        "  \n",
        "print(\"\\nDeterminant of given 5X5 square matrix:\")\n",
        "print(int(det))"
      ],
      "metadata": {
        "colab": {
          "base_uri": "https://localhost:8080/"
        },
        "id": "Ndz8hqTg0ep4",
        "outputId": "f23d027c-af59-406c-bf16-040c43528323"
      },
      "execution_count": null,
      "outputs": [
        {
          "output_type": "stream",
          "name": "stdout",
          "text": [
            "Numpy Matrix is:\n",
            "[[ 5  2  1  4  6]\n",
            " [ 9  4  2  5  2]\n",
            " [11  5  7  3  9]\n",
            " [ 5  6  6  7  2]\n",
            " [ 7  5  9  3  3]]\n",
            "\n",
            "Determinant of given 5X5 square matrix:\n",
            "-2003\n"
          ]
        }
      ]
    },
    {
      "cell_type": "markdown",
      "source": [
        "Formula :\n",
        " \n",
        "![image.png](data:image/png;base64,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)\n",
        " "
      ],
      "metadata": {
        "id": "EHkhhtZcyO_3"
      }
    },
    {
      "cell_type": "code",
      "source": [
        "#https://www.geeksforgeeks.org/how-to-calculate-the-determinant-of-a-matrix-using-numpy/\n",
        "def det(n_array):\n",
        "  deter = np.linalg.det(n_array)\n",
        "  return deter"
      ],
      "metadata": {
        "id": "qXYpkOZF0DwY"
      },
      "execution_count": null,
      "outputs": []
    },
    {
      "cell_type": "code",
      "source": [
        "#https://www.geeksforgeeks.org/how-to-find-cofactor-of-a-matrix-using-numpy/?ref=rp\n",
        "def adj(matrix):\n",
        "  adjoint = np.linalg.det(matrix) * np.linalg.inv(matrix)\n",
        "  return adjoint"
      ],
      "metadata": {
        "id": "CixJ_aY01nAV"
      },
      "execution_count": null,
      "outputs": []
    },
    {
      "cell_type": "code",
      "source": [
        "A = [[1, 2], [3, 4]]\n",
        "if det(A) != 0 : \n",
        "    AA = adj(A)/det(A)\n",
        "    print(AA)\n",
        "else :\n",
        "    print(\"Inverse doesn't exist\") "
      ],
      "metadata": {
        "colab": {
          "base_uri": "https://localhost:8080/"
        },
        "id": "xFpNhI4myBm6",
        "outputId": "b01c6eeb-8313-4176-ab66-e5d71145316b"
      },
      "execution_count": null,
      "outputs": [
        {
          "output_type": "stream",
          "name": "stdout",
          "text": [
            "[[-2.   1. ]\n",
            " [ 1.5 -0.5]]\n"
          ]
        }
      ]
    },
    {
      "cell_type": "code",
      "source": [
        "\n",
        "A = np.array([[1, 2], [3, 4]])\n",
        "  \n",
        "# Calculating the inverse of the matrix\n",
        "print(np.linalg.inv(A))"
      ],
      "metadata": {
        "colab": {
          "base_uri": "https://localhost:8080/"
        },
        "id": "-LZQiZkO240d",
        "outputId": "14bc5e0d-4e34-46eb-d0b9-b4e881431fe2"
      },
      "execution_count": null,
      "outputs": [
        {
          "output_type": "stream",
          "name": "stdout",
          "text": [
            "[[-2.   1. ]\n",
            " [ 1.5 -0.5]]\n"
          ]
        }
      ]
    },
    {
      "cell_type": "markdown",
      "source": [
        "##Orthogonal\n"
      ],
      "metadata": {
        "id": "tYKTXdc1Fnol"
      }
    },
    {
      "cell_type": "code",
      "source": [
        "# https://www.geeksforgeeks.org/check-whether-given-matrix-orthogonal-not/\n",
        "\n",
        "def isOrthogonal(a, m, n) :\n",
        "\tif (m != n) :\n",
        "\t\treturn False\n",
        "\t\n",
        "\ttrans = [[0 for x in range(n)]\n",
        "\t\t\t\tfor y in range(n)]\n",
        "\t\t\t\t\n",
        "\t# Find transpose\n",
        "\tfor i in range(0, n) :\n",
        "\t\tfor j in range(0, n) :\n",
        "\t\t\ttrans[i][j] = a[j][i]\n",
        "\t\t\t\n",
        "\tprod = [[0 for x in range(n)]\n",
        "\t\t\tfor y in range(n)]\n",
        "\t\t\t\t\n",
        "\t# Find product of a[][]\n",
        "\t# and its transpose\n",
        "\tfor i in range(0, n) :\n",
        "\t\tfor j in range(0, n) :\n",
        "\t\n",
        "\t\t\tsum = 0\n",
        "\t\t\tfor k in range(0, n) :\n",
        "\t\t\n",
        "\t\t\t\t# Since we are multiplying\n",
        "\t\t\t\t# with transpose of itself.\n",
        "\t\t\t\t# We use\n",
        "\t\t\t\tsum = sum + (a[i][k] *\n",
        "\t\t\t\t\t\t\ttrans[j][k])\n",
        "\t\n",
        "\t\t\tprod[i][j] = sum\n",
        "\n",
        "\t# Check if product is\n",
        "\t# identity matrix\n",
        "\tfor i in range(0, n) :\n",
        "\t\tfor j in range(0, n) :\n",
        "\n",
        "\t\t\tif (i != j and prod[i][j] != 0) :\n",
        "\t\t\t\treturn False\n",
        "\t\t\tif (i == j and prod[i][j] != 1) :\n",
        "\t\t\t\treturn False\n",
        "\n",
        "\treturn True\n",
        "\n",
        "# Driver Code\n",
        "a = [[1, 0, 0],\n",
        "\t[0, 1, 0],\n",
        "\t[0, 0, 1]]\n",
        "\t\t\n",
        "if (isOrthogonal(a, 3, 3)) :\n",
        "\tprint (\"Yes\")\n",
        "else :\n",
        "\tprint (\"No\")\n",
        "\n",
        "# This code is contributed by\n",
        "# Manish Shaw(manishshaw1)\n"
      ],
      "metadata": {
        "colab": {
          "base_uri": "https://localhost:8080/"
        },
        "id": "LNlUZXbWFsGm",
        "outputId": "c17c470e-2778-4e81-f862-3e234b8aa5ef"
      },
      "execution_count": null,
      "outputs": [
        {
          "output_type": "stream",
          "name": "stdout",
          "text": [
            "Yes\n"
          ]
        }
      ]
    },
    {
      "cell_type": "markdown",
      "source": [
        "##Composition combination of matrix transformations\n"
      ],
      "metadata": {
        "id": "mc6xox6yGsSM"
      }
    },
    {
      "cell_type": "code",
      "source": [
        "import matplotlib.pyplot as plt\n",
        "import numpy as np\n",
        "import string\n",
        "\n",
        "# points a, b and, c\n",
        "a, b, c, d = (0, 1, 0), (1, 0, 1), (0, -1, 2), (-1, 0, 3)\n",
        "\n",
        "# matrix with row vectors of points\n",
        "A = np.array([a, b, c, d])\n",
        "\n",
        "# 3x3 Identity transformation matrix\n",
        "I = np.eye(3)"
      ],
      "metadata": {
        "id": "2jQzCbaOGwiZ"
      },
      "execution_count": null,
      "outputs": []
    },
    {
      "cell_type": "code",
      "source": [
        "color_lut = 'rgbc'\n",
        "fig = plt.figure()\n",
        "ax = plt.gca() #get current axes\n",
        "xs = []\n",
        "ys = []\n",
        "for row in A:\n",
        "    output_row = I @ row # @ is decorator syntax of matrix multiplication\n",
        "    x, y, i = output_row\n",
        "    xs.append(x)\n",
        "    ys.append(y)\n",
        "    i = int(i) # convert float to int for indexing\n",
        "    c = color_lut[i]\n",
        "    plt.scatter(x, y, color=c)\n",
        "    plt.text(x + 0.15, y, f\"{string.ascii_letters[i]}\")\n",
        "xs.append(xs[0])\n",
        "ys.append(ys[0])\n",
        "plt.plot(xs, ys, color=\"gray\", linestyle='dotted')\n",
        "ax.set_xticks(np.arange(-2.5, 3, 0.5))\n",
        "ax.set_yticks(np.arange(-2.5, 3, 0.5))\n",
        "plt.grid()\n",
        "plt.show()"
      ],
      "metadata": {
        "colab": {
          "base_uri": "https://localhost:8080/",
          "height": 269
        },
        "id": "YH3dJegcG3bu",
        "outputId": "a758ada1-e23c-4f1a-d405-df663bf951aa"
      },
      "execution_count": null,
      "outputs": [
        {
          "output_type": "display_data",
          "data": {
            "text/plain": [
              "<Figure size 432x288 with 1 Axes>"
            ],
            "image/png": "[encoded data removed]"
          },
          "metadata": {
            "needs_background": "light"
          }
        }
      ]
    },
    {
      "cell_type": "code",
      "source": [
        "# create the scaling transformation matrix\n",
        "T_s = np.array([[2, 0, 0], [0, 2, 0], [0, 0, 1]])\n",
        "\n",
        "fig = plt.figure()\n",
        "ax = plt.gca()\n",
        "xs_s = []\n",
        "ys_s = []\n",
        "for row in A:\n",
        "    output_row = T_s @ row\n",
        "    x, y, i = row\n",
        "    x_s, y_s, i_s = output_row\n",
        "    xs_s.append(x_s)\n",
        "    ys_s.append(y_s)\n",
        "    i, i_s = int(i), int(i_s) # convert float to int for indexing\n",
        "    c, c_s = color_lut[i], color_lut[i_s] # these are the same but, its good to be explicit\n",
        "    plt.scatter(x, y, color=c)\n",
        "    plt.scatter(x_s, y_s, color=c_s)\n",
        "    plt.text(x + 0.15, y, f\"{string.ascii_letters[int(i)]}\")\n",
        "    plt.text(x_s + 0.15, y_s, f\"{string.ascii_letters[int(i_s)]}'\")\n",
        "\n",
        "xs_s.append(xs_s[0])\n",
        "ys_s.append(ys_s[0])\n",
        "plt.plot(xs, ys, color=\"gray\", linestyle='dotted')\n",
        "plt.plot(xs_s, ys_s, color=\"gray\", linestyle='dotted')\n",
        "ax.set_xticks(np.arange(-2.5, 3, 0.5))\n",
        "ax.set_yticks(np.arange(-2.5, 3, 0.5))\n",
        "plt.grid()\n",
        "plt.show()"
      ],
      "metadata": {
        "colab": {
          "base_uri": "https://localhost:8080/",
          "height": 269
        },
        "id": "oPlA1qRqG7rl",
        "outputId": "f28e90e0-b424-41c8-d9f9-4538f6056fa6"
      },
      "execution_count": null,
      "outputs": [
        {
          "output_type": "display_data",
          "data": {
            "text/plain": [
              "<Figure size 432x288 with 1 Axes>"
            ],
            "image/png": "[encoded data removed]"
          },
          "metadata": {
            "needs_background": "light"
          }
        }
      ]
    },
    {
      "cell_type": "code",
      "source": [
        "# create the rotation transformation matrix\n",
        "T_r = np.array([[0, 1, 0], [-1, 0, 0], [0, 0, 1]])\n",
        "\n",
        "fig = plt.figure()\n",
        "ax = plt.gca()\n",
        "for row in A:\n",
        "    output_row = T_r @ row\n",
        "    x_r, y_r, i_r = output_row\n",
        "    i_r = int(i_r) # convert float to int for indexing\n",
        "    c_r = color_lut[i_r] # these are the same but, its good to be explicit\n",
        "    letter_r = string.ascii_letters[i_r]\n",
        "    plt.scatter(x_r, y_r, color=c_r)\n",
        "    plt.text(x_r + 0.15, y_r, f\"{letter_r}'\")\n",
        "\n",
        "plt.plot(x_r, y_r, color=\"gray\", linestyle='dotted')\n",
        "ax.set_xticks(np.arange(-2.5, 3, 0.5))\n",
        "ax.set_yticks(np.arange(-2.5, 3, 0.5))\n",
        "plt.grid()\n",
        "plt.show()"
      ],
      "metadata": {
        "colab": {
          "base_uri": "https://localhost:8080/",
          "height": 269
        },
        "id": "KD19zRTTG_wh",
        "outputId": "054d37f8-af04-4754-b546-6033a5fa4b12"
      },
      "execution_count": null,
      "outputs": [
        {
          "output_type": "display_data",
          "data": {
            "text/plain": [
              "<Figure size 432x288 with 1 Axes>"
            ],
            "image/png": "[encoded data removed]"
          },
          "metadata": {
            "needs_background": "light"
          }
        }
      ]
    },
    {
      "cell_type": "code",
      "source": [
        "# create combined tranformation matrix\n",
        "T = T_s @ T_r\n",
        "# @ is decorator syntax of matrix multiplication\n",
        "fig = plt.figure()\n",
        "ax = plt.gca()\n",
        "\n",
        "xs_comb = []\n",
        "ys_comb = []\n",
        "for row in A:\n",
        "    output_row = T @ row\n",
        "    x, y, i = row\n",
        "    x_comb, y_comb, i_comb = output_row\n",
        "    xs_comb.append(x_comb)\n",
        "    ys_comb.append(y_comb)\n",
        "    i, i_comb = int(i), int(i_comb) # convert float to int for indexing\n",
        "    c, c_comb = color_lut[i], color_lut[i_comb] # these are the same but, its good to be explicit\n",
        "    letter, letter_comb = string.ascii_letters[i], string.ascii_letters[i_comb]\n",
        "    plt.scatter(x, y, color=c)\n",
        "    plt.scatter(x_comb, y_comb, color=c_comb)\n",
        "    plt.text(x + 0.15 , y, f\"{letter}\")\n",
        "    plt.text(x_comb + 0.15, y_comb, f\"{letter_comb}\")\n",
        "xs_comb.append(xs_comb[0])\n",
        "ys_comb.append(ys_comb[0])\n",
        "plt.plot(xs, ys, color=\"gray\", linestyle='dotted')\n",
        "plt.plot(xs_comb, ys_comb, color=\"gray\", linestyle='dotted')\n",
        "ax.set_xticks(np.arange(-2.5, 3, 0.5))\n",
        "ax.set_yticks(np.arange(-2.5, 3, 0.5))\n",
        "plt.grid()\n",
        "plt.show()"
      ],
      "metadata": {
        "colab": {
          "base_uri": "https://localhost:8080/",
          "height": 269
        },
        "id": "wel1PrDqHFcE",
        "outputId": "ee2ac1f7-cefe-4577-b739-c9360ee96ce7"
      },
      "execution_count": null,
      "outputs": [
        {
          "output_type": "display_data",
          "data": {
            "text/plain": [
              "<Figure size 432x288 with 1 Axes>"
            ],
            "image/png": "[encoded data removed]"
          },
          "metadata": {
            "needs_background": "light"
          }
        }
      ]
    },
    {
      "cell_type": "markdown",
      "source": [
        "###Gaussian elimination"
      ],
      "metadata": {
        "id": "y1Jh4xRZ4TSy"
      }
    },
    {
      "cell_type": "code",
      "source": [
        "# Importing NumPy Library\n",
        "import numpy as np\n",
        "import sys\n",
        "\n",
        "# Reading number of unknowns\n",
        "n = int(input('Enter number of unknowns: '))\n",
        "14\n",
        "# Making numpy array of n x n+1 size and initializing \n",
        "# to zero for storing augmented matrix\n",
        "a = np.zeros((n,n+1))\n",
        "\n",
        "# Making numpy array of n size and initializing \n",
        "# to zero for storing solution vector\n",
        "x = np.zeros(n)\n",
        "\n",
        "# Reading augmented matrix coefficients\n",
        "print('Enter Augmented Matrix Coefficients:')\n",
        "for i in range(n):\n",
        "    for j in range(n+1):\n",
        "        a[i][j] = float(input( 'a['+str(i)+']['+ str(j)+']='))\n",
        "\n",
        "# Applying Gauss Elimination\n",
        "for i in range(n):\n",
        "    if a[i][i] == 0.0:\n",
        "        sys.exit('Divide by zero detected!')\n",
        "        \n",
        "    for j in range(i+1, n):\n",
        "        ratio = a[j][i]/a[i][i]\n",
        "        \n",
        "        for k in range(n+1):\n",
        "            a[j][k] = a[j][k] - ratio * a[i][k]\n",
        "\n",
        "# Back Substitution\n",
        "x[n-1] = a[n-1][n]/a[n-1][n-1]\n",
        "\n",
        "for i in range(n-2,-1,-1):\n",
        "    x[i] = a[i][n]\n",
        "    \n",
        "    for j in range(i+1,n):\n",
        "        x[i] = x[i] - a[i][j]*x[j]\n",
        "    \n",
        "    x[i] = x[i]/a[i][i]\n",
        "\n",
        "# Displaying solution\n",
        "print('\\nRequired solution is: ')\n",
        "for i in range(n):\n",
        "    print('X%d = %0.2f' %(i,x[i]), end = '\\t')\n"
      ],
      "metadata": {
        "id": "8MeQ9jsliDMi",
        "colab": {
          "base_uri": "https://localhost:8080/"
        },
        "outputId": "7db3ab7f-37f5-40de-9017-c69eed9090c8"
      },
      "execution_count": null,
      "outputs": [
        {
          "output_type": "stream",
          "name": "stdout",
          "text": [
            "Enter number of unknowns: 3\n",
            "Enter Augmented Matrix Coefficients:\n",
            "a[0][0]=1\n",
            "a[0][1]=2\n",
            "a[0][2]=3\n",
            "a[0][3]=4\n",
            "a[1][0]=5\n",
            "a[1][1]=6\n",
            "a[1][2]=90\n",
            "a[1][3]=8\n",
            "a[2][0]=7\n",
            "a[2][1]=2\n",
            "a[2][2]=3\n",
            "a[2][3]=5\n",
            "\n",
            "Required solution is: \n",
            "X0 = 0.17\tX1 = 2.00\tX2 = -0.05\t"
          ]
        }
      ]
    },
    {
      "cell_type": "markdown",
      "source": [
        "\n",
        "1###Matrices Changing Basis"
      ],
      "metadata": {
        "id": "tdcwRtKq5R_o"
      }
    },
    {
      "cell_type": "code",
      "source": [
        "import numpy as np\n",
        "vec_old = [5,2]\n",
        "#Standard\n",
        "w1 = [3,1]\n",
        "w2 = [1,1]\n",
        "#Basis baru\n",
        "vec_new = np.linalg.inv(np.array([w1,w2])).dot(vec_old)\n",
        "print(vec_new)"
      ],
      "metadata": {
        "id": "iGamPNTIiDYi",
        "colab": {
          "base_uri": "https://localhost:8080/"
        },
        "outputId": "33ebf822-35ea-44d1-95ff-fbe84c08d4a1"
      },
      "execution_count": null,
      "outputs": [
        {
          "output_type": "stream",
          "name": "stdout",
          "text": [
            "[1.5 0.5]\n"
          ]
        }
      ]
    },
    {
      "cell_type": "markdown",
      "metadata": {
        "id": "q8ulMaIggJns"
      },
      "source": [
        "# Gram-Schmidt process\n",
        "\n",
        "## Instructions\n",
        "In this assignment you will write a function to perform the Gram-Schmidt procedure, which takes a list of vectors and forms an orthonormal basis from this set.\n",
        "As a corollary, the procedure allows us to determine the dimension of the space spanned by the basis vectors, which is equal to or less than the space which the vectors sit.\n",
        "\n",
        "You'll start by completing a function for 4 basis vectors, before generalising to when an arbitrary number of vectors are given.\n",
        "\n",
        "Again, a framework for the function has already been written.\n",
        "Look through the code, and you'll be instructed where to make changes.\n",
        "We'll do the first two rows, and you can use this as a guide to do the last two.\n",
        "\n",
        "### Matrices in Python\n",
        "Remember the structure for matrices in *numpy* is,\n",
        "```python\n",
        "A[0, 0]  A[0, 1]  A[0, 2]  A[0, 3]\n",
        "A[1, 0]  A[1, 1]  A[1, 2]  A[1, 3]\n",
        "A[2, 0]  A[2, 1]  A[2, 2]  A[2, 3]\n",
        "A[3, 0]  A[3, 1]  A[3, 2]  A[3, 3]\n",
        "```\n",
        "You can access the value of each element individually using,\n",
        "```python\n",
        "A[n, m]\n",
        "```\n",
        "You can also access a whole row at a time using,\n",
        "```python\n",
        "A[n]\n",
        "```\n",
        "\n",
        "Building on last assignment, in this exercise you will need to select whole columns at a time.\n",
        "This can be done with,\n",
        "```python\n",
        "A[:, m]\n",
        "```\n",
        "which will select the m'th column (starting at zero).\n",
        "\n",
        "In this exercise, you will need to take the dot product between vectors. This can be done using the @ operator.\n",
        "To dot product vectors u and v, use the code,\n",
        "```python\n",
        "u @ v\n",
        "```\n",
        "\n",
        "All the code you should complete will be at the same level of indentation as the instruction comment.\n",
        "\n",
        "### How to submit\n",
        "Edit the code in the cell below to complete the assignment.\n",
        "Once you are finished and happy with it, press the *Submit Assignment* button at the top of this notebook.\n",
        "\n",
        "Please don't change any of the function names, as these will be checked by the grading script.\n",
        "\n",
        "If you have further questions about submissions or programming assignments, here is a [list](https://www.coursera.org/learn/linear-algebra-machine-learning/discussions/weeks/1/threads/jB4klkn5EeibtBIQyzFmQg) of Q&A. You can also raise an issue on the discussion forum. Good luck!"
      ]
    },
    {
      "cell_type": "code",
      "execution_count": null,
      "metadata": {
        "collapsed": true,
        "id": "X25_g8GrgJn3"
      },
      "outputs": [],
      "source": [
        "# GRADED FUNCTION\n",
        "import numpy as np\n",
        "import numpy.linalg as la\n",
        "\n",
        "verySmallNumber = 1e-14 # That's 1×10⁻¹⁴ = 0.00000000000001\n",
        "\n",
        "# Our first function will perform the Gram-Schmidt procedure for 4 basis vectors.\n",
        "# We'll take this list of vectors as the columns of a matrix, A.\n",
        "# We'll then go through the vectors one at a time and set them to be orthogonal\n",
        "# to all the vectors that came before it. Before normalising.\n",
        "# Follow the instructions inside the function at each comment.\n",
        "# You will be told where to add code to complete the function.\n",
        "def gsBasis4(A) :\n",
        "    B = np.array(A, dtype=np.float_) # Make B as a copy of A, since we're going to alter it's values.\n",
        "    # The zeroth column is easy, since it has no other vectors to make it normal to.\n",
        "    # All that needs to be done is to normalise it. I.e. divide by its modulus, or norm.\n",
        "    B[:, 0] = B[:, 0] / la.norm(B[:, 0])\n",
        "    # For the first column, we need to subtract any overlap with our new zeroth vector.\n",
        "    B[:, 1] = B[:, 1] - B[:, 1] @ B[:, 0] * B[:, 0]\n",
        "    # If there's anything left after that subtraction, then B[:, 1] is linearly independant of B[:, 0]\n",
        "    # If this is the case, we can normalise it. Otherwise we'll set that vector to zero.\n",
        "    if la.norm(B[:, 1]) > verySmallNumber :\n",
        "        B[:, 1] = B[:, 1] / la.norm(B[:, 1])\n",
        "    else :\n",
        "        B[:, 1] = np.zeros_like(B[:, 1])\n",
        "    # Now we need to repeat the process for column 2.\n",
        "    # Insert two lines of code, the first to subtract the overlap with the zeroth vector,\n",
        "    # and the second to subtract the overlap with the first.\n",
        "    B[:, 2] = B[:, 2] - B[:, 2] @ B[:, 0] * B[:, 0]\n",
        "    B[:, 2] = B[:, 2] - B[:, 2] @ B[:, 1] * B[:, 1]\n",
        "    # Again we'll need to normalise our new vector.\n",
        "    # Copy and adapt the normalisation fragment from above to column 2.\n",
        "    if la.norm(B[:, 2]) > verySmallNumber :\n",
        "        B[:, 2] = B[:, 2] / la.norm(B[:, 2])\n",
        "    else :\n",
        "        B[:, 2] = np.zeros_like(B[:, 2])\n",
        "        \n",
        "    # Finally, column three:\n",
        "    # Insert code to subtract the overlap with the first three vectors.\n",
        "    B[:, 3] = B[:, 3] - B[:, 3] @ B[:, 0] * B[:, 0]\n",
        "    B[:, 3] = B[:, 3] - B[:, 3] @ B[:, 1] * B[:, 1]\n",
        "    B[:, 3] = B[:, 3] - B[:, 3] @ B[:, 2] * B[:, 2]\n",
        "    # Now normalise if possible\n",
        "    \n",
        "    if la.norm(B[:, 3]) > verySmallNumber :\n",
        "        B[:, 3] = B[:, 3] / la.norm(B[:, 3])\n",
        "    else :\n",
        "        B[:, 3] = np.zeros_like(B[:, 3])\n",
        "    \n",
        "    \n",
        "    # Finally, we return the result:\n",
        "    return B\n",
        "\n",
        "# The second part of this exercise will generalise the procedure.\n",
        "# Previously, we could only have four vectors, and there was a lot of repeating in the code.\n",
        "# We'll use a for-loop here to iterate the process for each vector.\n",
        "def gsBasis(A) :\n",
        "    B = np.array(A, dtype=np.float_) # Make B as a copy of A, since we're going to alter it's values.\n",
        "    # Loop over all vectors, starting with zero, label them with i\n",
        "    for i in range(B.shape[1]) :\n",
        "        # Inside that loop, loop over all previous vectors, j, to subtract.\n",
        "        for j in range(i) :\n",
        "            # Complete the code to subtract the overlap with previous vectors.\n",
        "            # you'll need the current vector B[:, i] and a previous vector B[:, j]\n",
        "            B[:, i] = B[:, i] - B[:, i] @ B[:, j] * B[:, j]\n",
        "        # Next insert code to do the normalisation test for B[:, i]\n",
        "        if la.norm(B[:, i]) > verySmallNumber :\n",
        "            B[:, i] = B[:, i] / la.norm(B[:, i])\n",
        "        else :\n",
        "            B[:, i] = np.zeros_like(B[:, i])\n",
        "        \n",
        "            \n",
        "    # Finally, we return the result:\n",
        "    return B\n",
        "\n",
        "# This function uses the Gram-schmidt process to calculate the dimension\n",
        "# spanned by a list of vectors.\n",
        "# Since each vector is normalised to one, or is zero,\n",
        "# the sum of all the norms will be the dimension.\n",
        "def dimensions(A) :\n",
        "    return np.sum(la.norm(gsBasis(A), axis=0))"
      ]
    },
    {
      "cell_type": "markdown",
      "metadata": {
        "id": "Vvc6koKpgJn9"
      },
      "source": [
        "## Test your code before submission\n",
        "To test the code you've written above, run the cell (select the cell above, then press the play button [ ▶| ] or press shift-enter).\n",
        "You can then use the code below to test out your function.\n",
        "You don't need to submit this cell; you can edit and run it as much as you like.\n",
        "\n",
        "Try out your code on tricky test cases!"
      ]
    },
    {
      "cell_type": "code",
      "execution_count": null,
      "metadata": {
        "colab": {
          "base_uri": "https://localhost:8080/"
        },
        "id": "PalknX6ZgJn_",
        "outputId": "e6d644db-be2e-4f70-cffe-5ebb2f9d9e8c"
      },
      "outputs": [
        {
          "output_type": "execute_result",
          "data": {
            "text/plain": [
              "array([[ 0.40824829, -0.1814885 ,  0.04982278,  0.89325973],\n",
              "       [ 0.        ,  0.1088931 ,  0.99349591, -0.03328918],\n",
              "       [ 0.81649658,  0.50816781, -0.06462163, -0.26631346],\n",
              "       [ 0.40824829, -0.83484711,  0.07942048, -0.36063281]])"
            ]
          },
          "metadata": {},
          "execution_count": 21
        }
      ],
      "source": [
        "V = np.array([[1,0,2,6],\n",
        "              [0,1,8,2],\n",
        "              [2,8,3,1],\n",
        "              [1,-6,2,3]], dtype=np.float_)\n",
        "gsBasis4(V)"
      ]
    },
    {
      "cell_type": "code",
      "execution_count": null,
      "metadata": {
        "colab": {
          "base_uri": "https://localhost:8080/"
        },
        "id": "S-YbN9wzgJoA",
        "outputId": "0f96cd82-89c7-451b-d205-1c71719adccd"
      },
      "outputs": [
        {
          "output_type": "execute_result",
          "data": {
            "text/plain": [
              "array([[ 0.40824829, -0.1814885 ,  0.04982278,  0.89325973],\n",
              "       [ 0.        ,  0.1088931 ,  0.99349591, -0.03328918],\n",
              "       [ 0.81649658,  0.50816781, -0.06462163, -0.26631346],\n",
              "       [ 0.40824829, -0.83484711,  0.07942048, -0.36063281]])"
            ]
          },
          "metadata": {},
          "execution_count": 22
        }
      ],
      "source": [
        "# Once you've done Gram-Schmidt once,\n",
        "# doing it again should give you the same result. Test this:\n",
        "U = gsBasis4(V)\n",
        "gsBasis4(U)"
      ]
    },
    {
      "cell_type": "code",
      "execution_count": null,
      "metadata": {
        "colab": {
          "base_uri": "https://localhost:8080/"
        },
        "id": "V6Hns_a3gJoC",
        "outputId": "f42ace8c-8b80-4a6f-e0d6-85e160984d5d"
      },
      "outputs": [
        {
          "output_type": "execute_result",
          "data": {
            "text/plain": [
              "array([[ 0.40824829, -0.1814885 ,  0.04982278,  0.89325973],\n",
              "       [ 0.        ,  0.1088931 ,  0.99349591, -0.03328918],\n",
              "       [ 0.81649658,  0.50816781, -0.06462163, -0.26631346],\n",
              "       [ 0.40824829, -0.83484711,  0.07942048, -0.36063281]])"
            ]
          },
          "metadata": {},
          "execution_count": 23
        }
      ],
      "source": [
        "# Try the general function too.\n",
        "gsBasis(V)"
      ]
    },
    {
      "cell_type": "code",
      "execution_count": null,
      "metadata": {
        "colab": {
          "base_uri": "https://localhost:8080/"
        },
        "id": "aFFLkxdZgJoJ",
        "outputId": "1001c7f6-f3cd-41c3-d985-642f6921b8cf"
      },
      "outputs": [
        {
          "output_type": "execute_result",
          "data": {
            "text/plain": [
              "array([[ 0.23643312,  0.18771349,  0.22132104],\n",
              "       [ 0.15762208,  0.74769023, -0.64395812],\n",
              "       [ 0.15762208,  0.57790444,  0.72904263],\n",
              "       [ 0.94573249, -0.26786082, -0.06951101]])"
            ]
          },
          "metadata": {},
          "execution_count": 24
        }
      ],
      "source": [
        "# See what happens for non-square matrices\n",
        "A = np.array([[3,2,3],\n",
        "              [2,5,-1],\n",
        "              [2,4,8],\n",
        "              [12,2,1]], dtype=np.float_)\n",
        "gsBasis(A)"
      ]
    },
    {
      "cell_type": "code",
      "execution_count": null,
      "metadata": {
        "colab": {
          "base_uri": "https://localhost:8080/"
        },
        "id": "qt491XjJgJoK",
        "outputId": "fcc2e735-cce6-4ab0-9225-e23d48baee05"
      },
      "outputs": [
        {
          "output_type": "execute_result",
          "data": {
            "text/plain": [
              "3.0"
            ]
          },
          "metadata": {},
          "execution_count": 25
        }
      ],
      "source": [
        "dimensions(A)"
      ]
    },
    {
      "cell_type": "code",
      "execution_count": null,
      "metadata": {
        "colab": {
          "base_uri": "https://localhost:8080/"
        },
        "id": "d0ugYTyEgJoL",
        "outputId": "b48fd895-f469-4449-db5e-316badc4ee45"
      },
      "outputs": [
        {
          "output_type": "execute_result",
          "data": {
            "text/plain": [
              "array([[ 0.93704257, -0.12700832, -0.32530002,  0.        ,  0.        ],\n",
              "       [ 0.31234752,  0.72140727,  0.61807005,  0.        ,  0.        ],\n",
              "       [ 0.15617376, -0.6807646 ,  0.71566005,  0.        ,  0.        ]])"
            ]
          },
          "metadata": {},
          "execution_count": 26
        }
      ],
      "source": [
        "B = np.array([[6,2,1,7,5],\n",
        "              [2,8,5,-4,1],\n",
        "              [1,-6,3,2,8]], dtype=np.float_)\n",
        "gsBasis(B)"
      ]
    },
    {
      "cell_type": "code",
      "execution_count": null,
      "metadata": {
        "colab": {
          "base_uri": "https://localhost:8080/"
        },
        "id": "baTSWDlAgJoN",
        "outputId": "c277699d-b1fb-4c98-e9bd-bd131cea7cce"
      },
      "outputs": [
        {
          "output_type": "execute_result",
          "data": {
            "text/plain": [
              "3.0"
            ]
          },
          "metadata": {},
          "execution_count": 27
        }
      ],
      "source": [
        "dimensions(B)"
      ]
    },
    {
      "cell_type": "code",
      "execution_count": null,
      "metadata": {
        "colab": {
          "base_uri": "https://localhost:8080/"
        },
        "id": "IcniKMSWgJoN",
        "outputId": "e407fd8f-c78e-4b1e-e2ec-447c4837fdd7"
      },
      "outputs": [
        {
          "output_type": "execute_result",
          "data": {
            "text/plain": [
              "array([[0.70710678, 0.        , 0.        ],\n",
              "       [0.        , 1.        , 0.        ],\n",
              "       [0.70710678, 0.        , 0.        ]])"
            ]
          },
          "metadata": {},
          "execution_count": 28
        }
      ],
      "source": [
        "# Now let's see what happens when we have one vector that is a linear combination of the others.\n",
        "C = np.array([[1,0,2],\n",
        "              [0,1,-3],\n",
        "              [1,0,2]], dtype=np.float_)\n",
        "gsBasis(C)"
      ]
    },
    {
      "cell_type": "code",
      "execution_count": null,
      "metadata": {
        "colab": {
          "base_uri": "https://localhost:8080/"
        },
        "id": "40BvKIXQgJoO",
        "outputId": "23ca75b3-24be-4abc-c627-b3df96f9d0bd"
      },
      "outputs": [
        {
          "output_type": "execute_result",
          "data": {
            "text/plain": [
              "2.0"
            ]
          },
          "metadata": {},
          "execution_count": 29
        }
      ],
      "source": [
        "dimensions(C)"
      ]
    },
    {
      "cell_type": "code",
      "execution_count": null,
      "metadata": {
        "collapsed": true,
        "id": "10srDI0xgJoP"
      },
      "outputs": [],
      "source": [
        ""
      ]
    }
  ],
  "metadata": {
    "coursera": {
      "course_slug": "linear-algebra-machine-learning",
      "graded_item_id": "FNk8v",
      "launcher_item_id": "DdvVk"
    },
    "kernelspec": {
      "display_name": "Python 3",
      "language": "python",
      "name": "python3"
    },
    "language_info": {
      "codemirror_mode": {
        "name": "ipython",
        "version": 3
      },
      "file_extension": ".py",
      "mimetype": "text/x-python",
      "name": "python",
      "nbconvert_exporter": "python",
      "pygments_lexer": "ipython3",
      "version": "3.6.2"
    },
    "colab": {
      "name": "Linear_Algebra_2 (1).ipynb",
      "provenance": [],
      "collapsed_sections": [
        "y1Jh4xRZ4TSy"
      ],
      "include_colab_link": true
    }
  },
  "nbformat": 4,
  "nbformat_minor": 0
}
