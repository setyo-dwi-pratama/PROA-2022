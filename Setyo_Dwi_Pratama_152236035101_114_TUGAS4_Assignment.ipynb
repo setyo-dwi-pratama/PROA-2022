{
  "cells": [
    {
      "cell_type": "markdown",
      "metadata": {
        "id": "8MiMTc5_NNPj"
      },
      "source": [
        "#Challenge"
      ]
    },
    {
      "cell_type": "code",
      "execution_count": null,
      "metadata": {
        "id": "QP1q2srGNNPo"
      },
      "outputs": [],
      "source": [
        "# If additional packages are needed but are not installed by default, uncomment the last two lines of this cell\n",
        "# and replace <package list> with a list of additional packages.\n",
        "# This will ensure the notebook has all the dependencies and works everywhere\n",
        "\n",
        "#import sys\n",
        "#!{sys.executable} -m pip install <package list>"
      ]
    },
    {
      "cell_type": "code",
      "execution_count": null,
      "metadata": {
        "id": "7pi0AWbCYS2z",
        "colab": {
          "base_uri": "https://localhost:8080/"
        },
        "outputId": "8937a5f1-0131-4bba-cf5e-1982f8e17e4d"
      },
      "outputs": [
        {
          "output_type": "stream",
          "name": "stdout",
          "text": [
            "Looking in indexes: https://pypi.org/simple, https://us-python.pkg.dev/colab-wheels/public/simple/\n",
            "Requirement already satisfied: wget in /usr/local/lib/python3.7/dist-packages (3.2)\n",
            "Looking in indexes: https://pypi.org/simple, https://us-python.pkg.dev/colab-wheels/public/simple/\n",
            "\u001b[31mERROR: Could not find a version that satisfies the requirement shutil (from versions: none)\u001b[0m\n",
            "\u001b[31mERROR: No matching distribution found for shutil\u001b[0m\n"
          ]
        }
      ],
      "source": [
        "import sys\n",
        "!{sys.executable} -m pip install wget\n",
        "!{sys.executable} -m pip install shutil"
      ]
    },
    {
      "cell_type": "code",
      "execution_count": null,
      "metadata": {
        "id": "ZnKy7tPyNNPs"
      },
      "outputs": [],
      "source": [
        "# Libraries\n",
        "import pandas as pd\n",
        "import os\n",
        "from shutil import unpack_archive\n",
        "pd.set_option(\"display.max_columns\", 101)"
      ]
    },
    {
      "cell_type": "markdown",
      "metadata": {
        "id": "3DZrs3tbNNPv"
      },
      "source": [
        "## Dataset"
      ]
    },
    {
      "cell_type": "code",
      "execution_count": null,
      "metadata": {
        "id": "YD6KBDnWYS22",
        "colab": {
          "base_uri": "https://localhost:8080/"
        },
        "outputId": "b736f41a-4c88-4fdb-e3ae-e69b3232d85b"
      },
      "outputs": [
        {
          "output_type": "stream",
          "name": "stdout",
          "text": [
            "--2022-06-21 14:50:31--  https://hr-projects-assets-prod.s3.amazonaws.com/1iaanii247i/8c7bc0c59ee6bcdb3646a1997606a9d0/test.zip\n",
            "Resolving hr-projects-assets-prod.s3.amazonaws.com (hr-projects-assets-prod.s3.amazonaws.com)... 54.231.128.17\n",
            "Connecting to hr-projects-assets-prod.s3.amazonaws.com (hr-projects-assets-prod.s3.amazonaws.com)|54.231.128.17|:443... connected.\n",
            "HTTP request sent, awaiting response... 200 OK\n",
            "Length: 58948996 (56M) [application/zip]\n",
            "Saving to: ‘test.zip’\n",
            "\n",
            "test.zip            100%[===================>]  56.22M   101MB/s    in 0.6s    \n",
            "\n",
            "2022-06-21 14:50:31 (101 MB/s) - ‘test.zip’ saved [58948996/58948996]\n",
            "\n",
            "--2022-06-21 14:50:31--  https://hr-projects-assets-prod.s3.amazonaws.com/1iaanii247i/ffe8804da24b94ee410a8730ba297dfc/train_0.zip\n",
            "Resolving hr-projects-assets-prod.s3.amazonaws.com (hr-projects-assets-prod.s3.amazonaws.com)... 52.216.88.227\n",
            "Connecting to hr-projects-assets-prod.s3.amazonaws.com (hr-projects-assets-prod.s3.amazonaws.com)|52.216.88.227|:443... connected.\n",
            "HTTP request sent, awaiting response... 200 OK\n",
            "Length: 85750296 (82M) [binary/octet-stream]\n",
            "Saving to: ‘train_0.zip’\n",
            "\n",
            "train_0.zip         100%[===================>]  81.78M  98.2MB/s    in 0.8s    \n",
            "\n",
            "2022-06-21 14:50:32 (98.2 MB/s) - ‘train_0.zip’ saved [85750296/85750296]\n",
            "\n",
            "--2022-06-21 14:50:32--  https://hr-projects-assets-prod.s3.amazonaws.com/1iaanii247i/5460fcc87e2d7f7e19c17f719e0df00a/train_1.zip\n",
            "Resolving hr-projects-assets-prod.s3.amazonaws.com (hr-projects-assets-prod.s3.amazonaws.com)... 52.216.88.227\n",
            "Connecting to hr-projects-assets-prod.s3.amazonaws.com (hr-projects-assets-prod.s3.amazonaws.com)|52.216.88.227|:443... connected.\n",
            "HTTP request sent, awaiting response... 200 OK\n",
            "Length: 83582710 (80M) [binary/octet-stream]\n",
            "Saving to: ‘train_1.zip’\n",
            "\n",
            "train_1.zip         100%[===================>]  79.71M  91.0MB/s    in 0.9s    \n",
            "\n",
            "2022-06-21 14:50:33 (91.0 MB/s) - ‘train_1.zip’ saved [83582710/83582710]\n",
            "\n",
            "Extracting Train Dataset : Label 1\n",
            "Extracting Train Dataset : Label 0\n",
            "Extracting Test Dataset\n",
            "Dataset Extracted\n",
            "Extra Files Removed\n"
          ]
        }
      ],
      "source": [
        "# Run this cell block to download and extract image data\n",
        "!wget 'https://hr-projects-assets-prod.s3.amazonaws.com/1iaanii247i/8c7bc0c59ee6bcdb3646a1997606a9d0/test.zip'\n",
        "!wget 'https://hr-projects-assets-prod.s3.amazonaws.com/1iaanii247i/ffe8804da24b94ee410a8730ba297dfc/train_0.zip'\n",
        "!wget 'https://hr-projects-assets-prod.s3.amazonaws.com/1iaanii247i/5460fcc87e2d7f7e19c17f719e0df00a/train_1.zip'\n",
        "\n",
        "print('Extracting Train Dataset : Label 1')\n",
        "unpack_archive('train_1.zip', '')\n",
        "\n",
        "print('Extracting Train Dataset : Label 0')\n",
        "unpack_archive('train_0.zip', '')\n",
        "\n",
        "print('Extracting Test Dataset')\n",
        "unpack_archive('test.zip', '')\n",
        "\n",
        "print('Dataset Extracted')\n",
        "\n",
        "\n",
        "os.remove('train_1.zip')\n",
        "os.remove('train_0.zip')\n",
        "os.remove('test.zip')\n",
        "print('Extra Files Removed')"
      ]
    },
    {
      "cell_type": "markdown",
      "metadata": {
        "id": "7DOJdz_cYS23"
      },
      "source": [
        "## Data Description"
      ]
    },
    {
      "cell_type": "markdown",
      "metadata": {
        "id": "ErDxdcsoNNPx"
      },
      "source": [
        "Column | Description\n",
        ":---|:---\n",
        "`file` | Image name\n",
        "`label` | Target Label (1/0)"
      ]
    },
    {
      "cell_type": "code",
      "source": [
        "print(len(os.listdir('test')))\n",
        "print(len(os.listdir('/content/train/0')))\n",
        "print(len(os.listdir('/content/train/1')))"
      ],
      "metadata": {
        "colab": {
          "base_uri": "https://localhost:8080/"
        },
        "id": "g_PmbPGZkeur",
        "outputId": "d03fee2b-c6b2-4396-91df-b8c45e8900f1"
      },
      "execution_count": null,
      "outputs": [
        {
          "output_type": "stream",
          "name": "stdout",
          "text": [
            "1401\n",
            "2026\n",
            "1989\n"
          ]
        }
      ]
    },
    {
      "cell_type": "code",
      "source": [
        "import numpy as np\n",
        "import pandas as pd\n",
        "import os\n",
        "import warnings\n",
        "warnings.filterwarnings('ignore')\n",
        "from tensorflow.keras.models import  Sequential\n",
        "from tensorflow.keras.layers import Conv2D,Flatten,Dense,MaxPooling2D,Dropout"
      ],
      "metadata": {
        "id": "I5lV9RbGjjVv"
      },
      "execution_count": null,
      "outputs": []
    },
    {
      "cell_type": "code",
      "source": [
        "model=Sequential()\n",
        "model.add(Conv2D(32,(5,5),input_shape=(64,64,3),activation='relu'))\n",
        "model.add(MaxPooling2D(pool_size=(2,2)))\n",
        "\n",
        "model.add(Conv2D(64,(5,5),activation='relu'))\n",
        "model.add(MaxPooling2D(pool_size=(2,2)))\n",
        "\n",
        "model.add(Flatten())\n",
        "model.add(Dense(1024,activation='relu'))\n",
        "model.add(Dropout(0.2))\n",
        "model.add(Dense(200,activation='relu'))\n",
        "model.add(Dropout(0.2))\n",
        "\n",
        "model.add(Dense(10,activation=\"relu\"))"
      ],
      "metadata": {
        "id": "P6Ovawc7joQi"
      },
      "execution_count": null,
      "outputs": []
    },
    {
      "cell_type": "code",
      "source": [
        "model.compile(optimizer='adam',loss='binary_crossentropy',metrics=['accuracy'])"
      ],
      "metadata": {
        "id": "fple5YvEjsBH"
      },
      "execution_count": null,
      "outputs": []
    },
    {
      "cell_type": "code",
      "source": [
        "from tensorflow.keras.preprocessing.image import ImageDataGenerator"
      ],
      "metadata": {
        "id": "m0LZJHG3jtPm"
      },
      "execution_count": null,
      "outputs": []
    },
    {
      "cell_type": "code",
      "source": [
        "train_datagen = ImageDataGenerator(\n",
        "    rescale=1./255,\n",
        "    shear_range=0.2,\n",
        "    zoom_range=0.2,\n",
        "    horizontal_flip=True,validation_split=0.20)\n",
        "\n",
        "test_datagen = ImageDataGenerator(rescale=1./255)"
      ],
      "metadata": {
        "id": "j4bKzC4HjtY5"
      },
      "execution_count": null,
      "outputs": []
    },
    {
      "cell_type": "code",
      "source": [
        "#Test directory\n",
        "%mkdir Test"
      ],
      "metadata": {
        "id": "muS6FS7qm7yh",
        "colab": {
          "base_uri": "https://localhost:8080/"
        },
        "outputId": "9110d541-02a7-40e9-f1b5-5e3e6829c706"
      },
      "execution_count": null,
      "outputs": [
        {
          "output_type": "stream",
          "name": "stdout",
          "text": [
            "mkdir: cannot create directory ‘Test’: File exists\n"
          ]
        }
      ]
    },
    {
      "cell_type": "code",
      "source": [
        "#moving the test images to Test directory\n",
        "!mv /content/test/  /content/Test"
      ],
      "metadata": {
        "id": "8mEGPKaOm-Ik",
        "colab": {
          "base_uri": "https://localhost:8080/"
        },
        "outputId": "a2ab68a6-d70e-4958-c86a-884e69e4b3fe"
      },
      "execution_count": null,
      "outputs": [
        {
          "output_type": "stream",
          "name": "stdout",
          "text": [
            "mv: cannot move '/content/test/' to '/content/Test/test': Directory not empty\n"
          ]
        }
      ]
    },
    {
      "cell_type": "code",
      "source": [
        "train_generator = train_datagen.flow_from_directory(\n",
        "        '/content/train',\n",
        "        target_size=(64, 64),\n",
        "        batch_size=32,\n",
        "        class_mode='binary',\n",
        "        subset='training'\n",
        "        )\n",
        "\n",
        "validation_generator = train_datagen.flow_from_directory(\n",
        "        '/content/train',\n",
        "         target_size=(64, 64),\n",
        "         batch_size=32,\n",
        "        class_mode='binary',\n",
        "         subset='validation'\n",
        "        )\n",
        "\n",
        "\n",
        "test_generator = test_datagen.flow_from_directory(\n",
        "    '/content/Test',\n",
        "        target_size=(64, 64),\n",
        "        batch_size=2,\n",
        "        shuffle=False,\n",
        "        class_mode='binary'\n",
        "        )"
      ],
      "metadata": {
        "colab": {
          "base_uri": "https://localhost:8080/"
        },
        "id": "qpeIWB4aj3U6",
        "outputId": "90cb2b42-7039-4360-b4f0-0bace403f681"
      },
      "execution_count": null,
      "outputs": [
        {
          "output_type": "stream",
          "name": "stdout",
          "text": [
            "Found 3213 images belonging to 2 classes.\n",
            "Found 802 images belonging to 2 classes.\n",
            "Found 1400 images belonging to 1 classes.\n"
          ]
        }
      ]
    },
    {
      "cell_type": "code",
      "source": [
        "type(test_generator)"
      ],
      "metadata": {
        "colab": {
          "base_uri": "https://localhost:8080/"
        },
        "id": "YC0owuuCk8Rc",
        "outputId": "d1e260ac-0fc8-4706-9eb5-4db661f6da8f"
      },
      "execution_count": null,
      "outputs": [
        {
          "output_type": "execute_result",
          "data": {
            "text/plain": [
              "keras.preprocessing.image.DirectoryIterator"
            ]
          },
          "metadata": {},
          "execution_count": 102
        }
      ]
    },
    {
      "cell_type": "code",
      "source": [
        "STEPS_PER_EPOCH = train_generator.n//train_generator.batch_size\n",
        "VALIDATION_STEPS=validation_generator.n//train_generator.batch_size"
      ],
      "metadata": {
        "id": "1Ti_ZUcPk9hz"
      },
      "execution_count": null,
      "outputs": []
    },
    {
      "cell_type": "code",
      "source": [
        "model.fit(\n",
        "        train_generator,\n",
        "        steps_per_epoch=STEPS_PER_EPOCH,\n",
        "        epochs=10,\n",
        "        validation_data=validation_generator,\n",
        "        validation_steps=VALIDATION_STEPS)"
      ],
      "metadata": {
        "colab": {
          "base_uri": "https://localhost:8080/"
        },
        "id": "MrKTNn1Elmvk",
        "outputId": "c6a16066-f92e-40d0-d32b-9e84775a7140"
      },
      "execution_count": null,
      "outputs": [
        {
          "output_type": "stream",
          "name": "stdout",
          "text": [
            "Epoch 1/10\n",
            "100/100 [==============================] - 22s 207ms/step - loss: 7.6177 - accuracy: 0.0050 - val_loss: 7.6812 - val_accuracy: 0.0000e+00\n",
            "Epoch 2/10\n",
            "100/100 [==============================] - 22s 222ms/step - loss: 7.6596 - accuracy: 3.1437e-04 - val_loss: 7.6709 - val_accuracy: 0.0000e+00\n",
            "Epoch 3/10\n",
            "100/100 [==============================] - 21s 212ms/step - loss: 7.6712 - accuracy: 0.0025 - val_loss: 7.6709 - val_accuracy: 0.0000e+00\n",
            "Epoch 4/10\n",
            "100/100 [==============================] - 20s 202ms/step - loss: 7.6622 - accuracy: 0.0063 - val_loss: 7.6737 - val_accuracy: 0.0000e+00\n",
            "Epoch 5/10\n",
            "100/100 [==============================] - 20s 202ms/step - loss: 7.6790 - accuracy: 0.0038 - val_loss: 7.6812 - val_accuracy: 0.0000e+00\n",
            "Epoch 6/10\n",
            "100/100 [==============================] - 21s 213ms/step - loss: 7.6748 - accuracy: 9.4310e-04 - val_loss: 7.6812 - val_accuracy: 0.0000e+00\n",
            "Epoch 7/10\n",
            "100/100 [==============================] - 21s 213ms/step - loss: 7.6855 - accuracy: 0.3213 - val_loss: 7.6888 - val_accuracy: 0.4938\n",
            "Epoch 8/10\n",
            "100/100 [==============================] - 21s 213ms/step - loss: 7.6779 - accuracy: 0.4882 - val_loss: 7.6812 - val_accuracy: 0.4950\n",
            "Epoch 9/10\n",
            "100/100 [==============================] - 20s 202ms/step - loss: 7.6771 - accuracy: 0.4826 - val_loss: 7.6737 - val_accuracy: 0.4963\n",
            "Epoch 10/10\n",
            "100/100 [==============================] - 21s 213ms/step - loss: 7.6766 - accuracy: 0.4788 - val_loss: 7.6888 - val_accuracy: 0.4938\n"
          ]
        },
        {
          "output_type": "execute_result",
          "data": {
            "text/plain": [
              "<keras.callbacks.History at 0x7ffaf04cfc90>"
            ]
          },
          "metadata": {},
          "execution_count": 104
        }
      ]
    },
    {
      "cell_type": "code",
      "source": [
        "from tensorflow.keras.layers import Conv2D, MaxPooling2D, Dense, Dropout, Flatten, Activation, BatchNormalization"
      ],
      "metadata": {
        "id": "dJykkq7ttxj0"
      },
      "execution_count": null,
      "outputs": []
    },
    {
      "cell_type": "code",
      "source": [
        "mod = Sequential()\n",
        "mod.add(Conv2D(32,kernel_size=(5,5),activation='relu',input_shape=(64,64,3)))\n",
        "mod.add(BatchNormalization())\n",
        "mod.add(MaxPooling2D(pool_size=(2,2),padding='same'))\n",
        "mod.add(Dropout(0.3))\n",
        "mod.add(Conv2D(64,kernel_size=(5,5),activation='relu',padding='same'))\n",
        "mod.add(BatchNormalization())\n",
        "mod.add(MaxPooling2D(pool_size=(2,2),padding='same'))\n",
        "mod.add(Dropout(0.3))\n",
        "mod.add(Conv2D(128,kernel_size=(5,5),activation='relu',padding='same'))\n",
        "mod.add(BatchNormalization())\n",
        "mod.add(MaxPooling2D(pool_size=(2,2),padding='same'))\n",
        "mod.add(Dropout(0.5))\n",
        "mod.add(Flatten())\n",
        "mod.add(Dense(units = 512,activation='relu'))\n",
        "mod.add(BatchNormalization())\n",
        "mod.add(Dropout(0.5))\n",
        "mod.add(Dense(units = 128,activation='relu'))\n",
        "mod.add(Dropout(0.25))\n",
        "mod.add(Dense(10,activation='softmax'))"
      ],
      "metadata": {
        "id": "s_vlZZKyn9G4"
      },
      "execution_count": null,
      "outputs": []
    },
    {
      "cell_type": "code",
      "source": [
        "mod.compile(optimizer='adam',loss='binary_crossentropy',metrics=['accuracy'])"
      ],
      "metadata": {
        "id": "M4KUY48lt4bQ"
      },
      "execution_count": null,
      "outputs": []
    },
    {
      "cell_type": "code",
      "source": [
        "STEP_SIZE_TEST=test_generator.n//test_generator.batch_size\n",
        "test_generator.reset()\n",
        "pred=mod.predict_generator(test_generator,\n",
        "steps=STEP_SIZE_TEST,\n",
        "verbose=1)"
      ],
      "metadata": {
        "colab": {
          "base_uri": "https://localhost:8080/"
        },
        "id": "t64mynDexcIQ",
        "outputId": "3532ecd3-11f1-4d5d-98b7-19fb6efa07ff"
      },
      "execution_count": null,
      "outputs": [
        {
          "output_type": "stream",
          "name": "stdout",
          "text": [
            "700/700 [==============================] - 8s 10ms/step\n"
          ]
        }
      ]
    },
    {
      "cell_type": "code",
      "source": [
        "pred"
      ],
      "metadata": {
        "colab": {
          "base_uri": "https://localhost:8080/"
        },
        "id": "K6BOrC2Dxk5u",
        "outputId": "8a63d700-2286-47f9-9142-d0e649257ae2"
      },
      "execution_count": null,
      "outputs": [
        {
          "output_type": "execute_result",
          "data": {
            "text/plain": [
              "array([[0.10065376, 0.11843435, 0.10939975, ..., 0.08541183, 0.10146184,\n",
              "        0.0922607 ],\n",
              "       [0.0984862 , 0.11020761, 0.11028659, ..., 0.08385603, 0.10714349,\n",
              "        0.09424312],\n",
              "       [0.09804894, 0.11859586, 0.10958697, ..., 0.08497509, 0.10363305,\n",
              "        0.09140588],\n",
              "       ...,\n",
              "       [0.09202611, 0.11882417, 0.11052363, ..., 0.08755437, 0.10637037,\n",
              "        0.0936203 ],\n",
              "       [0.09707569, 0.11060058, 0.10815649, ..., 0.08603349, 0.10554751,\n",
              "        0.09510016],\n",
              "       [0.09704078, 0.11729858, 0.10972477, ..., 0.08724363, 0.10252952,\n",
              "        0.0921993 ]], dtype=float32)"
            ]
          },
          "metadata": {},
          "execution_count": 112
        }
      ]
    },
    {
      "cell_type": "code",
      "source": [
        "len(pred)"
      ],
      "metadata": {
        "colab": {
          "base_uri": "https://localhost:8080/"
        },
        "id": "Y4W62l9ZxoFc",
        "outputId": "21df756d-e5e6-4ad4-a2d8-aa26829e06e8"
      },
      "execution_count": null,
      "outputs": [
        {
          "output_type": "execute_result",
          "data": {
            "text/plain": [
              "1400"
            ]
          },
          "metadata": {},
          "execution_count": 113
        }
      ]
    },
    {
      "cell_type": "code",
      "source": [
        "labels_test_predictions = pd.DataFrame(pred)\n",
        "labels_test_predictions"
      ],
      "metadata": {
        "colab": {
          "base_uri": "https://localhost:8080/",
          "height": 423
        },
        "id": "Xs6pOdGDxqEs",
        "outputId": "c4b2f2af-4981-4dd8-8497-04041d3eb964"
      },
      "execution_count": null,
      "outputs": [
        {
          "output_type": "execute_result",
          "data": {
            "text/plain": [
              "             0         1         2         3         4         5         6  \\\n",
              "0     0.100654  0.118434  0.109400  0.086659  0.106615  0.106007  0.093096   \n",
              "1     0.098486  0.110208  0.110287  0.090312  0.111062  0.103080  0.091323   \n",
              "2     0.098049  0.118596  0.109587  0.089096  0.106426  0.104795  0.093437   \n",
              "3     0.097487  0.111763  0.106916  0.090945  0.106625  0.102353  0.095167   \n",
              "4     0.098679  0.111662  0.110108  0.088507  0.108940  0.105280  0.094047   \n",
              "...        ...       ...       ...       ...       ...       ...       ...   \n",
              "1395  0.097888  0.117334  0.109235  0.090159  0.105658  0.103159  0.094522   \n",
              "1396  0.100891  0.115073  0.109286  0.090105  0.105876  0.105182  0.091993   \n",
              "1397  0.092026  0.118824  0.110524  0.090482  0.103040  0.104700  0.092859   \n",
              "1398  0.097076  0.110601  0.108156  0.091402  0.112103  0.099504  0.094478   \n",
              "1399  0.097041  0.117299  0.109725  0.089812  0.105759  0.103884  0.094508   \n",
              "\n",
              "             7         8         9  \n",
              "0     0.085412  0.101462  0.092261  \n",
              "1     0.083856  0.107143  0.094243  \n",
              "2     0.084975  0.103633  0.091406  \n",
              "3     0.090787  0.103961  0.093995  \n",
              "4     0.087624  0.102285  0.092869  \n",
              "...        ...       ...       ...  \n",
              "1395  0.086987  0.102406  0.092652  \n",
              "1396  0.087342  0.101410  0.092842  \n",
              "1397  0.087554  0.106370  0.093620  \n",
              "1398  0.086033  0.105548  0.095100  \n",
              "1399  0.087244  0.102530  0.092199  \n",
              "\n",
              "[1400 rows x 10 columns]"
            ],
            "text/html": [
              "\n",
              "  <div id=\"df-76d1a203-2a46-45e5-b025-83229f09874d\">\n",
              "    <div class=\"colab-df-container\">\n",
              "      <div>\n",
              "<style scoped>\n",
              "    .dataframe tbody tr th:only-of-type {\n",
              "        vertical-align: middle;\n",
              "    }\n",
              "\n",
              "    .dataframe tbody tr th {\n",
              "        vertical-align: top;\n",
              "    }\n",
              "\n",
              "    .dataframe thead th {\n",
              "        text-align: right;\n",
              "    }\n",
              "</style>\n",
              "<table border=\"1\" class=\"dataframe\">\n",
              "  <thead>\n",
              "    <tr style=\"text-align: right;\">\n",
              "      <th></th>\n",
              "      <th>0</th>\n",
              "      <th>1</th>\n",
              "      <th>2</th>\n",
              "      <th>3</th>\n",
              "      <th>4</th>\n",
              "      <th>5</th>\n",
              "      <th>6</th>\n",
              "      <th>7</th>\n",
              "      <th>8</th>\n",
              "      <th>9</th>\n",
              "    </tr>\n",
              "  </thead>\n",
              "  <tbody>\n",
              "    <tr>\n",
              "      <th>0</th>\n",
              "      <td>0.100654</td>\n",
              "      <td>0.118434</td>\n",
              "      <td>0.109400</td>\n",
              "      <td>0.086659</td>\n",
              "      <td>0.106615</td>\n",
              "      <td>0.106007</td>\n",
              "      <td>0.093096</td>\n",
              "      <td>0.085412</td>\n",
              "      <td>0.101462</td>\n",
              "      <td>0.092261</td>\n",
              "    </tr>\n",
              "    <tr>\n",
              "      <th>1</th>\n",
              "      <td>0.098486</td>\n",
              "      <td>0.110208</td>\n",
              "      <td>0.110287</td>\n",
              "      <td>0.090312</td>\n",
              "      <td>0.111062</td>\n",
              "      <td>0.103080</td>\n",
              "      <td>0.091323</td>\n",
              "      <td>0.083856</td>\n",
              "      <td>0.107143</td>\n",
              "      <td>0.094243</td>\n",
              "    </tr>\n",
              "    <tr>\n",
              "      <th>2</th>\n",
              "      <td>0.098049</td>\n",
              "      <td>0.118596</td>\n",
              "      <td>0.109587</td>\n",
              "      <td>0.089096</td>\n",
              "      <td>0.106426</td>\n",
              "      <td>0.104795</td>\n",
              "      <td>0.093437</td>\n",
              "      <td>0.084975</td>\n",
              "      <td>0.103633</td>\n",
              "      <td>0.091406</td>\n",
              "    </tr>\n",
              "    <tr>\n",
              "      <th>3</th>\n",
              "      <td>0.097487</td>\n",
              "      <td>0.111763</td>\n",
              "      <td>0.106916</td>\n",
              "      <td>0.090945</td>\n",
              "      <td>0.106625</td>\n",
              "      <td>0.102353</td>\n",
              "      <td>0.095167</td>\n",
              "      <td>0.090787</td>\n",
              "      <td>0.103961</td>\n",
              "      <td>0.093995</td>\n",
              "    </tr>\n",
              "    <tr>\n",
              "      <th>4</th>\n",
              "      <td>0.098679</td>\n",
              "      <td>0.111662</td>\n",
              "      <td>0.110108</td>\n",
              "      <td>0.088507</td>\n",
              "      <td>0.108940</td>\n",
              "      <td>0.105280</td>\n",
              "      <td>0.094047</td>\n",
              "      <td>0.087624</td>\n",
              "      <td>0.102285</td>\n",
              "      <td>0.092869</td>\n",
              "    </tr>\n",
              "    <tr>\n",
              "      <th>...</th>\n",
              "      <td>...</td>\n",
              "      <td>...</td>\n",
              "      <td>...</td>\n",
              "      <td>...</td>\n",
              "      <td>...</td>\n",
              "      <td>...</td>\n",
              "      <td>...</td>\n",
              "      <td>...</td>\n",
              "      <td>...</td>\n",
              "      <td>...</td>\n",
              "    </tr>\n",
              "    <tr>\n",
              "      <th>1395</th>\n",
              "      <td>0.097888</td>\n",
              "      <td>0.117334</td>\n",
              "      <td>0.109235</td>\n",
              "      <td>0.090159</td>\n",
              "      <td>0.105658</td>\n",
              "      <td>0.103159</td>\n",
              "      <td>0.094522</td>\n",
              "      <td>0.086987</td>\n",
              "      <td>0.102406</td>\n",
              "      <td>0.092652</td>\n",
              "    </tr>\n",
              "    <tr>\n",
              "      <th>1396</th>\n",
              "      <td>0.100891</td>\n",
              "      <td>0.115073</td>\n",
              "      <td>0.109286</td>\n",
              "      <td>0.090105</td>\n",
              "      <td>0.105876</td>\n",
              "      <td>0.105182</td>\n",
              "      <td>0.091993</td>\n",
              "      <td>0.087342</td>\n",
              "      <td>0.101410</td>\n",
              "      <td>0.092842</td>\n",
              "    </tr>\n",
              "    <tr>\n",
              "      <th>1397</th>\n",
              "      <td>0.092026</td>\n",
              "      <td>0.118824</td>\n",
              "      <td>0.110524</td>\n",
              "      <td>0.090482</td>\n",
              "      <td>0.103040</td>\n",
              "      <td>0.104700</td>\n",
              "      <td>0.092859</td>\n",
              "      <td>0.087554</td>\n",
              "      <td>0.106370</td>\n",
              "      <td>0.093620</td>\n",
              "    </tr>\n",
              "    <tr>\n",
              "      <th>1398</th>\n",
              "      <td>0.097076</td>\n",
              "      <td>0.110601</td>\n",
              "      <td>0.108156</td>\n",
              "      <td>0.091402</td>\n",
              "      <td>0.112103</td>\n",
              "      <td>0.099504</td>\n",
              "      <td>0.094478</td>\n",
              "      <td>0.086033</td>\n",
              "      <td>0.105548</td>\n",
              "      <td>0.095100</td>\n",
              "    </tr>\n",
              "    <tr>\n",
              "      <th>1399</th>\n",
              "      <td>0.097041</td>\n",
              "      <td>0.117299</td>\n",
              "      <td>0.109725</td>\n",
              "      <td>0.089812</td>\n",
              "      <td>0.105759</td>\n",
              "      <td>0.103884</td>\n",
              "      <td>0.094508</td>\n",
              "      <td>0.087244</td>\n",
              "      <td>0.102530</td>\n",
              "      <td>0.092199</td>\n",
              "    </tr>\n",
              "  </tbody>\n",
              "</table>\n",
              "<p>1400 rows × 10 columns</p>\n",
              "</div>\n",
              "      <button class=\"colab-df-convert\" onclick=\"convertToInteractive('df-76d1a203-2a46-45e5-b025-83229f09874d')\"\n",
              "              title=\"Convert this dataframe to an interactive table.\"\n",
              "              style=\"display:none;\">\n",
              "        \n",
              "  <svg xmlns=\"http://www.w3.org/2000/svg\" height=\"24px\"viewBox=\"0 0 24 24\"\n",
              "       width=\"24px\">\n",
              "    <path d=\"M0 0h24v24H0V0z\" fill=\"none\"/>\n",
              "    <path d=\"M18.56 5.44l.94 2.06.94-2.06 2.06-.94-2.06-.94-.94-2.06-.94 2.06-2.06.94zm-11 1L8.5 8.5l.94-2.06 2.06-.94-2.06-.94L8.5 2.5l-.94 2.06-2.06.94zm10 10l.94 2.06.94-2.06 2.06-.94-2.06-.94-.94-2.06-.94 2.06-2.06.94z\"/><path d=\"M17.41 7.96l-1.37-1.37c-.4-.4-.92-.59-1.43-.59-.52 0-1.04.2-1.43.59L10.3 9.45l-7.72 7.72c-.78.78-.78 2.05 0 2.83L4 21.41c.39.39.9.59 1.41.59.51 0 1.02-.2 1.41-.59l7.78-7.78 2.81-2.81c.8-.78.8-2.07 0-2.86zM5.41 20L4 18.59l7.72-7.72 1.47 1.35L5.41 20z\"/>\n",
              "  </svg>\n",
              "      </button>\n",
              "      \n",
              "  <style>\n",
              "    .colab-df-container {\n",
              "      display:flex;\n",
              "      flex-wrap:wrap;\n",
              "      gap: 12px;\n",
              "    }\n",
              "\n",
              "    .colab-df-convert {\n",
              "      background-color: #E8F0FE;\n",
              "      border: none;\n",
              "      border-radius: 50%;\n",
              "      cursor: pointer;\n",
              "      display: none;\n",
              "      fill: #1967D2;\n",
              "      height: 32px;\n",
              "      padding: 0 0 0 0;\n",
              "      width: 32px;\n",
              "    }\n",
              "\n",
              "    .colab-df-convert:hover {\n",
              "      background-color: #E2EBFA;\n",
              "      box-shadow: 0px 1px 2px rgba(60, 64, 67, 0.3), 0px 1px 3px 1px rgba(60, 64, 67, 0.15);\n",
              "      fill: #174EA6;\n",
              "    }\n",
              "\n",
              "    [theme=dark] .colab-df-convert {\n",
              "      background-color: #3B4455;\n",
              "      fill: #D2E3FC;\n",
              "    }\n",
              "\n",
              "    [theme=dark] .colab-df-convert:hover {\n",
              "      background-color: #434B5C;\n",
              "      box-shadow: 0px 1px 3px 1px rgba(0, 0, 0, 0.15);\n",
              "      filter: drop-shadow(0px 1px 2px rgba(0, 0, 0, 0.3));\n",
              "      fill: #FFFFFF;\n",
              "    }\n",
              "  </style>\n",
              "\n",
              "      <script>\n",
              "        const buttonEl =\n",
              "          document.querySelector('#df-76d1a203-2a46-45e5-b025-83229f09874d button.colab-df-convert');\n",
              "        buttonEl.style.display =\n",
              "          google.colab.kernel.accessAllowed ? 'block' : 'none';\n",
              "\n",
              "        async function convertToInteractive(key) {\n",
              "          const element = document.querySelector('#df-76d1a203-2a46-45e5-b025-83229f09874d');\n",
              "          const dataTable =\n",
              "            await google.colab.kernel.invokeFunction('convertToInteractive',\n",
              "                                                     [key], {});\n",
              "          if (!dataTable) return;\n",
              "\n",
              "          const docLinkHtml = 'Like what you see? Visit the ' +\n",
              "            '<a target=\"_blank\" href=https://colab.research.google.com/notebooks/data_table.ipynb>data table notebook</a>'\n",
              "            + ' to learn more about interactive tables.';\n",
              "          element.innerHTML = '';\n",
              "          dataTable['output_type'] = 'display_data';\n",
              "          await google.colab.output.renderOutput(dataTable, element);\n",
              "          const docLink = document.createElement('div');\n",
              "          docLink.innerHTML = docLinkHtml;\n",
              "          element.appendChild(docLink);\n",
              "        }\n",
              "      </script>\n",
              "    </div>\n",
              "  </div>\n",
              "  "
            ]
          },
          "metadata": {},
          "execution_count": 114
        }
      ]
    },
    {
      "cell_type": "code",
      "source": [
        "labels_test_predictions.to_csv('Distracted_Driver_MultiAction_Classification.csv',index=False)"
      ],
      "metadata": {
        "id": "G2Pk-cZWx4vK"
      },
      "execution_count": null,
      "outputs": []
    },
    {
      "cell_type": "code",
      "source": [
        "from google.colab import files\n",
        "files.download(\"Distracted_Driver_MultiAction_Classification.csv\")"
      ],
      "metadata": {
        "colab": {
          "base_uri": "https://localhost:8080/",
          "height": 17
        },
        "id": "xy5g5yeox8FM",
        "outputId": "81223aff-5f91-4a87-9d2c-30266c37bc3d"
      },
      "execution_count": null,
      "outputs": [
        {
          "output_type": "display_data",
          "data": {
            "text/plain": [
              "<IPython.core.display.Javascript object>"
            ],
            "application/javascript": [
              "\n",
              "    async function download(id, filename, size) {\n",
              "      if (!google.colab.kernel.accessAllowed) {\n",
              "        return;\n",
              "      }\n",
              "      const div = document.createElement('div');\n",
              "      const label = document.createElement('label');\n",
              "      label.textContent = `Downloading \"${filename}\": `;\n",
              "      div.appendChild(label);\n",
              "      const progress = document.createElement('progress');\n",
              "      progress.max = size;\n",
              "      div.appendChild(progress);\n",
              "      document.body.appendChild(div);\n",
              "\n",
              "      const buffers = [];\n",
              "      let downloaded = 0;\n",
              "\n",
              "      const channel = await google.colab.kernel.comms.open(id);\n",
              "      // Send a message to notify the kernel that we're ready.\n",
              "      channel.send({})\n",
              "\n",
              "      for await (const message of channel.messages) {\n",
              "        // Send a message to notify the kernel that we're ready.\n",
              "        channel.send({})\n",
              "        if (message.buffers) {\n",
              "          for (const buffer of message.buffers) {\n",
              "            buffers.push(buffer);\n",
              "            downloaded += buffer.byteLength;\n",
              "            progress.value = downloaded;\n",
              "          }\n",
              "        }\n",
              "      }\n",
              "      const blob = new Blob(buffers, {type: 'application/binary'});\n",
              "      const a = document.createElement('a');\n",
              "      a.href = window.URL.createObjectURL(blob);\n",
              "      a.download = filename;\n",
              "      div.appendChild(a);\n",
              "      a.click();\n",
              "      div.remove();\n",
              "    }\n",
              "  "
            ]
          },
          "metadata": {}
        },
        {
          "output_type": "display_data",
          "data": {
            "text/plain": [
              "<IPython.core.display.Javascript object>"
            ],
            "application/javascript": [
              "download(\"download_09ce563d-4a09-48d6-ad16-49d805153c85\", \"Distracted_Driver_MultiAction_Classification.csv\", 156394)"
            ]
          },
          "metadata": {}
        }
      ]
    },
    {
      "cell_type": "code",
      "execution_count": null,
      "metadata": {
        "id": "SRLzBBNNNNPz"
      },
      "outputs": [],
      "source": [
        "# The train label dataset is already loaded below\n",
        "data = pd.read_csv(\"/content/train\")\n",
        "len(data)"
      ]
    },
    {
      "cell_type": "code",
      "execution_count": null,
      "metadata": {
        "id": "61JhPEGiNNP4"
      },
      "outputs": [],
      "source": [
        "data.head()"
      ]
    },
    {
      "cell_type": "markdown",
      "metadata": {
        "id": "776AnflSNNQD"
      },
      "source": [
        "## Machine Learning\n",
        "\n",
        "Build a neural network that can classify the driver’s behaviour.\n",
        "- **The model's performance will be evaluated on the basis of accuracy.**"
      ]
    },
    {
      "cell_type": "markdown",
      "metadata": {
        "id": "Cqv9hOnfNNQZ"
      },
      "source": [
        "> #### Task:\n",
        "- **Submit the predictions on the test dataset using your optimized model** <br/>\n",
        "    For each image in the test folder, predict the value of the label (0/1). You should submit a CSV file with a header row and one row per test entry. \n",
        "\n",
        "The file (`submissions.csv`) should have exactly 2 columns:\n",
        "   - **file**\n",
        "   - **label**\n",
        "   "
      ]
    },
    {
      "cell_type": "code",
      "execution_count": null,
      "metadata": {
        "id": "C2FpSVKqNNQa"
      },
      "outputs": [],
      "source": [
        ""
      ]
    },
    {
      "cell_type": "code",
      "execution_count": null,
      "metadata": {
        "id": "Y-ZgcN1CNNQd"
      },
      "outputs": [],
      "source": [
        ""
      ]
    },
    {
      "cell_type": "code",
      "execution_count": null,
      "metadata": {
        "id": "7K2uCUWhNNQj"
      },
      "outputs": [],
      "source": [
        "#Submission\n",
        "submission_df.to_csv('submissions.csv',index=False)"
      ]
    }
  ],
  "metadata": {
    "colab": {
      "name": "Setyo_Dwi_Pratama_152236035101_114_TUGAS4- Assignment.ipynb",
      "provenance": [],
      "collapsed_sections": []
    },
    "kernelspec": {
      "display_name": "Python 3",
      "language": "python",
      "name": "python3"
    },
    "language_info": {
      "codemirror_mode": {
        "name": "ipython",
        "version": 3
      },
      "file_extension": ".py",
      "mimetype": "text/x-python",
      "name": "python",
      "nbconvert_exporter": "python",
      "pygments_lexer": "ipython3",
      "version": "3.7.8"
    },
    "accelerator": "GPU",
    "gpuClass": "standard"
  },
  "nbformat": 4,
  "nbformat_minor": 0
}