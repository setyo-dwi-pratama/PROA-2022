{
  "cells": [
    {
      "cell_type": "markdown",
      "metadata": {
        "id": "view-in-github",
        "colab_type": "text"
      },
      "source": [
        "<a href=\"https://colab.research.google.com/github/setyo-dwi-pratama/PROA-2022/blob/main/numpy_tutorial.ipynb\" target=\"_parent\"><img src=\"https://colab.research.google.com/assets/colab-badge.svg\" alt=\"Open In Colab\"/></a>"
      ]
    },
    {
      "cell_type": "markdown",
      "metadata": {
        "id": "zWnUMFKPREJB"
      },
      "source": [
        "# Introduction to Numpy"
      ]
    },
    {
      "cell_type": "markdown",
      "metadata": {
        "id": "yXDw6UmJREJF"
      },
      "source": [
        "NumPy is the fundamental package for scientific computing\n",
        "in Python. It is a Python library that provides a multidimensional array\n",
        "object. In this course, we will be using NumPy for linear algebra.\n",
        "\n",
        "If you are interested in learning more about NumPy, you can find the user\n",
        "guide and reference at https://docs.scipy.org/doc/numpy/index.html"
      ]
    },
    {
      "cell_type": "markdown",
      "metadata": {
        "id": "t81KK0WEREJG"
      },
      "source": [
        "Let's first import the NumPy package"
      ]
    },
    {
      "cell_type": "code",
      "execution_count": null,
      "metadata": {
        "id": "WPJd_6s5REJH"
      },
      "outputs": [],
      "source": [
        "import numpy as np # we commonly use the np abbreviation when referring to numpy"
      ]
    },
    {
      "cell_type": "markdown",
      "metadata": {
        "id": "2lamm2_9REJI"
      },
      "source": [
        "## Creating Numpy Arrays"
      ]
    },
    {
      "cell_type": "markdown",
      "metadata": {
        "id": "HmFlS_S0REJI"
      },
      "source": [
        "New arrays can be made in several ways. We can take an existing list and convert it to a numpy array:"
      ]
    },
    {
      "cell_type": "code",
      "execution_count": null,
      "metadata": {
        "id": "IXFHeUegREJJ",
        "outputId": "19e843eb-5049-486f-e243-2deb34da2084",
        "colab": {
          "base_uri": "https://localhost:8080/"
        }
      },
      "outputs": [
        {
          "output_type": "execute_result",
          "data": {
            "text/plain": [
              "array([1, 2, 3])"
            ]
          },
          "metadata": {},
          "execution_count": 2
        }
      ],
      "source": [
        "a = np.array([1,2,3])\n",
        "a"
      ]
    },
    {
      "cell_type": "markdown",
      "metadata": {
        "id": "kEcMcbG9REJK"
      },
      "source": [
        "There are also functions for creating arrays with ones and zeros"
      ]
    },
    {
      "cell_type": "code",
      "execution_count": null,
      "metadata": {
        "id": "NO0BOMTPREJK",
        "outputId": "b767907b-656a-413b-bdee-b467f100528e",
        "colab": {
          "base_uri": "https://localhost:8080/"
        }
      },
      "outputs": [
        {
          "output_type": "execute_result",
          "data": {
            "text/plain": [
              "array([[0., 0.],\n",
              "       [0., 0.]])"
            ]
          },
          "metadata": {},
          "execution_count": 3
        }
      ],
      "source": [
        "np.zeros((2,2))"
      ]
    },
    {
      "cell_type": "code",
      "execution_count": null,
      "metadata": {
        "id": "hLe-5OcKREJL",
        "outputId": "0b55e00b-becd-4308-df92-12e7eec6a099",
        "colab": {
          "base_uri": "https://localhost:8080/"
        }
      },
      "outputs": [
        {
          "output_type": "execute_result",
          "data": {
            "text/plain": [
              "array([[1., 1.],\n",
              "       [1., 1.],\n",
              "       [1., 1.]])"
            ]
          },
          "metadata": {},
          "execution_count": 4
        }
      ],
      "source": [
        "np.ones((3,2))"
      ]
    },
    {
      "cell_type": "markdown",
      "metadata": {
        "id": "swkwdbq-REJM"
      },
      "source": [
        "## Accessing Numpy Arrays\n",
        "You can use the common square bracket syntax for accessing elements\n",
        "of a numpy array"
      ]
    },
    {
      "cell_type": "code",
      "execution_count": null,
      "metadata": {
        "id": "rbfQOEfjREJN",
        "outputId": "08d789f0-f6f5-4210-c32e-512ede93a4ff",
        "colab": {
          "base_uri": "https://localhost:8080/"
        }
      },
      "outputs": [
        {
          "output_type": "stream",
          "name": "stdout",
          "text": [
            "[[0 1 2]\n",
            " [3 4 5]\n",
            " [6 7 8]]\n"
          ]
        }
      ],
      "source": [
        "A = np.arange(9).reshape(3,3)\n",
        "print(A)"
      ]
    },
    {
      "cell_type": "code",
      "execution_count": null,
      "metadata": {
        "id": "1hsq2L0vREJN",
        "outputId": "aaa4c52d-62ae-4e14-ad5f-aefa198229dd",
        "colab": {
          "base_uri": "https://localhost:8080/"
        }
      },
      "outputs": [
        {
          "output_type": "stream",
          "name": "stdout",
          "text": [
            "[0 1 2]\n",
            "1\n",
            "[1 4 7]\n"
          ]
        }
      ],
      "source": [
        "print(A[0]) # Access the first row of A\n",
        "print(A[0, 1]) # Access the second item of the first row\n",
        "print(A[:, 1]) # Access the second column"
      ]
    },
    {
      "cell_type": "markdown",
      "metadata": {
        "id": "0N-6_dtdREJO"
      },
      "source": [
        "## Operations on Numpy Arrays\n",
        "You can use the operations '*', '**', '\\', '+' and '-' on numpy arrays and they operate elementwise."
      ]
    },
    {
      "cell_type": "code",
      "execution_count": null,
      "metadata": {
        "id": "DtDC2j7iREJO"
      },
      "outputs": [],
      "source": [
        "a = np.array([[1,2], \n",
        "              [2,3]])\n",
        "b = np.array([[4,5],\n",
        "              [6,7]])"
      ]
    },
    {
      "cell_type": "code",
      "execution_count": null,
      "metadata": {
        "id": "rIvVn7ivREJP",
        "outputId": "513bf22b-dc7f-456e-b6ce-fd9ec1251e66",
        "colab": {
          "base_uri": "https://localhost:8080/"
        }
      },
      "outputs": [
        {
          "output_type": "stream",
          "name": "stdout",
          "text": [
            "[[ 5  7]\n",
            " [ 8 10]]\n"
          ]
        }
      ],
      "source": [
        "print(a + b)"
      ]
    },
    {
      "cell_type": "code",
      "execution_count": null,
      "metadata": {
        "id": "lFjXfferREJP",
        "outputId": "2b54433d-7279-4e7c-f646-bce1e8d54098",
        "colab": {
          "base_uri": "https://localhost:8080/"
        }
      },
      "outputs": [
        {
          "output_type": "stream",
          "name": "stdout",
          "text": [
            "[[-3 -3]\n",
            " [-4 -4]]\n"
          ]
        }
      ],
      "source": [
        "print(a - b)"
      ]
    },
    {
      "cell_type": "code",
      "execution_count": null,
      "metadata": {
        "id": "AEl55tl4REJQ",
        "outputId": "e0559101-388d-493c-f7aa-b0435248dfce",
        "colab": {
          "base_uri": "https://localhost:8080/"
        }
      },
      "outputs": [
        {
          "output_type": "stream",
          "name": "stdout",
          "text": [
            "[[ 4 10]\n",
            " [12 21]]\n"
          ]
        }
      ],
      "source": [
        "print(a * b)"
      ]
    },
    {
      "cell_type": "code",
      "execution_count": null,
      "metadata": {
        "id": "6mJJT18KREJQ",
        "outputId": "b1c8b7c0-70f4-4e8f-ba94-49e248c68ca9",
        "colab": {
          "base_uri": "https://localhost:8080/"
        }
      },
      "outputs": [
        {
          "output_type": "stream",
          "name": "stdout",
          "text": [
            "[[0.25       0.4       ]\n",
            " [0.33333333 0.42857143]]\n"
          ]
        }
      ],
      "source": [
        "print(a / b)"
      ]
    },
    {
      "cell_type": "code",
      "execution_count": null,
      "metadata": {
        "scrolled": true,
        "id": "iwjAyGq0REJR",
        "outputId": "4449a8ab-7eb6-4fb5-eb78-c80738577c4d",
        "colab": {
          "base_uri": "https://localhost:8080/"
        }
      },
      "outputs": [
        {
          "output_type": "stream",
          "name": "stdout",
          "text": [
            "[[1 4]\n",
            " [4 9]]\n"
          ]
        }
      ],
      "source": [
        "print(a**2)"
      ]
    },
    {
      "cell_type": "markdown",
      "metadata": {
        "id": "3tfA-12rREJR"
      },
      "source": [
        "There are also some commonly used function\n",
        "For example, you can sum up all elements of an array"
      ]
    },
    {
      "cell_type": "code",
      "execution_count": null,
      "metadata": {
        "id": "lSpALXAYREJS",
        "outputId": "57641713-4f41-43fc-9c9f-3829a40d63ad",
        "colab": {
          "base_uri": "https://localhost:8080/"
        }
      },
      "outputs": [
        {
          "output_type": "stream",
          "name": "stdout",
          "text": [
            "[[1 2]\n",
            " [2 3]]\n",
            "8\n"
          ]
        }
      ],
      "source": [
        "print(a)\n",
        "print(np.sum(a))"
      ]
    },
    {
      "cell_type": "markdown",
      "metadata": {
        "id": "ZYz7UsCaREJS"
      },
      "source": [
        "Or sum along the first dimension"
      ]
    },
    {
      "cell_type": "code",
      "execution_count": null,
      "metadata": {
        "id": "Wi271_DAREJT",
        "outputId": "ce9b293e-c0e7-4865-80b3-c290ce273b65",
        "colab": {
          "base_uri": "https://localhost:8080/"
        }
      },
      "outputs": [
        {
          "output_type": "execute_result",
          "data": {
            "text/plain": [
              "array([3, 5])"
            ]
          },
          "metadata": {},
          "execution_count": 14
        }
      ],
      "source": [
        "np.sum(a, axis=0)"
      ]
    },
    {
      "cell_type": "markdown",
      "metadata": {
        "id": "cIykjSlpREJT"
      },
      "source": [
        "There are many other functions in numpy, and some of them **will be useful**\n",
        "for your programming assignments. As an exercise, check out the documentation\n",
        "for these routines at https://docs.scipy.org/doc/numpy/reference/routines.html\n",
        "and see if you can find the documentation for `np.sum` and `np.reshape`."
      ]
    },
    {
      "cell_type": "markdown",
      "metadata": {
        "id": "y6gUVBIaREJT"
      },
      "source": [
        "## Linear Algebra\n",
        "\n",
        "In this course, we use the numpy arrays for linear algebra.\n",
        "We usually use 1D arrays to represent vectors and 2D arrays to represent\n",
        "matrices"
      ]
    },
    {
      "cell_type": "code",
      "execution_count": null,
      "metadata": {
        "id": "4yCvcTpyREJT"
      },
      "outputs": [],
      "source": [
        "A = np.array([[2,4], \n",
        "             [6,8]])"
      ]
    },
    {
      "cell_type": "markdown",
      "metadata": {
        "id": "PBA6D7UZREJU"
      },
      "source": [
        "You can take transposes of matrices with `A.T`"
      ]
    },
    {
      "cell_type": "code",
      "execution_count": null,
      "metadata": {
        "id": "-JYO9yaVREJU",
        "outputId": "9bd85ea2-792b-4e1b-ceb2-e26f470d1cff",
        "colab": {
          "base_uri": "https://localhost:8080/"
        }
      },
      "outputs": [
        {
          "output_type": "stream",
          "name": "stdout",
          "text": [
            "A\n",
            " [[2 4]\n",
            " [6 8]]\n",
            "A.T\n",
            " [[2 6]\n",
            " [4 8]]\n"
          ]
        }
      ],
      "source": [
        "print('A\\n', A)\n",
        "print('A.T\\n', A.T)"
      ]
    },
    {
      "cell_type": "markdown",
      "metadata": {
        "id": "roM9_8xWREJU"
      },
      "source": [
        "Note that taking the transpose of a 1D array has **NO** effect."
      ]
    },
    {
      "cell_type": "code",
      "execution_count": null,
      "metadata": {
        "id": "QigK2sQQREJU",
        "outputId": "ce7a0cae-e8af-4f5f-fdd6-5eced0d4b6ac",
        "colab": {
          "base_uri": "https://localhost:8080/"
        }
      },
      "outputs": [
        {
          "output_type": "stream",
          "name": "stdout",
          "text": [
            "[1. 1. 1.]\n",
            "(3,)\n",
            "[1. 1. 1.]\n",
            "(3,)\n"
          ]
        }
      ],
      "source": [
        "a = np.ones(3)\n",
        "print(a)\n",
        "print(a.shape)\n",
        "print(a.T)\n",
        "print(a.T.shape)\n"
      ]
    },
    {
      "cell_type": "markdown",
      "metadata": {
        "id": "M16G7aI1REJU"
      },
      "source": [
        "But it does work if you have a 2D array of shape (3,1)\n"
      ]
    },
    {
      "cell_type": "code",
      "execution_count": null,
      "metadata": {
        "id": "SKuwBKNvREJV",
        "outputId": "80ac0284-e433-4927-b202-2265c4400119",
        "colab": {
          "base_uri": "https://localhost:8080/"
        }
      },
      "outputs": [
        {
          "output_type": "stream",
          "name": "stdout",
          "text": [
            "[[1.]\n",
            " [1.]\n",
            " [1.]]\n",
            "(3, 1)\n",
            "[[1. 1. 1.]]\n",
            "(1, 3)\n"
          ]
        }
      ],
      "source": [
        "a = np.ones((3,1))\n",
        "print(a)\n",
        "print(a.shape)\n",
        "print(a.T)\n",
        "print(a.T.shape)"
      ]
    },
    {
      "cell_type": "markdown",
      "metadata": {
        "id": "Zu_i5wz6REJV"
      },
      "source": [
        "### Dot product"
      ]
    },
    {
      "cell_type": "markdown",
      "metadata": {
        "id": "V1rAxPYaREJV"
      },
      "source": [
        "We can compute the dot product between two vectors with np.dot"
      ]
    },
    {
      "cell_type": "code",
      "execution_count": null,
      "metadata": {
        "id": "XUhI5pcfREJV",
        "outputId": "9eb522b8-af76-4a94-b0ba-d726c832c490",
        "colab": {
          "base_uri": "https://localhost:8080/"
        }
      },
      "outputs": [
        {
          "output_type": "execute_result",
          "data": {
            "text/plain": [
              "32"
            ]
          },
          "metadata": {},
          "execution_count": 19
        }
      ],
      "source": [
        "x = np.array([1,2,3])\n",
        "y = np.array([4,5,6])\n",
        "np.dot(x, y)"
      ]
    },
    {
      "cell_type": "markdown",
      "metadata": {
        "id": "6fkCoJ9_REJW"
      },
      "source": [
        "We can compute the matrix-matrix product, matrix-vector product too. In Python 3, this is conveniently expressed with the @ syntax"
      ]
    },
    {
      "cell_type": "code",
      "execution_count": null,
      "metadata": {
        "id": "h6SBc5vYREJW"
      },
      "outputs": [],
      "source": [
        "A = np.eye(3) # You can create an identity matrix with np.eye\n",
        "B = np.random.randn(3,3)\n",
        "x = np.array([1,2,3])"
      ]
    },
    {
      "cell_type": "code",
      "execution_count": null,
      "metadata": {
        "id": "1TFywAVXREJW",
        "outputId": "36a352df-32e6-410f-b60c-36eaa7cb15c8",
        "colab": {
          "base_uri": "https://localhost:8080/"
        }
      },
      "outputs": [
        {
          "output_type": "execute_result",
          "data": {
            "text/plain": [
              "array([[ 0.87969064, -1.02848953,  0.92774522],\n",
              "       [-1.30509061,  0.40121931,  0.77410935],\n",
              "       [ 0.44843844,  0.94735858,  1.76895184]])"
            ]
          },
          "metadata": {},
          "execution_count": 21
        }
      ],
      "source": [
        "# Matrix-Matrix product\n",
        "A @ B"
      ]
    },
    {
      "cell_type": "code",
      "execution_count": null,
      "metadata": {
        "id": "uYsAO-8WREJW",
        "outputId": "73ef2503-3620-44f8-f081-6dcb8f8ea5d8",
        "colab": {
          "base_uri": "https://localhost:8080/"
        }
      },
      "outputs": [
        {
          "output_type": "execute_result",
          "data": {
            "text/plain": [
              "array([1., 2., 3.])"
            ]
          },
          "metadata": {},
          "execution_count": 22
        }
      ],
      "source": [
        "# Matrix-vector product\n",
        "A @ x"
      ]
    },
    {
      "cell_type": "markdown",
      "metadata": {
        "id": "H5VspD40REJX"
      },
      "source": [
        "Sometimes, we might want to compute certain properties of the matrices. For example, we might be interested in a matrix's determinant, eigenvalues/eigenvectors. Numpy ships with the `numpy.linalg` package to do\n",
        "these things on 2D arrays (matrices)."
      ]
    },
    {
      "cell_type": "code",
      "execution_count": null,
      "metadata": {
        "id": "vcPxbHB-REJX"
      },
      "outputs": [],
      "source": [
        "from numpy import linalg"
      ]
    },
    {
      "cell_type": "code",
      "execution_count": null,
      "metadata": {
        "id": "qf3w0NrwREJX",
        "outputId": "1839eaf5-71ec-4751-d4a8-3476d0a9adef",
        "colab": {
          "base_uri": "https://localhost:8080/"
        }
      },
      "outputs": [
        {
          "output_type": "execute_result",
          "data": {
            "text/plain": [
              "1.0"
            ]
          },
          "metadata": {},
          "execution_count": 24
        }
      ],
      "source": [
        "# This computes the determinant\n",
        "linalg.det(A)"
      ]
    },
    {
      "cell_type": "code",
      "execution_count": null,
      "metadata": {
        "id": "0hfSAJIkREJX",
        "outputId": "b63bc5c9-1ab9-4592-ecaf-77c1f1d5c7ad",
        "colab": {
          "base_uri": "https://localhost:8080/"
        }
      },
      "outputs": [
        {
          "output_type": "stream",
          "name": "stdout",
          "text": [
            "The eigenvalues are\n",
            " [1. 1. 1.]\n",
            "The eigenvectors are\n",
            " [[1. 0. 0.]\n",
            " [0. 1. 0.]\n",
            " [0. 0. 1.]]\n"
          ]
        }
      ],
      "source": [
        "# This computes the eigenvalues and eigenvectors\n",
        "eigenvalues, eigenvectors = linalg.eig(A)\n",
        "print(\"The eigenvalues are\\n\", eigenvalues)\n",
        "print(\"The eigenvectors are\\n\", eigenvectors)"
      ]
    },
    {
      "cell_type": "markdown",
      "metadata": {
        "id": "b8ku2cGXREJY"
      },
      "source": [
        "## Miscellaneous"
      ]
    },
    {
      "cell_type": "markdown",
      "metadata": {
        "id": "DlMBFa8pREJY"
      },
      "source": [
        "### Time your code\n",
        "One tip that is really useful is to use the magic commannd `%time` to time the execution time of your function."
      ]
    },
    {
      "cell_type": "code",
      "execution_count": null,
      "metadata": {
        "id": "sV9HCBYJREJY",
        "outputId": "d982c08e-e67d-43b6-ed56-b5edfaf642e0",
        "colab": {
          "base_uri": "https://localhost:8080/"
        }
      },
      "outputs": [
        {
          "output_type": "stream",
          "name": "stdout",
          "text": [
            "CPU times: user 0 ns, sys: 25 µs, total: 25 µs\n",
            "Wall time: 29.6 µs\n"
          ]
        },
        {
          "output_type": "execute_result",
          "data": {
            "text/plain": [
              "array([[1., 0., 0.],\n",
              "       [0., 1., 0.],\n",
              "       [0., 0., 1.]])"
            ]
          },
          "metadata": {},
          "execution_count": 26
        }
      ],
      "source": [
        "%time np.abs(A)"
      ]
    },
    {
      "cell_type": "code",
      "execution_count": null,
      "metadata": {
        "id": "RLIXxy5SREJY"
      },
      "outputs": [],
      "source": [
        ""
      ]
    }
  ],
  "metadata": {
    "kernelspec": {
      "display_name": "Python 3",
      "language": "python",
      "name": "python3"
    },
    "language_info": {
      "codemirror_mode": {
        "name": "ipython",
        "version": 3
      },
      "file_extension": ".py",
      "mimetype": "text/x-python",
      "name": "python",
      "nbconvert_exporter": "python",
      "pygments_lexer": "ipython3",
      "version": "3.6.8"
    },
    "colab": {
      "name": "numpy_tutorial.ipynb",
      "provenance": [],
      "include_colab_link": true
    }
  },
  "nbformat": 4,
  "nbformat_minor": 0
}