{
  "nbformat": 4,
  "nbformat_minor": 0,
  "metadata": {
    "colab": {
      "name": "Linear_Algebra_1.ipynb",
      "provenance": [],
      "collapsed_sections": []
    },
    "kernelspec": {
      "name": "python3",
      "display_name": "Python 3"
    },
    "language_info": {
      "name": "python"
    }
  },
  "cells": [
    {
      "cell_type": "markdown",
      "source": [
        "#Linear Algebra"
      ],
      "metadata": {
        "id": "L3s7ofpcPoRW"
      }
    },
    {
      "cell_type": "markdown",
      "source": [
        "NumPy adalah package array tujuan umum. Ini menyediakan objek array multidimensi berkinerja tinggi, dan alat untuk bekerja dengan array ini. Ini adalah standard package untuk komputasi ilmiah dengan Python. Numpy pada dasarnya digunakan untuk membuat array n dimensi."
      ],
      "metadata": {
        "id": "MILZOwg0atr8"
      }
    },
    {
      "cell_type": "code",
      "source": [
        "import numpy as np"
      ],
      "metadata": {
        "id": "hgGsUPvEUYXH"
      },
      "execution_count": 1,
      "outputs": []
    },
    {
      "cell_type": "code",
      "execution_count": 2,
      "metadata": {
        "id": "m6mMUtWYPf36"
      },
      "outputs": [],
      "source": [
        "A = [[1, 3, 5], [7, 12, 21], [5, 18, 3]]\n",
        "B = [13, 123, 51]"
      ]
    },
    {
      "cell_type": "code",
      "source": [
        "np.linalg.solve(A,B)"
      ],
      "metadata": {
        "colab": {
          "base_uri": "https://localhost:8080/"
        },
        "id": "hkwetPctUaB8",
        "outputId": "a5d67f6e-200c-455c-fb1c-371d3928b3df"
      },
      "execution_count": 4,
      "outputs": [
        {
          "output_type": "execute_result",
          "data": {
            "text/plain": [
              "array([23.625, -3.75 ,  0.125])"
            ]
          },
          "metadata": {},
          "execution_count": 4
        }
      ]
    },
    {
      "cell_type": "markdown",
      "source": [
        "###Vector\n",
        "Vektor dibangun dari komponen, yang merupakan bilangan biasa. Kita dapat menganggap vektor sebagai daftar bilangan, dan aljabar vektor sebagai operasi yang dilakukan pada bilangan dalam daftar. Dengan kata lain vektor adalah array 1-D numpy."
      ],
      "metadata": {
        "id": "iXjcCknxW7ix"
      }
    },
    {
      "cell_type": "code",
      "source": [
        "#Horizontal Vector\n",
        "import numpy as np  \n",
        "# creating list  \n",
        "list1 = [10, 20, 30, 40, 50]  \n",
        "# Creating 1-D Horizontal Array  \n",
        "vtr = np.array(list1) \n",
        " \n",
        "print(\"We create a vector from a list:\")  \n",
        "print(vtr)  "
      ],
      "metadata": {
        "colab": {
          "base_uri": "https://localhost:8080/"
        },
        "id": "knyixnfMW7E1",
        "outputId": "10c3452a-3d64-4132-a514-6e9bc1104e24"
      },
      "execution_count": 5,
      "outputs": [
        {
          "output_type": "stream",
          "name": "stdout",
          "text": [
            "We create a vector from a list:\n",
            "[10 20 30 40 50]\n"
          ]
        }
      ]
    },
    {
      "cell_type": "code",
      "source": [
        "# Vertical list  \n",
        "list1 = [[12],  \n",
        "       [40],  \n",
        "       [6],  \n",
        "       [10]]  \n",
        "  \n",
        "# Creating 1-D Vertical Array  \n",
        "vtr = np.array(list1)  \n",
        "  \n",
        "  \n",
        "  \n",
        "print(\"We create a vector from a list:\")  \n",
        "print(vtr)"
      ],
      "metadata": {
        "colab": {
          "base_uri": "https://localhost:8080/"
        },
        "id": "2gywsumMXIKS",
        "outputId": "a48e10bc-5427-417a-d2d9-842c2c8b4fc2"
      },
      "execution_count": 9,
      "outputs": [
        {
          "output_type": "stream",
          "name": "stdout",
          "text": [
            "We create a vector from a list:\n",
            "[[12]\n",
            " [40]\n",
            " [ 6]\n",
            " [10]]\n"
          ]
        }
      ]
    },
    {
      "cell_type": "markdown",
      "source": [
        "Below is the list of basic operations that we can perform in vector.\n",
        "\n",
        "    Arithmetic\n",
        "    Subtraction\n",
        "    Multiplication\n",
        "    Division\n",
        "    Dot Product\n",
        "    Scalar Multiplications\n"
      ],
      "metadata": {
        "id": "-Rmy6hGhXWIR"
      }
    },
    {
      "cell_type": "code",
      "source": [
        "#Addition of 2 vector\n",
        "list1 = [10,20,30,40,50]   \n",
        "list2 = [11,12,13,14,15]    \n",
        "   \n",
        "vtr1 = np.array(list1)   \n",
        "vtr2= np.array(list2)   \n",
        "  \n",
        "print(\"We create vector from a list 1:\")   \n",
        "print(vtr1)   \n",
        "print(\"We create vector from a list 2:\")   \n",
        "print(vtr2)   \n",
        "   \n",
        "vctr_add = vtr1 + vtr2  \n",
        "print(\"Addition of two vectors: \",vctr_add)  \n",
        "\n"
      ],
      "metadata": {
        "colab": {
          "base_uri": "https://localhost:8080/"
        },
        "id": "TiIHR1VxXYZ-",
        "outputId": "fdc0c188-a6fa-47b4-8a9c-e559eb226b95"
      },
      "execution_count": 12,
      "outputs": [
        {
          "output_type": "stream",
          "name": "stdout",
          "text": [
            "We create vector from a list 1:\n",
            "[10 20 30 40 50]\n",
            "We create vector from a list 2:\n",
            "[11 12 13 14 15]\n",
            "Addition of two vectors:  [21 32 43 54 65]\n"
          ]
        }
      ]
    },
    {
      "cell_type": "code",
      "source": [
        "#Substraction \n",
        "list1 = [10,20,30,40,50]   \n",
        "list2 = [5,2,4,3,1]  \n",
        "   \n",
        "vtr1 = np.array(list1)   \n",
        "vtr2= np.array(list2)   \n",
        "   \n",
        "print(\"We create vector from a list 1:\")   \n",
        "print(vtr1)   \n",
        "print(\"We create a vector from a list 2:\")   \n",
        "print(vtr2)   \n",
        "  \n",
        "vtr_sub = vtr1-vtr2  \n",
        "print(\"Subtraction of two vectors: \",vtr_sub)  "
      ],
      "metadata": {
        "colab": {
          "base_uri": "https://localhost:8080/"
        },
        "id": "pn_or4X4Xunx",
        "outputId": "1e857210-4508-4f88-9382-c836c827c9a6"
      },
      "execution_count": 13,
      "outputs": [
        {
          "output_type": "stream",
          "name": "stdout",
          "text": [
            "We create vector from a list 1:\n",
            "[10 20 30 40 50]\n",
            "We create a vector from a list 2:\n",
            "[5 2 4 3 1]\n",
            "Subtraction of two vectors:  [ 5 18 26 37 49]\n"
          ]
        }
      ]
    },
    {
      "cell_type": "code",
      "source": [
        "#multiplication\n",
        "list1 = [10,20,30,40,50]   \n",
        "list2 = [5,2,4,3,1]  \n",
        "   \n",
        "vtr1 = np.array(list1)   \n",
        "   \n",
        "vtr2= np.array(list2)   \n",
        "   \n",
        "print(\"We create vector from a list 1:\")   \n",
        "print(vtr1)   \n",
        "print(\"We create a vector from a list 2:\")   \n",
        "print(vtr2)   \n",
        "  \n",
        "vtr_mul = vtr1*vtr2  \n",
        "print(\"Multiplication of two vectors: \",vtr_mul)  \n",
        "#Multiplication didapat dari : \n",
        "#vct[0] = x[0] * y[0]\n",
        "#vct[1] = x[1] * y[1]"
      ],
      "metadata": {
        "colab": {
          "base_uri": "https://localhost:8080/"
        },
        "id": "I265-LnkX3E8",
        "outputId": "f1cd3f72-2404-4bcc-a1cc-84c700623f7d"
      },
      "execution_count": 14,
      "outputs": [
        {
          "output_type": "stream",
          "name": "stdout",
          "text": [
            "We create vector from a list 1:\n",
            "[10 20 30 40 50]\n",
            "We create a vector from a list 2:\n",
            "[5 2 4 3 1]\n",
            "Multiplication of two vectors:  [ 50  40 120 120  50]\n"
          ]
        }
      ]
    },
    {
      "cell_type": "code",
      "source": [
        "#Division of 2 vector\n",
        "list1 = [10,20,30,40,50]   \n",
        "list2 = [5,2,4,3,1]  \n",
        "   \n",
        "vtr1 = np.array(list1)   \n",
        "   \n",
        "vtr2= np.array(list2)   \n",
        "   \n",
        "print(\"We create vector from a list 1:\")   \n",
        "print(vtr1)   \n",
        "print(\"We create a vector from a list 2:\")   \n",
        "print(vtr2)   \n",
        "  \n",
        "vtr_div = vtr1/vtr2  \n",
        "print(\"Division of two vectors: \",vtr_div)  "
      ],
      "metadata": {
        "colab": {
          "base_uri": "https://localhost:8080/"
        },
        "id": "8eEcJuhqX--u",
        "outputId": "8e9ff314-b1a6-4672-b9d2-c06d41e2b947"
      },
      "execution_count": 15,
      "outputs": [
        {
          "output_type": "stream",
          "name": "stdout",
          "text": [
            "We create vector from a list 1:\n",
            "[10 20 30 40 50]\n",
            "We create a vector from a list 2:\n",
            "[5 2 4 3 1]\n",
            "Division of two vectors:  [ 2.         10.          7.5        13.33333333 50.        ]\n"
          ]
        }
      ]
    },
    {
      "cell_type": "code",
      "source": [
        "# Vector Dot Product\n",
        "#The vector dot product performs between the two same-length sequential vectors and returns the single dot product. \n",
        "#We will use the .dot() method to perform the dot product \n",
        "#vector c = x . y = (x1 * y1 + x2 * y2) \n",
        "\n",
        "list1 = [10,20,30,40,50]   \n",
        "list2 = [5,2,4,3,1]  \n",
        "   \n",
        "vtr1 = np.array(list1)   \n",
        "   \n",
        "vtr2= np.array(list2)   \n",
        "   \n",
        "print(\"We create vector from a list 1:\")   \n",
        "print(vtr1)   \n",
        "print(\"We create a vector from a list 2:\")   \n",
        "print(vtr2)   \n",
        "  \n",
        "vtr_product = vtr1.dot(vtr2)  \n",
        "print(\"Dot product of two vectors: \",vtr_product)  "
      ],
      "metadata": {
        "colab": {
          "base_uri": "https://localhost:8080/"
        },
        "id": "Y6FvoP3BYced",
        "outputId": "e8834c8c-70af-4d73-ec54-cd8253c3177e"
      },
      "execution_count": 16,
      "outputs": [
        {
          "output_type": "stream",
          "name": "stdout",
          "text": [
            "We create vector from a list 1:\n",
            "[10 20 30 40 50]\n",
            "We create a vector from a list 2:\n",
            "[5 2 4 3 1]\n",
            "Dot product of two vectors:  380\n"
          ]
        }
      ]
    },
    {
      "cell_type": "code",
      "source": [
        "#Vector scalar\n",
        "#we multiply the scalar with the each component of the vector\n",
        "list1 = [10,20,30,40,50]   \n",
        "vtr1 = np.array(list1)   \n",
        "       \n",
        "scalar_value = 5  \n",
        "       \n",
        "print(\"We create vector from a list 1:\")   \n",
        "print(vtr1)   \n",
        "      \n",
        "# printing scalar value   \n",
        "print(\"Scalar Value  : \" + str(scalar_value))   \n",
        "       \n",
        "vtr_scalar = vtr1 * scalar_value  \n",
        "print(\"Multiplication of two vectors: \",vtr_scalar)  "
      ],
      "metadata": {
        "colab": {
          "base_uri": "https://localhost:8080/"
        },
        "id": "uIjft-0GYrqg",
        "outputId": "96aa1b55-aa0e-4d3b-ad89-cf9d5a76e9e1"
      },
      "execution_count": 17,
      "outputs": [
        {
          "output_type": "stream",
          "name": "stdout",
          "text": [
            "We create vector from a list 1:\n",
            "[10 20 30 40 50]\n",
            "Scalar Value  : 5\n",
            "Multiplication of two vectors:  [ 50 100 150 200 250]\n"
          ]
        }
      ]
    },
    {
      "cell_type": "markdown",
      "source": [
        "###Projection Vector"
      ],
      "metadata": {
        "id": "-Rv0Hg6HbNrn"
      }
    },
    {
      "cell_type": "code",
      "source": [
        "# import numpy to perform operations on vector\n",
        "import numpy as np\n",
        "\n",
        "u = np.array([1, 2, 3]) # vector u\n",
        "v = np.array([5, 6, 2]) # vector v:\n",
        "\n",
        "# Task: Project vector u on vector v\n",
        "\n",
        "# finding norm of the vector v\n",
        "v_norm = np.sqrt(sum(v**2))\t\n",
        "\n",
        "# Apply the formula as mentioned above\n",
        "# for projecting a vector onto another vector\n",
        "# find dot product using np.dot()\n",
        "proj_of_u_on_v = (np.dot(u, v)/v_norm**2)*v\n",
        "\n",
        "print(\"Projection of Vector u on Vector v is: \", proj_of_u_on_v)\n",
        "\n",
        "u_norm = np.sqrt(sum(u**2))\n",
        "proj = (np.dot(u,v)/u_norm**2)*u\n",
        "print(proj)"
      ],
      "metadata": {
        "colab": {
          "base_uri": "https://localhost:8080/"
        },
        "id": "nIF_CRPnZGvS",
        "outputId": "922f99c0-1c49-42b0-b8cc-07f3f897b330"
      },
      "execution_count": 19,
      "outputs": [
        {
          "output_type": "stream",
          "name": "stdout",
          "text": [
            "Projection of Vector u on Vector v is:  [1.76923077 2.12307692 0.70769231]\n",
            "[1.64285714 3.28571429 4.92857143]\n"
          ]
        }
      ]
    },
    {
      "cell_type": "markdown",
      "source": [
        "###Basis"
      ],
      "metadata": {
        "id": "0SxSdI3hyLln"
      }
    },
    {
      "cell_type": "code",
      "source": [
        "vec_old = [3, 4]\n",
        "#Standard\n",
        "w1 = [-2,4]\n",
        "w2 = [2,1]\n",
        "#Basis baru\n",
        "vec_new = np.linalg.inv(np.array([w2,w1])).dot(vec_old)\n",
        "print(vec_new)"
      ],
      "metadata": {
        "colab": {
          "base_uri": "https://localhost:8080/"
        },
        "id": "wxEiIjv1yJwo",
        "outputId": "cbce2eda-c71f-4ed3-ab73-f0f895376d30"
      },
      "execution_count": 23,
      "outputs": [
        {
          "output_type": "stream",
          "name": "stdout",
          "text": [
            "[0.8 1.4]\n"
          ]
        }
      ]
    },
    {
      "cell_type": "code",
      "source": [
        "vec_old = [1,2,3]\n",
        "#Standard\n",
        "w1 = [1, 0, 0]\n",
        "w2 = [0, 0, 1]\n",
        "w3 = [0, 1, 0]\n",
        "#Basis baru\n",
        "vec_new = np.linalg.inv(np.array([w1, w2, w3])).dot(vec_old)\n",
        "print(vec_new)"
      ],
      "metadata": {
        "colab": {
          "base_uri": "https://localhost:8080/"
        },
        "id": "3O25nMrByQ7L",
        "outputId": "10ebeabc-7dc6-41cf-85b0-177799123503"
      },
      "execution_count": 21,
      "outputs": [
        {
          "output_type": "stream",
          "name": "stdout",
          "text": [
            "[1. 3. 2.]\n"
          ]
        }
      ]
    }
  ]
}