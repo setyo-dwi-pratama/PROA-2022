{
  "cells": [
    {
      "cell_type": "markdown",
      "metadata": {
        "id": "view-in-github",
        "colab_type": "text"
      },
      "source": [
        "<a href=\"https://colab.research.google.com/github/setyo-dwi-pratama/PROA-2022/blob/main/PageRank.ipynb\" target=\"_parent\"><img src=\"https://colab.research.google.com/assets/colab-badge.svg\" alt=\"Open In Colab\"/></a>"
      ]
    },
    {
      "cell_type": "markdown",
      "metadata": {
        "collapsed": true,
        "id": "Hrv6uzrqCf3D"
      },
      "source": [
        "# PageRank\n",
        "In this notebook, you'll build on your knowledge of eigenvectors and eigenvalues by exploring the PageRank algorithm.\n",
        "The notebook is in two parts, the first is a worksheet to get you up to speed with how the algorithm works - here we will look at a micro-internet with fewer than 10 websites and see what it does and what can go wrong.\n",
        "The second is an assessment which will test your application of eigentheory to this problem by writing code and calculating the page rank of a large network representing a sub-section of the internet.\n",
        "\n",
        "https://numpy.org/devdocs/reference/random/generated/numpy.random.standard_cauchy.html\n",
        "\n",
        "https://numpy.org/doc/stable/reference/generated/numpy.full.html"
      ]
    },
    {
      "cell_type": "markdown",
      "metadata": {
        "id": "nMI6y97_Cf3G"
      },
      "source": [
        "## Part 1 - Worksheet\n",
        "### Introduction\n",
        "\n",
        "PageRank (developed by Larry Page and Sergey Brin) revolutionized web search by generating a\n",
        "ranked list of web pages based on the underlying connectivity of the web. The PageRank algorithm is\n",
        "based on an ideal random web surfer who, when reaching a page, goes to the next page by clicking on a\n",
        "link. The surfer has equal probability of clicking any link on the page and, when reaching a page with no\n",
        "links, has equal probability of moving to any other page by typing in its URL. In addition, the surfer may\n",
        "occasionally choose to type in a random URL instead of following the links on a page. The PageRank is\n",
        "the ranked order of the pages from the most to the least probable page the surfer will be viewing.\n"
      ]
    },
    {
      "cell_type": "code",
      "source": [
        "import numpy as np\n",
        "import numpy.linalg as la\n",
        "np.set_printoptions(suppress=True)\n",
        "\n",
        "def generate_internet(n) :\n",
        "    c = np.full([n,n], np.arange(n))\n",
        "    c = (abs(np.random.standard_cauchy([n,n])/2) > (np.abs(c - c.T) + 1)) + 0\n",
        "    c = (c+1e-10) / np.sum((c+1e-10), axis=0)\n",
        "    return c"
      ],
      "metadata": {
        "id": "i79Cc8OFDF61"
      },
      "execution_count": null,
      "outputs": []
    },
    {
      "cell_type": "code",
      "execution_count": null,
      "metadata": {
        "colab": {
          "base_uri": "https://localhost:8080/"
        },
        "id": "VrzTPRW5Cf3I",
        "outputId": "dc5218f1-3572-48e2-e3cf-9341005def8c"
      },
      "outputs": [
        {
          "output_type": "stream",
          "name": "stdout",
          "text": [
            "Populating the interactive namespace from numpy and matplotlib\n"
          ]
        }
      ],
      "source": [
        "# Before we begin, let's load the libraries.\n",
        "%pylab notebook\n",
        "import numpy as np\n",
        "import numpy.linalg as la\n",
        "#from readonly.PageRankFunctions import *\n",
        "np.set_printoptions(suppress=True)"
      ]
    },
    {
      "cell_type": "markdown",
      "metadata": {
        "id": "v4_zz5ThCf3K"
      },
      "source": [
        "### PageRank as a linear algebra problem\n",
        "Let's imagine a micro-internet, with just 6 websites (**A**vocado, **B**ullseye, **C**atBabel, **D**romeda, **e**Tings, and **F**aceSpace).\n",
        "Each website links to some of the others, and this forms a network as shown,\n",
        "\n",
        "![A Micro-Internet](readonly/internet.png \"A Micro-Internet\")\n",
        "\n",
        "The design principle of PageRank is that important websites will be linked to by important websites.\n",
        "This somewhat recursive principle will form the basis of our thinking.\n",
        "\n",
        "Imagine we have 100 *Procrastinating Pat*s on our micro-internet, each viewing a single website at a time.\n",
        "Each minute the Pats follow a link on their website to another site on the micro-internet.\n",
        "After a while, the websites that are most linked to will have more Pats visiting them, and in the long run, each minute for every Pat that leaves a website, another will enter keeping the total numbers of Pats on each website constant.\n",
        "The PageRank is simply the ranking of websites by how many Pats they have on them at the end of this process.\n",
        "\n",
        "We represent the number of Pats on each website with the vector,\n",
        "$$\\mathbf{r} = \\begin{bmatrix} r_A \\\\ r_B \\\\ r_C \\\\ r_D \\\\ r_E \\\\ r_F \\end{bmatrix}$$\n",
        "And say that the number of Pats on each website in minute $i+1$ is related to those at minute $i$ by the matrix transformation\n",
        "\n",
        "$$ \\mathbf{r}^{(i+1)} = L \\,\\mathbf{r}^{(i)}$$\n",
        "with the matrix $L$ taking the form,\n",
        "$$ L = \\begin{bmatrix}\n",
        "L_{A→A} & L_{B→A} & L_{C→A} & L_{D→A} & L_{E→A} & L_{F→A} \\\\\n",
        "L_{A→B} & L_{B→B} & L_{C→B} & L_{D→B} & L_{E→B} & L_{F→B} \\\\\n",
        "L_{A→C} & L_{B→C} & L_{C→C} & L_{D→C} & L_{E→C} & L_{F→C} \\\\\n",
        "L_{A→D} & L_{B→D} & L_{C→D} & L_{D→D} & L_{E→D} & L_{F→D} \\\\\n",
        "L_{A→E} & L_{B→E} & L_{C→E} & L_{D→E} & L_{E→E} & L_{F→E} \\\\\n",
        "L_{A→F} & L_{B→F} & L_{C→F} & L_{D→F} & L_{E→F} & L_{F→F} \\\\\n",
        "\\end{bmatrix}\n",
        "$$\n",
        "where the columns represent the probability of leaving a website for any other website, and sum to one.\n",
        "The rows determine how likely you are to enter a website from any other, though these need not add to one.\n",
        "The long time behaviour of this system is when $ \\mathbf{r}^{(i+1)} = \\mathbf{r}^{(i)}$, so we'll drop the superscripts here, and that allows us to write,\n",
        "$$ L \\,\\mathbf{r} = \\mathbf{r}$$\n",
        "\n",
        "which is an eigenvalue equation for the matrix $L$, with eigenvalue 1 (this is guaranteed by the probabalistic structure of the matrix $L$).\n",
        "\n",
        "Complete the matrix $L$ below, we've left out the column for which websites the *FaceSpace* website (F) links to.\n",
        "Remember, this is the probability to click on another website from this one, so each column should add to one (by scaling by the number of links)."
      ]
    },
    {
      "cell_type": "code",
      "execution_count": null,
      "metadata": {
        "collapsed": true,
        "id": "udga6-mwCf3L"
      },
      "outputs": [],
      "source": [
        "# Replace the ??? here with the probability of clicking a link to each website when leaving Website F (FaceSpace).\n",
        "L = np.array([[0,   1/2, 1/3, 0, 0,   0 ],\n",
        "              [1/3, 0,   0,   0, 1/2, 0 ],\n",
        "              [1/3, 1/2, 0,   1, 0,   1/2 ],\n",
        "              [1/3, 0,   1/3, 0, 1/2, 1/2 ],\n",
        "              [0,   0,   0,   0, 0,   0 ],\n",
        "              [0,   0,   1/3, 0, 0,   0 ]])"
      ]
    },
    {
      "cell_type": "markdown",
      "metadata": {
        "id": "4xKXSGilCf3L"
      },
      "source": [
        "In principle, we could use a linear algebra library, as below, to calculate the eigenvalues and vectors.\n",
        "And this would work for a small system. But this gets unmanagable for large systems.\n",
        "And since we only care about the principal eigenvector (the one with the largest eigenvalue, which will be 1 in this case), we can use the *power iteration method* which will scale better, and is faster for large systems.\n",
        "\n",
        "Use the code below to peek at the PageRank for this micro-internet."
      ]
    },
    {
      "cell_type": "code",
      "execution_count": null,
      "metadata": {
        "colab": {
          "base_uri": "https://localhost:8080/"
        },
        "id": "mZD2Gb5YCf3M",
        "outputId": "97a7b4d9-0d30-452e-d2dd-1eae9df7708b"
      },
      "outputs": [
        {
          "output_type": "execute_result",
          "data": {
            "text/plain": [
              "array([16.        ,  5.33333333, 40.        , 25.33333333,  0.        ,\n",
              "       13.33333333])"
            ]
          },
          "metadata": {},
          "execution_count": 5
        }
      ],
      "source": [
        "eVals, eVecs = la.eig(L) # Gets the eigenvalues and vectors\n",
        "order = np.absolute(eVals).argsort()[::-1] # Orders them by their eigenvalues\n",
        "eVals = eVals[order]\n",
        "eVecs = eVecs[:,order]\n",
        "\n",
        "r = eVecs[:, 0] # Sets r to be the principal eigenvector\n",
        "100 * np.real(r / np.sum(r)) # Make this eigenvector sum to one, then multiply by 100 Procrastinating Pats"
      ]
    },
    {
      "cell_type": "markdown",
      "metadata": {
        "id": "AaXywYZwCf3N"
      },
      "source": [
        "We can see from this list, the number of Procrastinating Pats that we expect to find on each website after long times.\n",
        "Putting them in order of *popularity* (based on this metric), the PageRank of this micro-internet is:\n",
        "\n",
        "**C**atBabel, **D**romeda, **A**vocado, **F**aceSpace, **B**ullseye, **e**Tings\n",
        "\n",
        "Referring back to the micro-internet diagram, is this what you would have expected?\n",
        "Convince yourself that based on which pages seem important given which others link to them, that this is a sensible ranking.\n",
        "\n",
        "Let's now try to get the same result using the Power-Iteration method that was covered in the video.\n",
        "This method will be much better at dealing with large systems.\n",
        "\n",
        "First let's set up our initial vector, $\\mathbf{r}^{(0)}$, so that we have our 100 Procrastinating Pats equally distributed on each of our 6 websites."
      ]
    },
    {
      "cell_type": "code",
      "execution_count": null,
      "metadata": {
        "colab": {
          "base_uri": "https://localhost:8080/"
        },
        "id": "in5JQXglCf3O",
        "outputId": "11529adf-07e9-47f8-bf45-55fa5ffa6678"
      },
      "outputs": [
        {
          "output_type": "execute_result",
          "data": {
            "text/plain": [
              "array([16.66666667, 16.66666667, 16.66666667, 16.66666667, 16.66666667,\n",
              "       16.66666667])"
            ]
          },
          "metadata": {},
          "execution_count": 6
        }
      ],
      "source": [
        "r = 100 * np.ones(6) / 6 # Sets up this vector (6 entries of 1/6 × 100 each)\n",
        "r # Shows it's value"
      ]
    },
    {
      "cell_type": "markdown",
      "metadata": {
        "id": "6MfWl44CCf3P"
      },
      "source": [
        "Next, let's update the vector to the next minute, with the matrix $L$.\n",
        "Run the following cell multiple times, until the answer stabilises."
      ]
    },
    {
      "cell_type": "code",
      "execution_count": null,
      "metadata": {
        "colab": {
          "base_uri": "https://localhost:8080/"
        },
        "id": "x52tjEnHCf3Q",
        "outputId": "d7cca7c0-9053-464b-ea09-ead2a4e4ccd0"
      },
      "outputs": [
        {
          "output_type": "execute_result",
          "data": {
            "text/plain": [
              "array([13.88888889, 13.88888889, 38.88888889, 27.77777778,  0.        ,\n",
              "        5.55555556])"
            ]
          },
          "metadata": {},
          "execution_count": 7
        }
      ],
      "source": [
        "r = L @ r # Apply matrix L to r\n",
        "r # Show it's value\n",
        "# Re-run this cell multiple times to converge to the correct answer."
      ]
    },
    {
      "cell_type": "markdown",
      "metadata": {
        "id": "C9szdF94Cf3Q"
      },
      "source": [
        "We can automate applying this matrix multiple times as follows,"
      ]
    },
    {
      "cell_type": "code",
      "execution_count": null,
      "metadata": {
        "colab": {
          "base_uri": "https://localhost:8080/"
        },
        "id": "k3d-7moSCf3R",
        "outputId": "1d66ccb2-a5cb-4e31-94ae-9b71dbf2a1cd"
      },
      "outputs": [
        {
          "output_type": "execute_result",
          "data": {
            "text/plain": [
              "array([16.        ,  5.33333333, 40.        , 25.33333333,  0.        ,\n",
              "       13.33333333])"
            ]
          },
          "metadata": {},
          "execution_count": 8
        }
      ],
      "source": [
        "r = 100 * np.ones(6) / 6 # Sets up this vector (6 entries of 1/6 × 100 each)\n",
        "for i in np.arange(100) : # Repeat 100 times\n",
        "    r = L @ r\n",
        "r"
      ]
    },
    {
      "cell_type": "markdown",
      "metadata": {
        "id": "elIAj_HeCf3S"
      },
      "source": [
        "Or even better, we can keep running until we get to the required tolerance."
      ]
    },
    {
      "cell_type": "code",
      "execution_count": null,
      "metadata": {
        "colab": {
          "base_uri": "https://localhost:8080/"
        },
        "id": "AwfmwhKtCf3S",
        "outputId": "157a48d9-4e9e-44cd-da38-5598200f99d6"
      },
      "outputs": [
        {
          "output_type": "stream",
          "name": "stdout",
          "text": [
            "18 iterations to convergence.\n"
          ]
        },
        {
          "output_type": "execute_result",
          "data": {
            "text/plain": [
              "array([16.00149917,  5.33252025, 39.99916911, 25.3324738 ,  0.        ,\n",
              "       13.33433767])"
            ]
          },
          "metadata": {},
          "execution_count": 9
        }
      ],
      "source": [
        "r = 100 * np.ones(6) / 6 # Sets up this vector (6 entries of 1/6 × 100 each)\n",
        "lastR = r\n",
        "r = L @ r\n",
        "i = 0\n",
        "while la.norm(lastR - r) > 0.01 :\n",
        "    lastR = r\n",
        "    r = L @ r\n",
        "    i += 1\n",
        "print(str(i) + \" iterations to convergence.\")\n",
        "r"
      ]
    },
    {
      "cell_type": "markdown",
      "metadata": {
        "id": "J63ziInNCf3T"
      },
      "source": [
        "See how the PageRank order is established fairly quickly, and the vector converges on the value we calculated earlier after a few tens of repeats.\n",
        "\n",
        "Congratulations! You've just calculated your first PageRank!"
      ]
    },
    {
      "cell_type": "markdown",
      "metadata": {
        "id": "uwXpISlZCf3T"
      },
      "source": [
        "### Damping Parameter\n",
        "The system we just studied converged fairly quickly to the correct answer.\n",
        "Let's consider an extension to our micro-internet where things start to go wrong.\n",
        "\n",
        "Say a new website is added to the micro-internet: *Geoff's* Website.\n",
        "This website is linked to by *FaceSpace* and only links to itself.\n",
        "![An Expanded Micro-Internet](readonly/internet2.png \"An Expanded Micro-Internet\")\n",
        "\n",
        "Intuitively, only *FaceSpace*, which is in the bottom half of the page rank, links to this website amongst the two others it links to,\n",
        "so we might expect *Geoff's* site to have a correspondingly low PageRank score.\n",
        "\n",
        "Build the new $L$ matrix for the expanded micro-internet, and use Power-Iteration on the Procrastinating Pat vector.\n",
        "See what happens…"
      ]
    },
    {
      "cell_type": "code",
      "execution_count": null,
      "metadata": {
        "collapsed": true,
        "id": "owfBSRszCf3U"
      },
      "outputs": [],
      "source": [
        " # We'll call this one L2, to distinguish it from the previous L.\n",
        "L2 = np.array([[0,   1/2, 1/3, 0, 0,   0, 0 ],\n",
        "               [1/3, 0,   0,   0, 1/2, 0, 0 ],\n",
        "               [1/3, 1/2, 0,   1, 0,   0, 0 ],\n",
        "               [1/3, 0,   1/3, 0, 1/2, 0, 0 ],\n",
        "               [0,   0,   0,   0, 0,   0, 0 ],\n",
        "               [0,   0,   1/3, 0, 0,   1, 0 ],\n",
        "               [0,   0,   0,   0, 0,   0, 1 ]])"
      ]
    },
    {
      "cell_type": "code",
      "execution_count": null,
      "metadata": {
        "id": "kv1l3SScCf3U",
        "outputId": "1479530a-18d1-4c4b-ec21-223a3d3fb736"
      },
      "outputs": [
        {
          "name": "stdout",
          "output_type": "stream",
          "text": [
            "46 iterations to convergence.\n"
          ]
        },
        {
          "data": {
            "text/plain": [
              "array([  0.01077429,   0.00420324,   0.02131321,   0.01251789,\n",
              "         0.        ,  85.66547709,  14.28571429])"
            ]
          },
          "execution_count": 39,
          "metadata": {},
          "output_type": "execute_result"
        }
      ],
      "source": [
        "r = 100 * np.ones(7) / 7 # Sets up this vector (6 entries of 1/6 × 100 each)\n",
        "lastR = r\n",
        "r = L2 @ r\n",
        "i = 0\n",
        "while la.norm(lastR - r) > 0.01 :\n",
        "    lastR = r\n",
        "    r = L2 @ r\n",
        "    i += 1\n",
        "print(str(i) + \" iterations to convergence.\")\n",
        "r"
      ]
    },
    {
      "cell_type": "markdown",
      "metadata": {
        "id": "EZjC-XoMCf3V"
      },
      "source": [
        "That's no good! *Geoff* seems to be taking all the traffic on the micro-internet, and somehow coming at the top of the PageRank.\n",
        "This behaviour can be understood, because once a Pat get's to *Geoff's* Website, they can't leave, as all links head back to Geoff.\n",
        "\n",
        "To combat this, we can add a small probability that the Procrastinating Pats don't follow any link on a webpage, but instead visit a website on the micro-internet at random.\n",
        "We'll say the probability of them following a link is $d$ and the probability of choosing a random website is therefore $1-d$.\n",
        "We can use a new matrix to work out where the Pat's visit each minute.\n",
        "$$ M = d \\, L + \\frac{1-d}{n} \\, J $$\n",
        "where $J$ is an $n\\times n$ matrix where every element is one.\n",
        "\n",
        "If $d$ is one, we have the case we had previously, whereas if $d$ is zero, we will always visit a random webpage and therefore all webpages will be equally likely and equally ranked.\n",
        "For this extension to work best, $1-d$ should be somewhat small - though we won't go into a discussion about exactly how small.\n",
        "\n",
        "Let's retry this PageRank with this extension."
      ]
    },
    {
      "cell_type": "code",
      "execution_count": null,
      "metadata": {
        "collapsed": true,
        "id": "MioJXFUMCf3V"
      },
      "outputs": [],
      "source": [
        "d = 0.5 # Feel free to play with this parameter after running the code once.\n",
        "M = d * L2 + (1-d)/7 * np.ones([7, 7]) # np.ones() is the J matrix, with ones for each entry."
      ]
    },
    {
      "cell_type": "code",
      "execution_count": null,
      "metadata": {
        "colab": {
          "base_uri": "https://localhost:8080/"
        },
        "id": "tcD4TfaSCf3V",
        "outputId": "cb9ca1be-020a-4055-c3bd-c8a53d0755bb"
      },
      "outputs": [
        {
          "output_type": "stream",
          "name": "stdout",
          "text": [
            "8 iterations to convergence.\n"
          ]
        },
        {
          "output_type": "execute_result",
          "data": {
            "text/plain": [
              "array([13.13619674, 11.11812027, 19.27885503, 14.33173875,  7.14285714,\n",
              "       20.70651779, 14.28571429])"
            ]
          },
          "metadata": {},
          "execution_count": 12
        }
      ],
      "source": [
        "r = 100 * np.ones(7) / 7 # Sets up this vector (6 entries of 1/6 × 100 each)\n",
        "lastR = r\n",
        "r = M @ r\n",
        "i = 0\n",
        "while la.norm(lastR - r) > 0.01 :\n",
        "    lastR = r\n",
        "    r = M @ r\n",
        "    i += 1\n",
        "print(str(i) + \" iterations to convergence.\")\n",
        "r"
      ]
    },
    {
      "cell_type": "markdown",
      "metadata": {
        "id": "KEN9FHmiCf3W"
      },
      "source": [
        "This is certainly better, the PageRank gives sensible numbers for the Procrastinating Pats that end up on each webpage.\n",
        "This method still predicts Geoff has a high ranking webpage however.\n",
        "This could be seen as a consequence of using a small network. We could also get around the problem by not counting self-links when producing the L matrix (an if a website has no outgoing links, make it link to all websites equally).\n",
        "We won't look further down this route, as this is in the realm of improvements to PageRank, rather than eigenproblems.\n",
        "\n",
        "You are now in a good position, having gained an understanding of PageRank, to produce your own code to calculate the PageRank of a website with thousands of entries.\n",
        "\n",
        "Good Luck!"
      ]
    },
    {
      "cell_type": "markdown",
      "metadata": {
        "id": "V1dj3uQ7Cf3W"
      },
      "source": [
        "## Part 2 - Assessment\n",
        "In this assessment, you will be asked to produce a function that can calculate the PageRank for an arbitrarily large probability matrix.\n",
        "This, the final assignment of the course, will give less guidance than previous assessments.\n",
        "You will be expected to utilise code from earlier in the worksheet and re-purpose it to your needs.\n",
        "\n",
        "### How to submit\n",
        "Edit the code in the cell below to complete the assignment.\n",
        "Once you are finished and happy with it, press the *Submit Assignment* button at the top of this notebook.\n",
        "\n",
        "Please don't change any of the function names, as these will be checked by the grading script.\n",
        "\n",
        "If you have further questions about submissions or programming assignments, here is a [list](https://www.coursera.org/learn/linear-algebra-machine-learning/discussions/weeks/1/threads/jB4klkn5EeibtBIQyzFmQg) of Q&A. You can also raise an issue on the discussion forum. Good luck!"
      ]
    },
    {
      "cell_type": "code",
      "execution_count": null,
      "metadata": {
        "collapsed": true,
        "id": "5VB--amxCf3X"
      },
      "outputs": [],
      "source": [
        "# PACKAGE\n",
        "# Here are the imports again, just in case you need them.\n",
        "# There is no need to edit or submit this cell.\n",
        "import numpy as np\n",
        "import numpy.linalg as la\n",
        "#from readonly.PageRankFunctions import *\n",
        "np.set_printoptions(suppress=True)"
      ]
    },
    {
      "cell_type": "code",
      "execution_count": null,
      "metadata": {
        "collapsed": true,
        "id": "iULbAnaMCf3X"
      },
      "outputs": [],
      "source": [
        "# GRADED FUNCTION\n",
        "# Complete this function to provide the PageRank for an arbitrarily sized internet.\n",
        "# I.e. the principal eigenvector of the damped system, using the power iteration method.\n",
        "# (Normalisation doesn't matter here)\n",
        "# The functions inputs are the linkMatrix, and d the damping parameter - as defined in this worksheet.\n",
        "# (The damping parameter, d, will be set by the function - no need to set this yourself.)\n",
        "def pageRank(linkMatrix, d) :\n",
        "    n = linkMatrix.shape[0]\n",
        "    M = d * linkMatrix + (1-d)/n * np.ones([n, n])\n",
        "    r = 100 * np.ones(n) / n \n",
        "    last = r\n",
        "    r = M @ r\n",
        "    while la.norm(last - r) > 0.01 :\n",
        "        last = r\n",
        "        r = M @ r\n",
        "    \n",
        "    \n",
        "    return r\n"
      ]
    },
    {
      "cell_type": "markdown",
      "metadata": {
        "id": "JTCH18Q2Cf3X"
      },
      "source": [
        "## Test your code before submission\n",
        "To test the code you've written above, run the cell (select the cell above, then press the play button [ ▶| ] or press shift-enter).\n",
        "You can then use the code below to test out your function.\n",
        "You don't need to submit this cell; you can edit and run it as much as you like."
      ]
    },
    {
      "cell_type": "code",
      "execution_count": null,
      "metadata": {
        "colab": {
          "base_uri": "https://localhost:8080/",
          "height": 106
        },
        "id": "ckTxEm5jCf3Y",
        "outputId": "6fdf9f3d-1514-4992-f745-661c9871a014"
      },
      "outputs": [
        {
          "output_type": "execute_result",
          "data": {
            "text/plain": [
              "array([[0. , 0. , 0. , 0.2, 0.2],\n",
              "       [1. , 1. , 1. , 0.2, 0.2],\n",
              "       [0. , 0. , 0. , 0.2, 0.2],\n",
              "       [0. , 0. , 0. , 0.2, 0.2],\n",
              "       [0. , 0. , 0. , 0.2, 0.2]])"
            ]
          },
          "metadata": {},
          "execution_count": 28
        }
      ],
      "source": [
        "# Use the following function to generate internets of different sizes.\n",
        "generate_internet(5)"
      ]
    },
    {
      "cell_type": "code",
      "execution_count": null,
      "metadata": {
        "collapsed": true,
        "id": "EjzGYZgRCf3Y"
      },
      "outputs": [],
      "source": [
        "# Test your PageRank method against the built in \"eig\" method.\n",
        "# You should see yours is a lot faster for large internets\n",
        "L = generate_internet(10)"
      ]
    },
    {
      "cell_type": "code",
      "execution_count": null,
      "metadata": {
        "id": "S4l7p450Cf3Z"
      },
      "outputs": [],
      "source": [
        "pageRank(L, 1)"
      ]
    },
    {
      "cell_type": "code",
      "execution_count": null,
      "metadata": {
        "id": "UXitNjkzCf3Z"
      },
      "outputs": [],
      "source": [
        "# Do note, this is calculating the eigenvalues of the link matrix, L,\n",
        "# without any damping. It may give different results that your pageRank function.\n",
        "# If you wish, you could modify this cell to include damping.\n",
        "# (There is no credit for this though)\n",
        "eVals, eVecs = la.eig(L) # Gets the eigenvalues and vectors\n",
        "order = np.absolute(eVals).argsort()[::-1] # Orders them by their eigenvalues\n",
        "eVals = eVals[order]\n",
        "eVecs = eVecs[:,order]\n",
        "\n",
        "r = eVecs[:, 0]\n",
        "100 * np.real(r / np.sum(r))"
      ]
    },
    {
      "cell_type": "code",
      "execution_count": null,
      "metadata": {
        "id": "UZBK9R-jCf3a"
      },
      "outputs": [],
      "source": [
        "# You may wish to view the PageRank graphically.\n",
        "# This code will draw a bar chart, for each (numbered) website on the generated internet,\n",
        "# The height of each bar will be the score in the PageRank.\n",
        "# Run this code to see the PageRank for each internet you generate.\n",
        "# Hopefully you should see what you might expect\n",
        "# - there are a few clusters of important websites, but most on the internet are rubbish!\n",
        "%pylab notebook\n",
        "r = pageRank(generate_internet(100), 0.9)\n",
        "plt.bar(arange(r.shape[0]), r);"
      ]
    },
    {
      "cell_type": "code",
      "execution_count": null,
      "metadata": {
        "collapsed": true,
        "id": "cXYffyc9Cf3a"
      },
      "outputs": [],
      "source": [
        ""
      ]
    }
  ],
  "metadata": {
    "coursera": {
      "course_slug": "linear-algebra-machine-learning",
      "graded_item_id": "Sfbnp",
      "launcher_item_id": "aPxf3"
    },
    "kernelspec": {
      "display_name": "Python 3",
      "language": "python",
      "name": "python3"
    },
    "language_info": {
      "codemirror_mode": {
        "name": "ipython",
        "version": 3
      },
      "file_extension": ".py",
      "mimetype": "text/x-python",
      "name": "python",
      "nbconvert_exporter": "python",
      "pygments_lexer": "ipython3",
      "version": "3.6.2"
    },
    "colab": {
      "name": "PageRank.ipynb",
      "provenance": [],
      "include_colab_link": true
    }
  },
  "nbformat": 4,
  "nbformat_minor": 0
}